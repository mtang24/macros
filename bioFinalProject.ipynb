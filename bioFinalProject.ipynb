{
 "cells": [
  {
   "cell_type": "code",
   "execution_count": 1,
   "id": "2bff8e63-b59f-4923-b856-0d18a93613c2",
   "metadata": {},
   "outputs": [],
   "source": [
    "import pandas as pd\n",
    "import numpy as np\n",
    "import plotly.express as px"
   ]
  },
  {
   "cell_type": "code",
   "execution_count": 2,
   "id": "80daa896-c539-4567-bef1-5f6509c0bf2e",
   "metadata": {},
   "outputs": [
    {
     "data": {
      "text/html": [
       "<div>\n",
       "<style scoped>\n",
       "    .dataframe tbody tr th:only-of-type {\n",
       "        vertical-align: middle;\n",
       "    }\n",
       "\n",
       "    .dataframe tbody tr th {\n",
       "        vertical-align: top;\n",
       "    }\n",
       "\n",
       "    .dataframe thead th {\n",
       "        text-align: right;\n",
       "    }\n",
       "</style>\n",
       "<table border=\"1\" class=\"dataframe\">\n",
       "  <thead>\n",
       "    <tr style=\"text-align: right;\">\n",
       "      <th></th>\n",
       "      <th>subject</th>\n",
       "      <th>Age</th>\n",
       "      <th>Gender</th>\n",
       "      <th>BMI</th>\n",
       "      <th>Body weight</th>\n",
       "      <th>Height</th>\n",
       "      <th>Self-identify</th>\n",
       "      <th>A1c PDL (Lab)</th>\n",
       "      <th>Fasting GLU - PDL (Lab)</th>\n",
       "      <th>Insulin</th>\n",
       "      <th>...</th>\n",
       "      <th>LDL (Cal)</th>\n",
       "      <th>VLDL (Cal)</th>\n",
       "      <th>Cho/HDL Ratio</th>\n",
       "      <th>Collection time PDL (Lab)</th>\n",
       "      <th>#1 Contour Fingerstick GLU</th>\n",
       "      <th>Time (t)</th>\n",
       "      <th>#2 Contour Fingerstick GLU</th>\n",
       "      <th>Time (t).1</th>\n",
       "      <th>#3 Contour Fingerstick GLU</th>\n",
       "      <th>Time (t).2</th>\n",
       "    </tr>\n",
       "  </thead>\n",
       "  <tbody>\n",
       "    <tr>\n",
       "      <th>0</th>\n",
       "      <td>1</td>\n",
       "      <td>27</td>\n",
       "      <td>M</td>\n",
       "      <td>22.265239</td>\n",
       "      <td>133.8</td>\n",
       "      <td>65.00</td>\n",
       "      <td>Hispanic/Latino</td>\n",
       "      <td>5.4</td>\n",
       "      <td>91</td>\n",
       "      <td>2.5</td>\n",
       "      <td>...</td>\n",
       "      <td>130</td>\n",
       "      <td>13</td>\n",
       "      <td>2.9</td>\n",
       "      <td>11:06:00 AM</td>\n",
       "      <td>89</td>\n",
       "      <td>9:40</td>\n",
       "      <td>73</td>\n",
       "      <td>12:11</td>\n",
       "      <td>81</td>\n",
       "      <td>13:18</td>\n",
       "    </tr>\n",
       "    <tr>\n",
       "      <th>1</th>\n",
       "      <td>2</td>\n",
       "      <td>49</td>\n",
       "      <td>F</td>\n",
       "      <td>30.946742</td>\n",
       "      <td>169.2</td>\n",
       "      <td>62.00</td>\n",
       "      <td>Hispanic/Latino</td>\n",
       "      <td>5.5</td>\n",
       "      <td>93</td>\n",
       "      <td>14.8</td>\n",
       "      <td>...</td>\n",
       "      <td>78</td>\n",
       "      <td>12</td>\n",
       "      <td>2.0</td>\n",
       "      <td>7:38:00 AM</td>\n",
       "      <td>91</td>\n",
       "      <td>7:52</td>\n",
       "      <td>123</td>\n",
       "      <td>9:21</td>\n",
       "      <td>80</td>\n",
       "      <td>10:22</td>\n",
       "    </tr>\n",
       "    <tr>\n",
       "      <th>2</th>\n",
       "      <td>3</td>\n",
       "      <td>59</td>\n",
       "      <td>F</td>\n",
       "      <td>26.948690</td>\n",
       "      <td>157.0</td>\n",
       "      <td>64.00</td>\n",
       "      <td>Hispanic/Latino</td>\n",
       "      <td>6.5</td>\n",
       "      <td>118</td>\n",
       "      <td>17.4</td>\n",
       "      <td>...</td>\n",
       "      <td>90</td>\n",
       "      <td>31</td>\n",
       "      <td>2.6</td>\n",
       "      <td>7:25:00 AM</td>\n",
       "      <td>119</td>\n",
       "      <td>7:38</td>\n",
       "      <td>166</td>\n",
       "      <td>9:23</td>\n",
       "      <td>98</td>\n",
       "      <td>10:23</td>\n",
       "    </tr>\n",
       "    <tr>\n",
       "      <th>3</th>\n",
       "      <td>4</td>\n",
       "      <td>33</td>\n",
       "      <td>F</td>\n",
       "      <td>42.384279</td>\n",
       "      <td>262.6</td>\n",
       "      <td>66.00</td>\n",
       "      <td>Hispanic/Latino</td>\n",
       "      <td>5.5</td>\n",
       "      <td>105</td>\n",
       "      <td>19.4</td>\n",
       "      <td>...</td>\n",
       "      <td>164</td>\n",
       "      <td>60</td>\n",
       "      <td>5.8</td>\n",
       "      <td>7:20:00 AM</td>\n",
       "      <td>109</td>\n",
       "      <td>7:37</td>\n",
       "      <td>110</td>\n",
       "      <td>9:04</td>\n",
       "      <td>90</td>\n",
       "      <td>10:01</td>\n",
       "    </tr>\n",
       "    <tr>\n",
       "      <th>4</th>\n",
       "      <td>5</td>\n",
       "      <td>51</td>\n",
       "      <td>F</td>\n",
       "      <td>30.957534</td>\n",
       "      <td>172.0</td>\n",
       "      <td>62.50</td>\n",
       "      <td>Hispanic/Latino</td>\n",
       "      <td>6.6</td>\n",
       "      <td>144</td>\n",
       "      <td>12.9</td>\n",
       "      <td>...</td>\n",
       "      <td>157</td>\n",
       "      <td>78</td>\n",
       "      <td>7.1</td>\n",
       "      <td>7:45:00 AM</td>\n",
       "      <td>139</td>\n",
       "      <td>8:59</td>\n",
       "      <td>215</td>\n",
       "      <td>10:52</td>\n",
       "      <td>130</td>\n",
       "      <td>11:54</td>\n",
       "    </tr>\n",
       "    <tr>\n",
       "      <th>5</th>\n",
       "      <td>6</td>\n",
       "      <td>51</td>\n",
       "      <td>F</td>\n",
       "      <td>29.303451</td>\n",
       "      <td>197.0</td>\n",
       "      <td>68.75</td>\n",
       "      <td>White</td>\n",
       "      <td>5.2</td>\n",
       "      <td>96</td>\n",
       "      <td>6.4</td>\n",
       "      <td>...</td>\n",
       "      <td>118</td>\n",
       "      <td>15</td>\n",
       "      <td>2.8</td>\n",
       "      <td>7:45:00 AM</td>\n",
       "      <td>98</td>\n",
       "      <td>9:04</td>\n",
       "      <td>97</td>\n",
       "      <td>10:54</td>\n",
       "      <td>70</td>\n",
       "      <td>11:56</td>\n",
       "    </tr>\n",
       "    <tr>\n",
       "      <th>6</th>\n",
       "      <td>7</td>\n",
       "      <td>66</td>\n",
       "      <td>F</td>\n",
       "      <td>27.070327</td>\n",
       "      <td>199.6</td>\n",
       "      <td>72.00</td>\n",
       "      <td>Hispanic/Latino</td>\n",
       "      <td>5.9</td>\n",
       "      <td>108</td>\n",
       "      <td>15.9</td>\n",
       "      <td>...</td>\n",
       "      <td>67</td>\n",
       "      <td>18</td>\n",
       "      <td>3.0</td>\n",
       "      <td>8:00:00 AM</td>\n",
       "      <td>115</td>\n",
       "      <td>8:40</td>\n",
       "      <td>157</td>\n",
       "      <td>10:22</td>\n",
       "      <td>95</td>\n",
       "      <td>11:24</td>\n",
       "    </tr>\n",
       "    <tr>\n",
       "      <th>7</th>\n",
       "      <td>8</td>\n",
       "      <td>54</td>\n",
       "      <td>M</td>\n",
       "      <td>39.945440</td>\n",
       "      <td>218.4</td>\n",
       "      <td>62.00</td>\n",
       "      <td>Hispanic/Latino</td>\n",
       "      <td>5.8</td>\n",
       "      <td>112</td>\n",
       "      <td>17.7</td>\n",
       "      <td>...</td>\n",
       "      <td>95</td>\n",
       "      <td>29</td>\n",
       "      <td>3.0</td>\n",
       "      <td>8:55:00 AM</td>\n",
       "      <td>110</td>\n",
       "      <td>9:07</td>\n",
       "      <td>156</td>\n",
       "      <td>10:25</td>\n",
       "      <td>94</td>\n",
       "      <td>11:26</td>\n",
       "    </tr>\n",
       "    <tr>\n",
       "      <th>8</th>\n",
       "      <td>9</td>\n",
       "      <td>34</td>\n",
       "      <td>F</td>\n",
       "      <td>37.001506</td>\n",
       "      <td>183.2</td>\n",
       "      <td>59.00</td>\n",
       "      <td>Hispanic/Latino</td>\n",
       "      <td>5.7</td>\n",
       "      <td>122</td>\n",
       "      <td>25.7</td>\n",
       "      <td>...</td>\n",
       "      <td>108</td>\n",
       "      <td>62</td>\n",
       "      <td>5.1</td>\n",
       "      <td>7:32:00 AM</td>\n",
       "      <td>119</td>\n",
       "      <td>7:46</td>\n",
       "      <td>128</td>\n",
       "      <td>9:32</td>\n",
       "      <td>96</td>\n",
       "      <td>10:29</td>\n",
       "    </tr>\n",
       "    <tr>\n",
       "      <th>9</th>\n",
       "      <td>10</td>\n",
       "      <td>54</td>\n",
       "      <td>F</td>\n",
       "      <td>35.811892</td>\n",
       "      <td>195.8</td>\n",
       "      <td>62.00</td>\n",
       "      <td>Hispanic/Latino</td>\n",
       "      <td>5.7</td>\n",
       "      <td>100</td>\n",
       "      <td>15.3</td>\n",
       "      <td>...</td>\n",
       "      <td>110</td>\n",
       "      <td>20</td>\n",
       "      <td>3.3</td>\n",
       "      <td>7:44:00 AM</td>\n",
       "      <td>100</td>\n",
       "      <td>8:01</td>\n",
       "      <td>160</td>\n",
       "      <td>9:35</td>\n",
       "      <td>108</td>\n",
       "      <td>10:36</td>\n",
       "    </tr>\n",
       "    <tr>\n",
       "      <th>10</th>\n",
       "      <td>11</td>\n",
       "      <td>34</td>\n",
       "      <td>M</td>\n",
       "      <td>29.162720</td>\n",
       "      <td>186.2</td>\n",
       "      <td>67.00</td>\n",
       "      <td>Hispanic/Latino</td>\n",
       "      <td>5.7</td>\n",
       "      <td>109</td>\n",
       "      <td>11.6</td>\n",
       "      <td>...</td>\n",
       "      <td>125</td>\n",
       "      <td>49</td>\n",
       "      <td>5.7</td>\n",
       "      <td>7:48:00 AM</td>\n",
       "      <td>118</td>\n",
       "      <td>8:15</td>\n",
       "      <td>136</td>\n",
       "      <td>9:53</td>\n",
       "      <td>92</td>\n",
       "      <td>10:47</td>\n",
       "    </tr>\n",
       "    <tr>\n",
       "      <th>11</th>\n",
       "      <td>12</td>\n",
       "      <td>52</td>\n",
       "      <td>M</td>\n",
       "      <td>30.272873</td>\n",
       "      <td>205.0</td>\n",
       "      <td>69.00</td>\n",
       "      <td>Hispanic/Latino</td>\n",
       "      <td>7.1</td>\n",
       "      <td>179</td>\n",
       "      <td>13.5</td>\n",
       "      <td>...</td>\n",
       "      <td>800</td>\n",
       "      <td>400</td>\n",
       "      <td>400.0</td>\n",
       "      <td>7:17:00 AM</td>\n",
       "      <td>186</td>\n",
       "      <td>7:38</td>\n",
       "      <td>279</td>\n",
       "      <td>9:17</td>\n",
       "      <td>215</td>\n",
       "      <td>10:17</td>\n",
       "    </tr>\n",
       "    <tr>\n",
       "      <th>12</th>\n",
       "      <td>13</td>\n",
       "      <td>56</td>\n",
       "      <td>F</td>\n",
       "      <td>32.629425</td>\n",
       "      <td>178.4</td>\n",
       "      <td>62.00</td>\n",
       "      <td>Hispanic/Latino</td>\n",
       "      <td>6.2</td>\n",
       "      <td>103</td>\n",
       "      <td>18.3</td>\n",
       "      <td>...</td>\n",
       "      <td>146</td>\n",
       "      <td>22</td>\n",
       "      <td>3.9</td>\n",
       "      <td>7:30:00 AM</td>\n",
       "      <td>117</td>\n",
       "      <td>7:38</td>\n",
       "      <td>171</td>\n",
       "      <td>9:12</td>\n",
       "      <td>92</td>\n",
       "      <td>10:16</td>\n",
       "    </tr>\n",
       "    <tr>\n",
       "      <th>13</th>\n",
       "      <td>14</td>\n",
       "      <td>53</td>\n",
       "      <td>M</td>\n",
       "      <td>28.473590</td>\n",
       "      <td>181.8</td>\n",
       "      <td>67.00</td>\n",
       "      <td>Hispanic/Latino</td>\n",
       "      <td>7.1</td>\n",
       "      <td>147</td>\n",
       "      <td>10.7</td>\n",
       "      <td>...</td>\n",
       "      <td>81</td>\n",
       "      <td>18</td>\n",
       "      <td>3.2</td>\n",
       "      <td>7:30:00 AM</td>\n",
       "      <td>157</td>\n",
       "      <td>7:52</td>\n",
       "      <td>157</td>\n",
       "      <td>9:48</td>\n",
       "      <td>122</td>\n",
       "      <td>10:45</td>\n",
       "    </tr>\n",
       "    <tr>\n",
       "      <th>14</th>\n",
       "      <td>15</td>\n",
       "      <td>47</td>\n",
       "      <td>F</td>\n",
       "      <td>24.336277</td>\n",
       "      <td>128.8</td>\n",
       "      <td>61.00</td>\n",
       "      <td>Hispanic/Latino</td>\n",
       "      <td>5.4</td>\n",
       "      <td>89</td>\n",
       "      <td>3.3</td>\n",
       "      <td>...</td>\n",
       "      <td>160</td>\n",
       "      <td>25</td>\n",
       "      <td>3.6</td>\n",
       "      <td>7:31:00 AM</td>\n",
       "      <td>87</td>\n",
       "      <td>7:54</td>\n",
       "      <td>111</td>\n",
       "      <td>9:49</td>\n",
       "      <td>88</td>\n",
       "      <td>10:47</td>\n",
       "    </tr>\n",
       "    <tr>\n",
       "      <th>15</th>\n",
       "      <td>16</td>\n",
       "      <td>48</td>\n",
       "      <td>F</td>\n",
       "      <td>45.935133</td>\n",
       "      <td>284.6</td>\n",
       "      <td>66.00</td>\n",
       "      <td>African American</td>\n",
       "      <td>5.8</td>\n",
       "      <td>104</td>\n",
       "      <td>26.0</td>\n",
       "      <td>...</td>\n",
       "      <td>147</td>\n",
       "      <td>15</td>\n",
       "      <td>4.4</td>\n",
       "      <td>7:34:00 AM</td>\n",
       "      <td>92</td>\n",
       "      <td>7:57</td>\n",
       "      <td>87</td>\n",
       "      <td>9:41</td>\n",
       "      <td>86</td>\n",
       "      <td>10:38</td>\n",
       "    </tr>\n",
       "    <tr>\n",
       "      <th>16</th>\n",
       "      <td>17</td>\n",
       "      <td>33</td>\n",
       "      <td>F</td>\n",
       "      <td>22.693182</td>\n",
       "      <td>140.6</td>\n",
       "      <td>66.00</td>\n",
       "      <td>White</td>\n",
       "      <td>5.0</td>\n",
       "      <td>95</td>\n",
       "      <td>8.2</td>\n",
       "      <td>...</td>\n",
       "      <td>94</td>\n",
       "      <td>13</td>\n",
       "      <td>2.7</td>\n",
       "      <td>7:30:00 AM</td>\n",
       "      <td>100</td>\n",
       "      <td>7:37</td>\n",
       "      <td>120</td>\n",
       "      <td>9:15</td>\n",
       "      <td>95</td>\n",
       "      <td>10:15</td>\n",
       "    </tr>\n",
       "    <tr>\n",
       "      <th>17</th>\n",
       "      <td>18</td>\n",
       "      <td>18</td>\n",
       "      <td>M</td>\n",
       "      <td>38.058759</td>\n",
       "      <td>243.0</td>\n",
       "      <td>67.00</td>\n",
       "      <td>Hispanic/Latino</td>\n",
       "      <td>5.4</td>\n",
       "      <td>103</td>\n",
       "      <td>17.4</td>\n",
       "      <td>...</td>\n",
       "      <td>115</td>\n",
       "      <td>20</td>\n",
       "      <td>4.2</td>\n",
       "      <td>7:40:00 AM</td>\n",
       "      <td>104</td>\n",
       "      <td>7:53</td>\n",
       "      <td>100</td>\n",
       "      <td>9:17</td>\n",
       "      <td>67</td>\n",
       "      <td>10:18</td>\n",
       "    </tr>\n",
       "    <tr>\n",
       "      <th>18</th>\n",
       "      <td>19</td>\n",
       "      <td>40</td>\n",
       "      <td>F</td>\n",
       "      <td>36.429099</td>\n",
       "      <td>202.4</td>\n",
       "      <td>62.50</td>\n",
       "      <td>Hispanic/Latino</td>\n",
       "      <td>5.6</td>\n",
       "      <td>98</td>\n",
       "      <td>18.6</td>\n",
       "      <td>...</td>\n",
       "      <td>117</td>\n",
       "      <td>30</td>\n",
       "      <td>4.1</td>\n",
       "      <td>8:06:00 AM</td>\n",
       "      <td>98</td>\n",
       "      <td>8:40</td>\n",
       "      <td>93</td>\n",
       "      <td>10:19</td>\n",
       "      <td>97</td>\n",
       "      <td>11:17</td>\n",
       "    </tr>\n",
       "    <tr>\n",
       "      <th>19</th>\n",
       "      <td>20</td>\n",
       "      <td>59</td>\n",
       "      <td>F</td>\n",
       "      <td>35.953334</td>\n",
       "      <td>206.2</td>\n",
       "      <td>63.50</td>\n",
       "      <td>African American</td>\n",
       "      <td>6.4</td>\n",
       "      <td>119</td>\n",
       "      <td>17.3</td>\n",
       "      <td>...</td>\n",
       "      <td>132</td>\n",
       "      <td>29</td>\n",
       "      <td>4.4</td>\n",
       "      <td>7:38:00 AM</td>\n",
       "      <td>121</td>\n",
       "      <td>7:49</td>\n",
       "      <td>186</td>\n",
       "      <td>9:22</td>\n",
       "      <td>122</td>\n",
       "      <td>10:26</td>\n",
       "    </tr>\n",
       "    <tr>\n",
       "      <th>20</th>\n",
       "      <td>21</td>\n",
       "      <td>63</td>\n",
       "      <td>F</td>\n",
       "      <td>25.665956</td>\n",
       "      <td>142.6</td>\n",
       "      <td>62.50</td>\n",
       "      <td>African American</td>\n",
       "      <td>5.3</td>\n",
       "      <td>98</td>\n",
       "      <td>9.3</td>\n",
       "      <td>...</td>\n",
       "      <td>115</td>\n",
       "      <td>13</td>\n",
       "      <td>3.5</td>\n",
       "      <td>7:48:00 AM</td>\n",
       "      <td>96</td>\n",
       "      <td>7:57</td>\n",
       "      <td>82</td>\n",
       "      <td>9:25</td>\n",
       "      <td>92</td>\n",
       "      <td>10:24</td>\n",
       "    </tr>\n",
       "    <tr>\n",
       "      <th>21</th>\n",
       "      <td>22</td>\n",
       "      <td>69</td>\n",
       "      <td>F</td>\n",
       "      <td>20.689962</td>\n",
       "      <td>116.8</td>\n",
       "      <td>63.00</td>\n",
       "      <td>White</td>\n",
       "      <td>5.9</td>\n",
       "      <td>107</td>\n",
       "      <td>3.2</td>\n",
       "      <td>...</td>\n",
       "      <td>98</td>\n",
       "      <td>12</td>\n",
       "      <td>2.0</td>\n",
       "      <td>7:48:00 AM</td>\n",
       "      <td>112</td>\n",
       "      <td>8:08</td>\n",
       "      <td>98</td>\n",
       "      <td>9:56</td>\n",
       "      <td>104</td>\n",
       "      <td>10:55</td>\n",
       "    </tr>\n",
       "    <tr>\n",
       "      <th>22</th>\n",
       "      <td>23</td>\n",
       "      <td>55</td>\n",
       "      <td>M</td>\n",
       "      <td>24.244839</td>\n",
       "      <td>154.8</td>\n",
       "      <td>67.00</td>\n",
       "      <td>Hispanic/Latino</td>\n",
       "      <td>6.2</td>\n",
       "      <td>135</td>\n",
       "      <td>5.2</td>\n",
       "      <td>...</td>\n",
       "      <td>133</td>\n",
       "      <td>15</td>\n",
       "      <td>3.8</td>\n",
       "      <td>8:17:00 AM</td>\n",
       "      <td>140</td>\n",
       "      <td>8:25</td>\n",
       "      <td>193</td>\n",
       "      <td>9:45</td>\n",
       "      <td>94</td>\n",
       "      <td>10:45</td>\n",
       "    </tr>\n",
       "    <tr>\n",
       "      <th>23</th>\n",
       "      <td>26</td>\n",
       "      <td>35</td>\n",
       "      <td>M</td>\n",
       "      <td>31.167461</td>\n",
       "      <td>199.0</td>\n",
       "      <td>67.00</td>\n",
       "      <td>Hispanic/Latino</td>\n",
       "      <td>5.9</td>\n",
       "      <td>104</td>\n",
       "      <td>17.8</td>\n",
       "      <td>...</td>\n",
       "      <td>110</td>\n",
       "      <td>31</td>\n",
       "      <td>5.2</td>\n",
       "      <td>7:34:00 AM</td>\n",
       "      <td>108</td>\n",
       "      <td>7:50</td>\n",
       "      <td>117</td>\n",
       "      <td>9:06</td>\n",
       "      <td>105</td>\n",
       "      <td>10:16</td>\n",
       "    </tr>\n",
       "    <tr>\n",
       "      <th>24</th>\n",
       "      <td>27</td>\n",
       "      <td>24</td>\n",
       "      <td>F</td>\n",
       "      <td>27.126654</td>\n",
       "      <td>173.2</td>\n",
       "      <td>67.00</td>\n",
       "      <td>Hispanic/Latino</td>\n",
       "      <td>4.7</td>\n",
       "      <td>90</td>\n",
       "      <td>6.3</td>\n",
       "      <td>...</td>\n",
       "      <td>67</td>\n",
       "      <td>8</td>\n",
       "      <td>2.4</td>\n",
       "      <td>7:56:00 AM</td>\n",
       "      <td>80</td>\n",
       "      <td>8:18</td>\n",
       "      <td>96</td>\n",
       "      <td>9:32</td>\n",
       "      <td>92</td>\n",
       "      <td>10:28</td>\n",
       "    </tr>\n",
       "    <tr>\n",
       "      <th>25</th>\n",
       "      <td>28</td>\n",
       "      <td>59</td>\n",
       "      <td>F</td>\n",
       "      <td>39.996815</td>\n",
       "      <td>204.8</td>\n",
       "      <td>60.00</td>\n",
       "      <td>Hispanic/Latino</td>\n",
       "      <td>7.0</td>\n",
       "      <td>131</td>\n",
       "      <td>19.2</td>\n",
       "      <td>...</td>\n",
       "      <td>195</td>\n",
       "      <td>52</td>\n",
       "      <td>5.4</td>\n",
       "      <td>7:39:00 AM</td>\n",
       "      <td>127</td>\n",
       "      <td>7:50</td>\n",
       "      <td>179</td>\n",
       "      <td>9:10</td>\n",
       "      <td>104</td>\n",
       "      <td>10:11</td>\n",
       "    </tr>\n",
       "    <tr>\n",
       "      <th>26</th>\n",
       "      <td>29</td>\n",
       "      <td>52</td>\n",
       "      <td>M</td>\n",
       "      <td>29.517649</td>\n",
       "      <td>164.0</td>\n",
       "      <td>62.50</td>\n",
       "      <td>Hispanic/Latino</td>\n",
       "      <td>6.1</td>\n",
       "      <td>136</td>\n",
       "      <td>19.8</td>\n",
       "      <td>...</td>\n",
       "      <td>146</td>\n",
       "      <td>26</td>\n",
       "      <td>5.3</td>\n",
       "      <td>7:51:00 AM</td>\n",
       "      <td>130</td>\n",
       "      <td>8:01</td>\n",
       "      <td>167</td>\n",
       "      <td>9:23</td>\n",
       "      <td>115</td>\n",
       "      <td>10:23</td>\n",
       "    </tr>\n",
       "    <tr>\n",
       "      <th>27</th>\n",
       "      <td>30</td>\n",
       "      <td>60</td>\n",
       "      <td>F</td>\n",
       "      <td>34.010325</td>\n",
       "      <td>180.0</td>\n",
       "      <td>61.00</td>\n",
       "      <td>Hispanic/Latino</td>\n",
       "      <td>7.6</td>\n",
       "      <td>195</td>\n",
       "      <td>10.5</td>\n",
       "      <td>...</td>\n",
       "      <td>143</td>\n",
       "      <td>50</td>\n",
       "      <td>5.9</td>\n",
       "      <td>7:54:00 AM</td>\n",
       "      <td>175</td>\n",
       "      <td>8:03</td>\n",
       "      <td>281</td>\n",
       "      <td>9:09</td>\n",
       "      <td>247</td>\n",
       "      <td>10:10</td>\n",
       "    </tr>\n",
       "    <tr>\n",
       "      <th>28</th>\n",
       "      <td>31</td>\n",
       "      <td>46</td>\n",
       "      <td>F</td>\n",
       "      <td>23.111265</td>\n",
       "      <td>152.0</td>\n",
       "      <td>68.00</td>\n",
       "      <td>White</td>\n",
       "      <td>5.1</td>\n",
       "      <td>102</td>\n",
       "      <td>9.4</td>\n",
       "      <td>...</td>\n",
       "      <td>97</td>\n",
       "      <td>24</td>\n",
       "      <td>3.1</td>\n",
       "      <td>7:26:00 AM</td>\n",
       "      <td>102</td>\n",
       "      <td>7:34</td>\n",
       "      <td>111</td>\n",
       "      <td>8:38</td>\n",
       "      <td>101</td>\n",
       "      <td>9:39</td>\n",
       "    </tr>\n",
       "    <tr>\n",
       "      <th>29</th>\n",
       "      <td>32</td>\n",
       "      <td>64</td>\n",
       "      <td>M</td>\n",
       "      <td>22.920267</td>\n",
       "      <td>169.0</td>\n",
       "      <td>72.00</td>\n",
       "      <td>White</td>\n",
       "      <td>5.3</td>\n",
       "      <td>100</td>\n",
       "      <td>3.2</td>\n",
       "      <td>...</td>\n",
       "      <td>163</td>\n",
       "      <td>26</td>\n",
       "      <td>4.1</td>\n",
       "      <td>8:00:00 AM</td>\n",
       "      <td>95</td>\n",
       "      <td>8:23</td>\n",
       "      <td>130</td>\n",
       "      <td>9:31</td>\n",
       "      <td>86</td>\n",
       "      <td>10:31</td>\n",
       "    </tr>\n",
       "    <tr>\n",
       "      <th>30</th>\n",
       "      <td>33</td>\n",
       "      <td>40</td>\n",
       "      <td>M</td>\n",
       "      <td>30.038349</td>\n",
       "      <td>175.0</td>\n",
       "      <td>64.00</td>\n",
       "      <td>Hispanic/Latino</td>\n",
       "      <td>5.6</td>\n",
       "      <td>116</td>\n",
       "      <td>11.6</td>\n",
       "      <td>...</td>\n",
       "      <td>21</td>\n",
       "      <td>17</td>\n",
       "      <td>1.7</td>\n",
       "      <td>8:10:00 AM</td>\n",
       "      <td>120</td>\n",
       "      <td>8:20</td>\n",
       "      <td>210</td>\n",
       "      <td>9:22</td>\n",
       "      <td>135</td>\n",
       "      <td>10:22</td>\n",
       "    </tr>\n",
       "    <tr>\n",
       "      <th>31</th>\n",
       "      <td>34</td>\n",
       "      <td>24</td>\n",
       "      <td>M</td>\n",
       "      <td>25.801977</td>\n",
       "      <td>185.0</td>\n",
       "      <td>71.00</td>\n",
       "      <td>White</td>\n",
       "      <td>4.6</td>\n",
       "      <td>80</td>\n",
       "      <td>4.2</td>\n",
       "      <td>...</td>\n",
       "      <td>81</td>\n",
       "      <td>21</td>\n",
       "      <td>2.6</td>\n",
       "      <td>7:50:00 AM</td>\n",
       "      <td>90</td>\n",
       "      <td>8:01</td>\n",
       "      <td>88</td>\n",
       "      <td>9:02</td>\n",
       "      <td>86</td>\n",
       "      <td>10:04</td>\n",
       "    </tr>\n",
       "    <tr>\n",
       "      <th>32</th>\n",
       "      <td>35</td>\n",
       "      <td>45</td>\n",
       "      <td>F</td>\n",
       "      <td>28.733826</td>\n",
       "      <td>167.4</td>\n",
       "      <td>64.00</td>\n",
       "      <td>Hispanic/Latino</td>\n",
       "      <td>8.5</td>\n",
       "      <td>218</td>\n",
       "      <td>14.8</td>\n",
       "      <td>...</td>\n",
       "      <td>124</td>\n",
       "      <td>18</td>\n",
       "      <td>4.0</td>\n",
       "      <td>7:39:00 AM</td>\n",
       "      <td>220</td>\n",
       "      <td>7:55</td>\n",
       "      <td>314</td>\n",
       "      <td>8:53</td>\n",
       "      <td>243</td>\n",
       "      <td>9:55</td>\n",
       "    </tr>\n",
       "    <tr>\n",
       "      <th>33</th>\n",
       "      <td>36</td>\n",
       "      <td>61</td>\n",
       "      <td>M</td>\n",
       "      <td>24.985097</td>\n",
       "      <td>154.8</td>\n",
       "      <td>66.00</td>\n",
       "      <td>Hispanic/Latino</td>\n",
       "      <td>6.9</td>\n",
       "      <td>101</td>\n",
       "      <td>5.3</td>\n",
       "      <td>...</td>\n",
       "      <td>34</td>\n",
       "      <td>26</td>\n",
       "      <td>1.9</td>\n",
       "      <td>8:32:00 AM</td>\n",
       "      <td>105</td>\n",
       "      <td>8:41</td>\n",
       "      <td>170</td>\n",
       "      <td>9:43</td>\n",
       "      <td>154</td>\n",
       "      <td>10:44</td>\n",
       "    </tr>\n",
       "    <tr>\n",
       "      <th>34</th>\n",
       "      <td>38</td>\n",
       "      <td>52</td>\n",
       "      <td>M</td>\n",
       "      <td>34.457143</td>\n",
       "      <td>202.0</td>\n",
       "      <td>64.20</td>\n",
       "      <td>Hispanic/Latino</td>\n",
       "      <td>7.2</td>\n",
       "      <td>151</td>\n",
       "      <td>29.4</td>\n",
       "      <td>...</td>\n",
       "      <td>80</td>\n",
       "      <td>49</td>\n",
       "      <td>4.8</td>\n",
       "      <td>7:13:00 AM</td>\n",
       "      <td>150</td>\n",
       "      <td>7:35</td>\n",
       "      <td>175</td>\n",
       "      <td>8:35</td>\n",
       "      <td>186</td>\n",
       "      <td>9:41</td>\n",
       "    </tr>\n",
       "    <tr>\n",
       "      <th>35</th>\n",
       "      <td>39</td>\n",
       "      <td>45</td>\n",
       "      <td>F</td>\n",
       "      <td>26.922934</td>\n",
       "      <td>147.2</td>\n",
       "      <td>62.00</td>\n",
       "      <td>Hispanic/Latino</td>\n",
       "      <td>8.3</td>\n",
       "      <td>158</td>\n",
       "      <td>17.5</td>\n",
       "      <td>...</td>\n",
       "      <td>77</td>\n",
       "      <td>35</td>\n",
       "      <td>3.8</td>\n",
       "      <td>7:57:00 AM</td>\n",
       "      <td>165</td>\n",
       "      <td>8:06</td>\n",
       "      <td>233</td>\n",
       "      <td>9:08</td>\n",
       "      <td>234</td>\n",
       "      <td>10:09</td>\n",
       "    </tr>\n",
       "    <tr>\n",
       "      <th>36</th>\n",
       "      <td>41</td>\n",
       "      <td>58</td>\n",
       "      <td>F</td>\n",
       "      <td>27.850678</td>\n",
       "      <td>147.4</td>\n",
       "      <td>61.00</td>\n",
       "      <td>Hispanic/Latino</td>\n",
       "      <td>6.3</td>\n",
       "      <td>138</td>\n",
       "      <td>10.6</td>\n",
       "      <td>...</td>\n",
       "      <td>121</td>\n",
       "      <td>20</td>\n",
       "      <td>3.7</td>\n",
       "      <td>7:29:00 AM</td>\n",
       "      <td>134</td>\n",
       "      <td>7:46</td>\n",
       "      <td>210</td>\n",
       "      <td>8:46</td>\n",
       "      <td>151</td>\n",
       "      <td>9:49</td>\n",
       "    </tr>\n",
       "    <tr>\n",
       "      <th>37</th>\n",
       "      <td>42</td>\n",
       "      <td>51</td>\n",
       "      <td>F</td>\n",
       "      <td>43.268692</td>\n",
       "      <td>229.0</td>\n",
       "      <td>61.00</td>\n",
       "      <td>Hispanic/Latino</td>\n",
       "      <td>7.1</td>\n",
       "      <td>142</td>\n",
       "      <td>12.7</td>\n",
       "      <td>...</td>\n",
       "      <td>90</td>\n",
       "      <td>16</td>\n",
       "      <td>2.8</td>\n",
       "      <td>8:32:00 AM</td>\n",
       "      <td>134</td>\n",
       "      <td>8:44</td>\n",
       "      <td>184</td>\n",
       "      <td>9:57</td>\n",
       "      <td>131</td>\n",
       "      <td>10:47</td>\n",
       "    </tr>\n",
       "    <tr>\n",
       "      <th>38</th>\n",
       "      <td>43</td>\n",
       "      <td>45</td>\n",
       "      <td>F</td>\n",
       "      <td>49.088236</td>\n",
       "      <td>259.8</td>\n",
       "      <td>61.00</td>\n",
       "      <td>Hispanic/Latino</td>\n",
       "      <td>6.0</td>\n",
       "      <td>96</td>\n",
       "      <td>21.7</td>\n",
       "      <td>...</td>\n",
       "      <td>118</td>\n",
       "      <td>24</td>\n",
       "      <td>3.9</td>\n",
       "      <td>7:44:00 AM</td>\n",
       "      <td>103</td>\n",
       "      <td>7:53</td>\n",
       "      <td>143</td>\n",
       "      <td>8:56</td>\n",
       "      <td>80</td>\n",
       "      <td>9:55</td>\n",
       "    </tr>\n",
       "    <tr>\n",
       "      <th>39</th>\n",
       "      <td>44</td>\n",
       "      <td>60</td>\n",
       "      <td>F</td>\n",
       "      <td>35.918461</td>\n",
       "      <td>206.0</td>\n",
       "      <td>63.50</td>\n",
       "      <td>Black, African American</td>\n",
       "      <td>6.0</td>\n",
       "      <td>119</td>\n",
       "      <td>13.5</td>\n",
       "      <td>...</td>\n",
       "      <td>119</td>\n",
       "      <td>24</td>\n",
       "      <td>4.1</td>\n",
       "      <td>7:11:00 AM</td>\n",
       "      <td>127</td>\n",
       "      <td>7:27</td>\n",
       "      <td>183</td>\n",
       "      <td>8:30</td>\n",
       "      <td>115</td>\n",
       "      <td>9:35</td>\n",
       "    </tr>\n",
       "    <tr>\n",
       "      <th>40</th>\n",
       "      <td>45</td>\n",
       "      <td>46</td>\n",
       "      <td>F</td>\n",
       "      <td>32.881251</td>\n",
       "      <td>162.8</td>\n",
       "      <td>59.00</td>\n",
       "      <td>Hispanic/Latino</td>\n",
       "      <td>6.1</td>\n",
       "      <td>148</td>\n",
       "      <td>46.4</td>\n",
       "      <td>...</td>\n",
       "      <td>96</td>\n",
       "      <td>48</td>\n",
       "      <td>4.9</td>\n",
       "      <td>7:05:00 AM</td>\n",
       "      <td>142</td>\n",
       "      <td>7:23</td>\n",
       "      <td>244</td>\n",
       "      <td>8:24</td>\n",
       "      <td>122</td>\n",
       "      <td>9:38</td>\n",
       "    </tr>\n",
       "    <tr>\n",
       "      <th>41</th>\n",
       "      <td>46</td>\n",
       "      <td>51</td>\n",
       "      <td>M</td>\n",
       "      <td>28.160349</td>\n",
       "      <td>179.8</td>\n",
       "      <td>67.00</td>\n",
       "      <td>Hispanic/Latino</td>\n",
       "      <td>7.4</td>\n",
       "      <td>154</td>\n",
       "      <td>7.9</td>\n",
       "      <td>...</td>\n",
       "      <td>260</td>\n",
       "      <td>25</td>\n",
       "      <td>5.6</td>\n",
       "      <td>7:20:00 AM</td>\n",
       "      <td>144</td>\n",
       "      <td>7:29</td>\n",
       "      <td>247</td>\n",
       "      <td>8:35</td>\n",
       "      <td>200</td>\n",
       "      <td>9:43</td>\n",
       "    </tr>\n",
       "    <tr>\n",
       "      <th>42</th>\n",
       "      <td>47</td>\n",
       "      <td>62</td>\n",
       "      <td>M</td>\n",
       "      <td>31.377201</td>\n",
       "      <td>182.8</td>\n",
       "      <td>64.00</td>\n",
       "      <td>Hispanic/Latino</td>\n",
       "      <td>6.9</td>\n",
       "      <td>150</td>\n",
       "      <td>9.7</td>\n",
       "      <td>...</td>\n",
       "      <td>103</td>\n",
       "      <td>33</td>\n",
       "      <td>4.7</td>\n",
       "      <td>7:15:00 AM</td>\n",
       "      <td>157</td>\n",
       "      <td>7:25</td>\n",
       "      <td>211</td>\n",
       "      <td>8:31</td>\n",
       "      <td>148</td>\n",
       "      <td>9:31</td>\n",
       "    </tr>\n",
       "    <tr>\n",
       "      <th>43</th>\n",
       "      <td>48</td>\n",
       "      <td>22</td>\n",
       "      <td>F</td>\n",
       "      <td>21.133672</td>\n",
       "      <td>127.0</td>\n",
       "      <td>65.00</td>\n",
       "      <td>White</td>\n",
       "      <td>4.8</td>\n",
       "      <td>79</td>\n",
       "      <td>10.2</td>\n",
       "      <td>...</td>\n",
       "      <td>97</td>\n",
       "      <td>13</td>\n",
       "      <td>3.1</td>\n",
       "      <td>7:28:00 AM</td>\n",
       "      <td>86</td>\n",
       "      <td>7:43</td>\n",
       "      <td>84</td>\n",
       "      <td>8:45</td>\n",
       "      <td>97</td>\n",
       "      <td>9:45</td>\n",
       "    </tr>\n",
       "    <tr>\n",
       "      <th>44</th>\n",
       "      <td>49</td>\n",
       "      <td>58</td>\n",
       "      <td>F</td>\n",
       "      <td>36.090876</td>\n",
       "      <td>184.8</td>\n",
       "      <td>60.00</td>\n",
       "      <td>Hispanic/Latino</td>\n",
       "      <td>7.2</td>\n",
       "      <td>148</td>\n",
       "      <td>25.2</td>\n",
       "      <td>...</td>\n",
       "      <td>81</td>\n",
       "      <td>25</td>\n",
       "      <td>3.4</td>\n",
       "      <td>8:19:00 AM</td>\n",
       "      <td>145</td>\n",
       "      <td>8:35</td>\n",
       "      <td>257</td>\n",
       "      <td>9:33</td>\n",
       "      <td>182</td>\n",
       "      <td>10:37</td>\n",
       "    </tr>\n",
       "  </tbody>\n",
       "</table>\n",
       "<p>45 rows × 24 columns</p>\n",
       "</div>"
      ],
      "text/plain": [
       "    subject  Age Gender        BMI  Body weight   Height   \\\n",
       "0         1   27      M  22.265239         133.8    65.00   \n",
       "1         2   49      F  30.946742         169.2    62.00   \n",
       "2         3   59      F  26.948690         157.0    64.00   \n",
       "3         4   33      F  42.384279         262.6    66.00   \n",
       "4         5   51      F  30.957534         172.0    62.50   \n",
       "5         6   51      F  29.303451         197.0    68.75   \n",
       "6         7   66      F  27.070327         199.6    72.00   \n",
       "7         8   54      M  39.945440         218.4    62.00   \n",
       "8         9   34      F  37.001506         183.2    59.00   \n",
       "9        10   54      F  35.811892         195.8    62.00   \n",
       "10       11   34      M  29.162720         186.2    67.00   \n",
       "11       12   52      M  30.272873         205.0    69.00   \n",
       "12       13   56      F  32.629425         178.4    62.00   \n",
       "13       14   53      M  28.473590         181.8    67.00   \n",
       "14       15   47      F  24.336277         128.8    61.00   \n",
       "15       16   48      F  45.935133         284.6    66.00   \n",
       "16       17   33      F  22.693182         140.6    66.00   \n",
       "17       18   18      M  38.058759         243.0    67.00   \n",
       "18       19   40      F  36.429099         202.4    62.50   \n",
       "19       20   59      F  35.953334         206.2    63.50   \n",
       "20       21   63      F  25.665956         142.6    62.50   \n",
       "21       22   69      F  20.689962         116.8    63.00   \n",
       "22       23   55      M  24.244839         154.8    67.00   \n",
       "23       26   35      M  31.167461         199.0    67.00   \n",
       "24       27   24      F  27.126654         173.2    67.00   \n",
       "25       28   59      F  39.996815         204.8    60.00   \n",
       "26       29   52      M  29.517649         164.0    62.50   \n",
       "27       30   60      F  34.010325         180.0    61.00   \n",
       "28       31   46      F  23.111265         152.0    68.00   \n",
       "29       32   64      M  22.920267         169.0    72.00   \n",
       "30       33   40      M  30.038349         175.0    64.00   \n",
       "31       34   24      M  25.801977         185.0    71.00   \n",
       "32       35   45      F  28.733826         167.4    64.00   \n",
       "33       36   61      M  24.985097         154.8    66.00   \n",
       "34       38   52      M  34.457143         202.0    64.20   \n",
       "35       39   45      F  26.922934         147.2    62.00   \n",
       "36       41   58      F  27.850678         147.4    61.00   \n",
       "37       42   51      F  43.268692         229.0    61.00   \n",
       "38       43   45      F  49.088236         259.8    61.00   \n",
       "39       44   60      F  35.918461         206.0    63.50   \n",
       "40       45   46      F  32.881251         162.8    59.00   \n",
       "41       46   51      M  28.160349         179.8    67.00   \n",
       "42       47   62      M  31.377201         182.8    64.00   \n",
       "43       48   22      F  21.133672         127.0    65.00   \n",
       "44       49   58      F  36.090876         184.8    60.00   \n",
       "\n",
       "             Self-identify   A1c PDL (Lab)  Fasting GLU - PDL (Lab)  Insulin   \\\n",
       "0           Hispanic/Latino            5.4                       91       2.5   \n",
       "1           Hispanic/Latino            5.5                       93      14.8   \n",
       "2           Hispanic/Latino            6.5                      118      17.4   \n",
       "3           Hispanic/Latino            5.5                      105      19.4   \n",
       "4           Hispanic/Latino            6.6                      144      12.9   \n",
       "5                     White            5.2                       96       6.4   \n",
       "6           Hispanic/Latino            5.9                      108      15.9   \n",
       "7           Hispanic/Latino            5.8                      112      17.7   \n",
       "8           Hispanic/Latino            5.7                      122      25.7   \n",
       "9           Hispanic/Latino            5.7                      100      15.3   \n",
       "10          Hispanic/Latino            5.7                      109      11.6   \n",
       "11          Hispanic/Latino            7.1                      179      13.5   \n",
       "12          Hispanic/Latino            6.2                      103      18.3   \n",
       "13          Hispanic/Latino            7.1                      147      10.7   \n",
       "14          Hispanic/Latino            5.4                       89       3.3   \n",
       "15         African American            5.8                      104      26.0   \n",
       "16                    White            5.0                       95       8.2   \n",
       "17          Hispanic/Latino            5.4                      103      17.4   \n",
       "18          Hispanic/Latino            5.6                       98      18.6   \n",
       "19         African American            6.4                      119      17.3   \n",
       "20         African American            5.3                       98       9.3   \n",
       "21                    White            5.9                      107       3.2   \n",
       "22          Hispanic/Latino            6.2                      135       5.2   \n",
       "23          Hispanic/Latino            5.9                      104      17.8   \n",
       "24          Hispanic/Latino            4.7                       90       6.3   \n",
       "25          Hispanic/Latino            7.0                      131      19.2   \n",
       "26          Hispanic/Latino            6.1                      136      19.8   \n",
       "27          Hispanic/Latino            7.6                      195      10.5   \n",
       "28                    White            5.1                      102       9.4   \n",
       "29                    White            5.3                      100       3.2   \n",
       "30          Hispanic/Latino            5.6                      116      11.6   \n",
       "31                    White            4.6                       80       4.2   \n",
       "32          Hispanic/Latino            8.5                      218      14.8   \n",
       "33          Hispanic/Latino            6.9                      101       5.3   \n",
       "34          Hispanic/Latino            7.2                      151      29.4   \n",
       "35          Hispanic/Latino            8.3                      158      17.5   \n",
       "36          Hispanic/Latino            6.3                      138      10.6   \n",
       "37          Hispanic/Latino            7.1                      142      12.7   \n",
       "38          Hispanic/Latino            6.0                       96      21.7   \n",
       "39  Black, African American            6.0                      119      13.5   \n",
       "40          Hispanic/Latino            6.1                      148      46.4   \n",
       "41          Hispanic/Latino            7.4                      154       7.9   \n",
       "42          Hispanic/Latino            6.9                      150       9.7   \n",
       "43                    White            4.8                       79      10.2   \n",
       "44          Hispanic/Latino            7.2                      148      25.2   \n",
       "\n",
       "    ...  LDL (Cal)  VLDL (Cal)  Cho/HDL Ratio  Collection time PDL (Lab)  \\\n",
       "0   ...        130          13            2.9                11:06:00 AM   \n",
       "1   ...         78          12            2.0                 7:38:00 AM   \n",
       "2   ...         90          31            2.6                 7:25:00 AM   \n",
       "3   ...        164          60            5.8                 7:20:00 AM   \n",
       "4   ...        157          78            7.1                 7:45:00 AM   \n",
       "5   ...        118          15            2.8                 7:45:00 AM   \n",
       "6   ...         67          18            3.0                 8:00:00 AM   \n",
       "7   ...         95          29            3.0                 8:55:00 AM   \n",
       "8   ...        108          62            5.1                 7:32:00 AM   \n",
       "9   ...        110          20            3.3                 7:44:00 AM   \n",
       "10  ...        125          49            5.7                 7:48:00 AM   \n",
       "11  ...        800         400          400.0                 7:17:00 AM   \n",
       "12  ...        146          22            3.9                 7:30:00 AM   \n",
       "13  ...         81          18            3.2                 7:30:00 AM   \n",
       "14  ...        160          25            3.6                 7:31:00 AM   \n",
       "15  ...        147          15            4.4                 7:34:00 AM   \n",
       "16  ...         94          13            2.7                 7:30:00 AM   \n",
       "17  ...        115          20            4.2                 7:40:00 AM   \n",
       "18  ...        117          30            4.1                 8:06:00 AM   \n",
       "19  ...        132          29            4.4                 7:38:00 AM   \n",
       "20  ...        115          13            3.5                 7:48:00 AM   \n",
       "21  ...         98          12            2.0                 7:48:00 AM   \n",
       "22  ...        133          15            3.8                 8:17:00 AM   \n",
       "23  ...        110          31            5.2                 7:34:00 AM   \n",
       "24  ...         67           8            2.4                 7:56:00 AM   \n",
       "25  ...        195          52            5.4                 7:39:00 AM   \n",
       "26  ...        146          26            5.3                 7:51:00 AM   \n",
       "27  ...        143          50            5.9                 7:54:00 AM   \n",
       "28  ...         97          24            3.1                 7:26:00 AM   \n",
       "29  ...        163          26            4.1                 8:00:00 AM   \n",
       "30  ...         21          17            1.7                 8:10:00 AM   \n",
       "31  ...         81          21            2.6                 7:50:00 AM   \n",
       "32  ...        124          18            4.0                 7:39:00 AM   \n",
       "33  ...         34          26            1.9                 8:32:00 AM   \n",
       "34  ...         80          49            4.8                 7:13:00 AM   \n",
       "35  ...         77          35            3.8                 7:57:00 AM   \n",
       "36  ...        121          20            3.7                 7:29:00 AM   \n",
       "37  ...         90          16            2.8                 8:32:00 AM   \n",
       "38  ...        118          24            3.9                 7:44:00 AM   \n",
       "39  ...        119          24            4.1                 7:11:00 AM   \n",
       "40  ...         96          48            4.9                 7:05:00 AM   \n",
       "41  ...        260          25            5.6                 7:20:00 AM   \n",
       "42  ...        103          33            4.7                 7:15:00 AM   \n",
       "43  ...         97          13            3.1                 7:28:00 AM   \n",
       "44  ...         81          25            3.4                 8:19:00 AM   \n",
       "\n",
       "    #1 Contour Fingerstick GLU  Time (t)   #2 Contour Fingerstick GLU  \\\n",
       "0                           89      9:40                           73   \n",
       "1                           91      7:52                          123   \n",
       "2                          119      7:38                          166   \n",
       "3                          109      7:37                          110   \n",
       "4                          139      8:59                          215   \n",
       "5                           98      9:04                           97   \n",
       "6                          115      8:40                          157   \n",
       "7                          110      9:07                          156   \n",
       "8                          119      7:46                          128   \n",
       "9                          100      8:01                          160   \n",
       "10                         118      8:15                          136   \n",
       "11                         186      7:38                          279   \n",
       "12                         117      7:38                          171   \n",
       "13                         157      7:52                          157   \n",
       "14                          87      7:54                          111   \n",
       "15                          92      7:57                           87   \n",
       "16                         100      7:37                          120   \n",
       "17                         104      7:53                          100   \n",
       "18                          98      8:40                           93   \n",
       "19                         121      7:49                          186   \n",
       "20                          96      7:57                           82   \n",
       "21                         112      8:08                           98   \n",
       "22                         140      8:25                          193   \n",
       "23                         108      7:50                          117   \n",
       "24                          80      8:18                           96   \n",
       "25                         127      7:50                          179   \n",
       "26                         130      8:01                          167   \n",
       "27                         175      8:03                          281   \n",
       "28                         102      7:34                          111   \n",
       "29                          95      8:23                          130   \n",
       "30                         120      8:20                          210   \n",
       "31                          90      8:01                           88   \n",
       "32                         220      7:55                          314   \n",
       "33                         105      8:41                          170   \n",
       "34                         150      7:35                          175   \n",
       "35                         165      8:06                          233   \n",
       "36                         134      7:46                          210   \n",
       "37                         134      8:44                          184   \n",
       "38                         103      7:53                          143   \n",
       "39                         127      7:27                          183   \n",
       "40                         142      7:23                          244   \n",
       "41                         144      7:29                          247   \n",
       "42                         157      7:25                          211   \n",
       "43                          86      7:43                           84   \n",
       "44                         145      8:35                          257   \n",
       "\n",
       "   Time (t).1  #3 Contour Fingerstick GLU Time (t).2  \n",
       "0       12:11                          81      13:18  \n",
       "1        9:21                          80      10:22  \n",
       "2        9:23                          98      10:23  \n",
       "3        9:04                          90      10:01  \n",
       "4       10:52                         130      11:54  \n",
       "5       10:54                          70      11:56  \n",
       "6       10:22                          95      11:24  \n",
       "7       10:25                          94      11:26  \n",
       "8        9:32                          96      10:29  \n",
       "9        9:35                         108      10:36  \n",
       "10       9:53                          92      10:47  \n",
       "11       9:17                         215      10:17  \n",
       "12       9:12                          92      10:16  \n",
       "13       9:48                         122      10:45  \n",
       "14       9:49                          88      10:47  \n",
       "15       9:41                          86      10:38  \n",
       "16       9:15                          95      10:15  \n",
       "17       9:17                          67      10:18  \n",
       "18      10:19                          97      11:17  \n",
       "19       9:22                         122      10:26  \n",
       "20       9:25                          92      10:24  \n",
       "21       9:56                         104      10:55  \n",
       "22       9:45                          94      10:45  \n",
       "23       9:06                         105      10:16  \n",
       "24       9:32                          92      10:28  \n",
       "25       9:10                         104      10:11  \n",
       "26       9:23                         115      10:23  \n",
       "27       9:09                         247      10:10  \n",
       "28       8:38                         101       9:39  \n",
       "29       9:31                          86      10:31  \n",
       "30       9:22                         135      10:22  \n",
       "31       9:02                          86      10:04  \n",
       "32       8:53                         243       9:55  \n",
       "33       9:43                         154      10:44  \n",
       "34       8:35                         186       9:41  \n",
       "35       9:08                         234      10:09  \n",
       "36       8:46                         151       9:49  \n",
       "37       9:57                         131      10:47  \n",
       "38       8:56                          80       9:55  \n",
       "39       8:30                         115       9:35  \n",
       "40       8:24                         122       9:38  \n",
       "41       8:35                         200       9:43  \n",
       "42       8:31                         148       9:31  \n",
       "43       8:45                          97       9:45  \n",
       "44       9:33                         182      10:37  \n",
       "\n",
       "[45 rows x 24 columns]"
      ]
     },
     "execution_count": 2,
     "metadata": {},
     "output_type": "execute_result"
    }
   ],
   "source": [
    "bio = pd.read_csv('bio.csv')\n",
    "bio"
   ]
  },
  {
   "cell_type": "code",
   "execution_count": 3,
   "id": "52311583-6fb9-48f0-828c-f36a285ded7c",
   "metadata": {},
   "outputs": [
    {
     "data": {
      "text/plain": [
       "Index(['subject', 'Age', 'Gender', 'BMI', 'Body weight ', 'Height ',\n",
       "       'Self-identify ', 'A1c PDL (Lab)', 'Fasting GLU - PDL (Lab)',\n",
       "       'Insulin ', 'Triglycerides', 'Cholesterol', 'HDL', 'Non HDL ',\n",
       "       'LDL (Cal)', 'VLDL (Cal)', 'Cho/HDL Ratio', 'Collection time PDL (Lab)',\n",
       "       '#1 Contour Fingerstick GLU', 'Time (t)', ' #2 Contour Fingerstick GLU',\n",
       "       'Time (t).1', '#3 Contour Fingerstick GLU', 'Time (t).2'],\n",
       "      dtype='object')"
      ]
     },
     "execution_count": 3,
     "metadata": {},
     "output_type": "execute_result"
    }
   ],
   "source": [
    "bio.columns"
   ]
  },
  {
   "cell_type": "code",
   "execution_count": 5,
   "id": "d96d24e4-afa4-4113-85c1-83c4cc82e523",
   "metadata": {},
   "outputs": [],
   "source": [
    "bio['Self-identify '] = bio['Self-identify '].str.replace('Black, ', '')\n",
    "bio['Self-identify '] = bio['Self-identify '].str.replace('African American', 'Black/African American')"
   ]
  },
  {
   "cell_type": "code",
   "execution_count": 9,
   "id": "db954111-7d38-428a-be1e-7a7d3d4c264e",
   "metadata": {},
   "outputs": [
    {
     "data": {
      "text/html": [
       "<div>\n",
       "<style scoped>\n",
       "    .dataframe tbody tr th:only-of-type {\n",
       "        vertical-align: middle;\n",
       "    }\n",
       "\n",
       "    .dataframe tbody tr th {\n",
       "        vertical-align: top;\n",
       "    }\n",
       "\n",
       "    .dataframe thead th {\n",
       "        text-align: right;\n",
       "    }\n",
       "</style>\n",
       "<table border=\"1\" class=\"dataframe\">\n",
       "  <thead>\n",
       "    <tr style=\"text-align: right;\">\n",
       "      <th></th>\n",
       "      <th>Self-identify</th>\n",
       "      <th>Age</th>\n",
       "      <th>BMI</th>\n",
       "      <th>Body weight</th>\n",
       "    </tr>\n",
       "  </thead>\n",
       "  <tbody>\n",
       "    <tr>\n",
       "      <th>0</th>\n",
       "      <td>Black/African American</td>\n",
       "      <td>57.500000</td>\n",
       "      <td>35.868221</td>\n",
       "      <td>209.850000</td>\n",
       "    </tr>\n",
       "    <tr>\n",
       "      <th>1</th>\n",
       "      <td>Hispanic/Latino</td>\n",
       "      <td>47.823529</td>\n",
       "      <td>32.135670</td>\n",
       "      <td>184.876471</td>\n",
       "    </tr>\n",
       "    <tr>\n",
       "      <th>2</th>\n",
       "      <td>White</td>\n",
       "      <td>44.142857</td>\n",
       "      <td>23.664825</td>\n",
       "      <td>155.342857</td>\n",
       "    </tr>\n",
       "  </tbody>\n",
       "</table>\n",
       "</div>"
      ],
      "text/plain": [
       "           Self-identify         Age        BMI  Body weight \n",
       "0  Black/African American  57.500000  35.868221    209.850000\n",
       "1         Hispanic/Latino  47.823529  32.135670    184.876471\n",
       "2                   White  44.142857  23.664825    155.342857"
      ]
     },
     "execution_count": 9,
     "metadata": {},
     "output_type": "execute_result"
    }
   ],
   "source": [
    "bio_race = bio.groupby('Self-identify ')[['Age', 'BMI', 'Body weight ']].mean()\n",
    "bio_race = bio_race.reset_index()\n",
    "bio_race"
   ]
  },
  {
   "cell_type": "code",
   "execution_count": 12,
   "id": "8be1ca91-f249-40a4-ac95-b3dfed47b4ad",
   "metadata": {},
   "outputs": [
    {
     "data": {
      "text/html": [
       "<div>\n",
       "<style scoped>\n",
       "    .dataframe tbody tr th:only-of-type {\n",
       "        vertical-align: middle;\n",
       "    }\n",
       "\n",
       "    .dataframe tbody tr th {\n",
       "        vertical-align: top;\n",
       "    }\n",
       "\n",
       "    .dataframe thead th {\n",
       "        text-align: right;\n",
       "    }\n",
       "</style>\n",
       "<table border=\"1\" class=\"dataframe\">\n",
       "  <thead>\n",
       "    <tr style=\"text-align: right;\">\n",
       "      <th></th>\n",
       "      <th>Gender</th>\n",
       "      <th>Age</th>\n",
       "      <th>BMI</th>\n",
       "      <th>Body weight</th>\n",
       "    </tr>\n",
       "  </thead>\n",
       "  <tbody>\n",
       "    <tr>\n",
       "      <th>0</th>\n",
       "      <td>F</td>\n",
       "      <td>49.344828</td>\n",
       "      <td>32.099672</td>\n",
       "      <td>182.006897</td>\n",
       "    </tr>\n",
       "    <tr>\n",
       "      <th>1</th>\n",
       "      <td>M</td>\n",
       "      <td>45.875000</td>\n",
       "      <td>29.428059</td>\n",
       "      <td>183.400000</td>\n",
       "    </tr>\n",
       "  </tbody>\n",
       "</table>\n",
       "</div>"
      ],
      "text/plain": [
       "  Gender        Age        BMI  Body weight \n",
       "0      F  49.344828  32.099672    182.006897\n",
       "1      M  45.875000  29.428059    183.400000"
      ]
     },
     "execution_count": 12,
     "metadata": {},
     "output_type": "execute_result"
    }
   ],
   "source": [
    "bio_gender = bio.groupby('Gender')[['Age', 'BMI', 'Body weight ']].mean()\n",
    "bio_gender = bio_gender.reset_index()\n",
    "bio_gender"
   ]
  },
  {
   "cell_type": "code",
   "execution_count": 16,
   "id": "f4c434b8-6d34-4fc6-a286-55d15f76b2a8",
   "metadata": {},
   "outputs": [
    {
     "data": {
      "application/vnd.plotly.v1+json": {
       "config": {
        "plotlyServerURL": "https://plot.ly"
       },
       "data": [
        {
         "alignmentgroup": "True",
         "hovertemplate": "Self-identify =%{x}<br>BMI=%{y}<extra></extra>",
         "legendgroup": "",
         "marker": {
          "color": "#636efa",
          "pattern": {
           "shape": ""
          }
         },
         "name": "",
         "offsetgroup": "",
         "orientation": "v",
         "showlegend": false,
         "textposition": "auto",
         "type": "bar",
         "x": [
          "Black/African American",
          "Hispanic/Latino",
          "White"
         ],
         "xaxis": "x",
         "y": [
          35.8682208975,
          32.13566956705883,
          23.664825185714285
         ],
         "yaxis": "y"
        }
       ],
       "layout": {
        "autosize": true,
        "barmode": "relative",
        "legend": {
         "tracegroupgap": 0
        },
        "template": {
         "data": {
          "bar": [
           {
            "error_x": {
             "color": "#2a3f5f"
            },
            "error_y": {
             "color": "#2a3f5f"
            },
            "marker": {
             "line": {
              "color": "#E5ECF6",
              "width": 0.5
             },
             "pattern": {
              "fillmode": "overlay",
              "size": 10,
              "solidity": 0.2
             }
            },
            "type": "bar"
           }
          ],
          "barpolar": [
           {
            "marker": {
             "line": {
              "color": "#E5ECF6",
              "width": 0.5
             },
             "pattern": {
              "fillmode": "overlay",
              "size": 10,
              "solidity": 0.2
             }
            },
            "type": "barpolar"
           }
          ],
          "carpet": [
           {
            "aaxis": {
             "endlinecolor": "#2a3f5f",
             "gridcolor": "white",
             "linecolor": "white",
             "minorgridcolor": "white",
             "startlinecolor": "#2a3f5f"
            },
            "baxis": {
             "endlinecolor": "#2a3f5f",
             "gridcolor": "white",
             "linecolor": "white",
             "minorgridcolor": "white",
             "startlinecolor": "#2a3f5f"
            },
            "type": "carpet"
           }
          ],
          "choropleth": [
           {
            "colorbar": {
             "outlinewidth": 0,
             "ticks": ""
            },
            "type": "choropleth"
           }
          ],
          "contour": [
           {
            "colorbar": {
             "outlinewidth": 0,
             "ticks": ""
            },
            "colorscale": [
             [
              0,
              "#0d0887"
             ],
             [
              0.1111111111111111,
              "#46039f"
             ],
             [
              0.2222222222222222,
              "#7201a8"
             ],
             [
              0.3333333333333333,
              "#9c179e"
             ],
             [
              0.4444444444444444,
              "#bd3786"
             ],
             [
              0.5555555555555556,
              "#d8576b"
             ],
             [
              0.6666666666666666,
              "#ed7953"
             ],
             [
              0.7777777777777778,
              "#fb9f3a"
             ],
             [
              0.8888888888888888,
              "#fdca26"
             ],
             [
              1,
              "#f0f921"
             ]
            ],
            "type": "contour"
           }
          ],
          "contourcarpet": [
           {
            "colorbar": {
             "outlinewidth": 0,
             "ticks": ""
            },
            "type": "contourcarpet"
           }
          ],
          "heatmap": [
           {
            "colorbar": {
             "outlinewidth": 0,
             "ticks": ""
            },
            "colorscale": [
             [
              0,
              "#0d0887"
             ],
             [
              0.1111111111111111,
              "#46039f"
             ],
             [
              0.2222222222222222,
              "#7201a8"
             ],
             [
              0.3333333333333333,
              "#9c179e"
             ],
             [
              0.4444444444444444,
              "#bd3786"
             ],
             [
              0.5555555555555556,
              "#d8576b"
             ],
             [
              0.6666666666666666,
              "#ed7953"
             ],
             [
              0.7777777777777778,
              "#fb9f3a"
             ],
             [
              0.8888888888888888,
              "#fdca26"
             ],
             [
              1,
              "#f0f921"
             ]
            ],
            "type": "heatmap"
           }
          ],
          "heatmapgl": [
           {
            "colorbar": {
             "outlinewidth": 0,
             "ticks": ""
            },
            "colorscale": [
             [
              0,
              "#0d0887"
             ],
             [
              0.1111111111111111,
              "#46039f"
             ],
             [
              0.2222222222222222,
              "#7201a8"
             ],
             [
              0.3333333333333333,
              "#9c179e"
             ],
             [
              0.4444444444444444,
              "#bd3786"
             ],
             [
              0.5555555555555556,
              "#d8576b"
             ],
             [
              0.6666666666666666,
              "#ed7953"
             ],
             [
              0.7777777777777778,
              "#fb9f3a"
             ],
             [
              0.8888888888888888,
              "#fdca26"
             ],
             [
              1,
              "#f0f921"
             ]
            ],
            "type": "heatmapgl"
           }
          ],
          "histogram": [
           {
            "marker": {
             "pattern": {
              "fillmode": "overlay",
              "size": 10,
              "solidity": 0.2
             }
            },
            "type": "histogram"
           }
          ],
          "histogram2d": [
           {
            "colorbar": {
             "outlinewidth": 0,
             "ticks": ""
            },
            "colorscale": [
             [
              0,
              "#0d0887"
             ],
             [
              0.1111111111111111,
              "#46039f"
             ],
             [
              0.2222222222222222,
              "#7201a8"
             ],
             [
              0.3333333333333333,
              "#9c179e"
             ],
             [
              0.4444444444444444,
              "#bd3786"
             ],
             [
              0.5555555555555556,
              "#d8576b"
             ],
             [
              0.6666666666666666,
              "#ed7953"
             ],
             [
              0.7777777777777778,
              "#fb9f3a"
             ],
             [
              0.8888888888888888,
              "#fdca26"
             ],
             [
              1,
              "#f0f921"
             ]
            ],
            "type": "histogram2d"
           }
          ],
          "histogram2dcontour": [
           {
            "colorbar": {
             "outlinewidth": 0,
             "ticks": ""
            },
            "colorscale": [
             [
              0,
              "#0d0887"
             ],
             [
              0.1111111111111111,
              "#46039f"
             ],
             [
              0.2222222222222222,
              "#7201a8"
             ],
             [
              0.3333333333333333,
              "#9c179e"
             ],
             [
              0.4444444444444444,
              "#bd3786"
             ],
             [
              0.5555555555555556,
              "#d8576b"
             ],
             [
              0.6666666666666666,
              "#ed7953"
             ],
             [
              0.7777777777777778,
              "#fb9f3a"
             ],
             [
              0.8888888888888888,
              "#fdca26"
             ],
             [
              1,
              "#f0f921"
             ]
            ],
            "type": "histogram2dcontour"
           }
          ],
          "mesh3d": [
           {
            "colorbar": {
             "outlinewidth": 0,
             "ticks": ""
            },
            "type": "mesh3d"
           }
          ],
          "parcoords": [
           {
            "line": {
             "colorbar": {
              "outlinewidth": 0,
              "ticks": ""
             }
            },
            "type": "parcoords"
           }
          ],
          "pie": [
           {
            "automargin": true,
            "type": "pie"
           }
          ],
          "scatter": [
           {
            "fillpattern": {
             "fillmode": "overlay",
             "size": 10,
             "solidity": 0.2
            },
            "type": "scatter"
           }
          ],
          "scatter3d": [
           {
            "line": {
             "colorbar": {
              "outlinewidth": 0,
              "ticks": ""
             }
            },
            "marker": {
             "colorbar": {
              "outlinewidth": 0,
              "ticks": ""
             }
            },
            "type": "scatter3d"
           }
          ],
          "scattercarpet": [
           {
            "marker": {
             "colorbar": {
              "outlinewidth": 0,
              "ticks": ""
             }
            },
            "type": "scattercarpet"
           }
          ],
          "scattergeo": [
           {
            "marker": {
             "colorbar": {
              "outlinewidth": 0,
              "ticks": ""
             }
            },
            "type": "scattergeo"
           }
          ],
          "scattergl": [
           {
            "marker": {
             "colorbar": {
              "outlinewidth": 0,
              "ticks": ""
             }
            },
            "type": "scattergl"
           }
          ],
          "scattermapbox": [
           {
            "marker": {
             "colorbar": {
              "outlinewidth": 0,
              "ticks": ""
             }
            },
            "type": "scattermapbox"
           }
          ],
          "scatterpolar": [
           {
            "marker": {
             "colorbar": {
              "outlinewidth": 0,
              "ticks": ""
             }
            },
            "type": "scatterpolar"
           }
          ],
          "scatterpolargl": [
           {
            "marker": {
             "colorbar": {
              "outlinewidth": 0,
              "ticks": ""
             }
            },
            "type": "scatterpolargl"
           }
          ],
          "scatterternary": [
           {
            "marker": {
             "colorbar": {
              "outlinewidth": 0,
              "ticks": ""
             }
            },
            "type": "scatterternary"
           }
          ],
          "surface": [
           {
            "colorbar": {
             "outlinewidth": 0,
             "ticks": ""
            },
            "colorscale": [
             [
              0,
              "#0d0887"
             ],
             [
              0.1111111111111111,
              "#46039f"
             ],
             [
              0.2222222222222222,
              "#7201a8"
             ],
             [
              0.3333333333333333,
              "#9c179e"
             ],
             [
              0.4444444444444444,
              "#bd3786"
             ],
             [
              0.5555555555555556,
              "#d8576b"
             ],
             [
              0.6666666666666666,
              "#ed7953"
             ],
             [
              0.7777777777777778,
              "#fb9f3a"
             ],
             [
              0.8888888888888888,
              "#fdca26"
             ],
             [
              1,
              "#f0f921"
             ]
            ],
            "type": "surface"
           }
          ],
          "table": [
           {
            "cells": {
             "fill": {
              "color": "#EBF0F8"
             },
             "line": {
              "color": "white"
             }
            },
            "header": {
             "fill": {
              "color": "#C8D4E3"
             },
             "line": {
              "color": "white"
             }
            },
            "type": "table"
           }
          ]
         },
         "layout": {
          "annotationdefaults": {
           "arrowcolor": "#2a3f5f",
           "arrowhead": 0,
           "arrowwidth": 1
          },
          "autotypenumbers": "strict",
          "coloraxis": {
           "colorbar": {
            "outlinewidth": 0,
            "ticks": ""
           }
          },
          "colorscale": {
           "diverging": [
            [
             0,
             "#8e0152"
            ],
            [
             0.1,
             "#c51b7d"
            ],
            [
             0.2,
             "#de77ae"
            ],
            [
             0.3,
             "#f1b6da"
            ],
            [
             0.4,
             "#fde0ef"
            ],
            [
             0.5,
             "#f7f7f7"
            ],
            [
             0.6,
             "#e6f5d0"
            ],
            [
             0.7,
             "#b8e186"
            ],
            [
             0.8,
             "#7fbc41"
            ],
            [
             0.9,
             "#4d9221"
            ],
            [
             1,
             "#276419"
            ]
           ],
           "sequential": [
            [
             0,
             "#0d0887"
            ],
            [
             0.1111111111111111,
             "#46039f"
            ],
            [
             0.2222222222222222,
             "#7201a8"
            ],
            [
             0.3333333333333333,
             "#9c179e"
            ],
            [
             0.4444444444444444,
             "#bd3786"
            ],
            [
             0.5555555555555556,
             "#d8576b"
            ],
            [
             0.6666666666666666,
             "#ed7953"
            ],
            [
             0.7777777777777778,
             "#fb9f3a"
            ],
            [
             0.8888888888888888,
             "#fdca26"
            ],
            [
             1,
             "#f0f921"
            ]
           ],
           "sequentialminus": [
            [
             0,
             "#0d0887"
            ],
            [
             0.1111111111111111,
             "#46039f"
            ],
            [
             0.2222222222222222,
             "#7201a8"
            ],
            [
             0.3333333333333333,
             "#9c179e"
            ],
            [
             0.4444444444444444,
             "#bd3786"
            ],
            [
             0.5555555555555556,
             "#d8576b"
            ],
            [
             0.6666666666666666,
             "#ed7953"
            ],
            [
             0.7777777777777778,
             "#fb9f3a"
            ],
            [
             0.8888888888888888,
             "#fdca26"
            ],
            [
             1,
             "#f0f921"
            ]
           ]
          },
          "colorway": [
           "#636efa",
           "#EF553B",
           "#00cc96",
           "#ab63fa",
           "#FFA15A",
           "#19d3f3",
           "#FF6692",
           "#B6E880",
           "#FF97FF",
           "#FECB52"
          ],
          "font": {
           "color": "#2a3f5f"
          },
          "geo": {
           "bgcolor": "white",
           "lakecolor": "white",
           "landcolor": "#E5ECF6",
           "showlakes": true,
           "showland": true,
           "subunitcolor": "white"
          },
          "hoverlabel": {
           "align": "left"
          },
          "hovermode": "closest",
          "mapbox": {
           "style": "light"
          },
          "paper_bgcolor": "white",
          "plot_bgcolor": "#E5ECF6",
          "polar": {
           "angularaxis": {
            "gridcolor": "white",
            "linecolor": "white",
            "ticks": ""
           },
           "bgcolor": "#E5ECF6",
           "radialaxis": {
            "gridcolor": "white",
            "linecolor": "white",
            "ticks": ""
           }
          },
          "scene": {
           "xaxis": {
            "backgroundcolor": "#E5ECF6",
            "gridcolor": "white",
            "gridwidth": 2,
            "linecolor": "white",
            "showbackground": true,
            "ticks": "",
            "zerolinecolor": "white"
           },
           "yaxis": {
            "backgroundcolor": "#E5ECF6",
            "gridcolor": "white",
            "gridwidth": 2,
            "linecolor": "white",
            "showbackground": true,
            "ticks": "",
            "zerolinecolor": "white"
           },
           "zaxis": {
            "backgroundcolor": "#E5ECF6",
            "gridcolor": "white",
            "gridwidth": 2,
            "linecolor": "white",
            "showbackground": true,
            "ticks": "",
            "zerolinecolor": "white"
           }
          },
          "shapedefaults": {
           "line": {
            "color": "#2a3f5f"
           }
          },
          "ternary": {
           "aaxis": {
            "gridcolor": "white",
            "linecolor": "white",
            "ticks": ""
           },
           "baxis": {
            "gridcolor": "white",
            "linecolor": "white",
            "ticks": ""
           },
           "bgcolor": "#E5ECF6",
           "caxis": {
            "gridcolor": "white",
            "linecolor": "white",
            "ticks": ""
           }
          },
          "title": {
           "x": 0.05
          },
          "xaxis": {
           "automargin": true,
           "gridcolor": "white",
           "linecolor": "white",
           "ticks": "",
           "title": {
            "standoff": 15
           },
           "zerolinecolor": "white",
           "zerolinewidth": 2
          },
          "yaxis": {
           "automargin": true,
           "gridcolor": "white",
           "linecolor": "white",
           "ticks": "",
           "title": {
            "standoff": 15
           },
           "zerolinecolor": "white",
           "zerolinewidth": 2
          }
         }
        },
        "title": {
         "text": "BMI by Participant Self-Identified Race"
        },
        "xaxis": {
         "anchor": "y",
         "autorange": true,
         "domain": [
          0,
          1
         ],
         "range": [
          -0.5,
          2.5
         ],
         "title": {
          "text": "Self-identify "
         },
         "type": "category"
        },
        "yaxis": {
         "anchor": "x",
         "autorange": true,
         "domain": [
          0,
          1
         ],
         "range": [
          0,
          37.75602199736842
         ],
         "title": {
          "text": "BMI"
         },
         "type": "linear"
        }
       }
      },
      "image/png": "[encoded data removed]",
      "text/html": [
       "<div>                            <div id=\"8b7e1a0d-d745-40a6-b52a-f78ec97b468e\" class=\"plotly-graph-div\" style=\"height:600px; width:100%;\"></div>            <script type=\"text/javascript\">                require([\"plotly\"], function(Plotly) {                    window.PLOTLYENV=window.PLOTLYENV || {};                                    if (document.getElementById(\"8b7e1a0d-d745-40a6-b52a-f78ec97b468e\")) {                    Plotly.newPlot(                        \"8b7e1a0d-d745-40a6-b52a-f78ec97b468e\",                        [{\"alignmentgroup\":\"True\",\"hovertemplate\":\"Self-identify =%{x}\\u003cbr\\u003eBMI=%{y}\\u003cextra\\u003e\\u003c\\u002fextra\\u003e\",\"legendgroup\":\"\",\"marker\":{\"color\":\"#636efa\",\"pattern\":{\"shape\":\"\"}},\"name\":\"\",\"offsetgroup\":\"\",\"orientation\":\"v\",\"showlegend\":false,\"textposition\":\"auto\",\"x\":[\"Black\\u002fAfrican American\",\"Hispanic\\u002fLatino\",\"White\"],\"xaxis\":\"x\",\"y\":[35.8682208975,32.13566956705883,23.664825185714285],\"yaxis\":\"y\",\"type\":\"bar\"}],                        {\"template\":{\"data\":{\"histogram2dcontour\":[{\"type\":\"histogram2dcontour\",\"colorbar\":{\"outlinewidth\":0,\"ticks\":\"\"},\"colorscale\":[[0.0,\"#0d0887\"],[0.1111111111111111,\"#46039f\"],[0.2222222222222222,\"#7201a8\"],[0.3333333333333333,\"#9c179e\"],[0.4444444444444444,\"#bd3786\"],[0.5555555555555556,\"#d8576b\"],[0.6666666666666666,\"#ed7953\"],[0.7777777777777778,\"#fb9f3a\"],[0.8888888888888888,\"#fdca26\"],[1.0,\"#f0f921\"]]}],\"choropleth\":[{\"type\":\"choropleth\",\"colorbar\":{\"outlinewidth\":0,\"ticks\":\"\"}}],\"histogram2d\":[{\"type\":\"histogram2d\",\"colorbar\":{\"outlinewidth\":0,\"ticks\":\"\"},\"colorscale\":[[0.0,\"#0d0887\"],[0.1111111111111111,\"#46039f\"],[0.2222222222222222,\"#7201a8\"],[0.3333333333333333,\"#9c179e\"],[0.4444444444444444,\"#bd3786\"],[0.5555555555555556,\"#d8576b\"],[0.6666666666666666,\"#ed7953\"],[0.7777777777777778,\"#fb9f3a\"],[0.8888888888888888,\"#fdca26\"],[1.0,\"#f0f921\"]]}],\"heatmap\":[{\"type\":\"heatmap\",\"colorbar\":{\"outlinewidth\":0,\"ticks\":\"\"},\"colorscale\":[[0.0,\"#0d0887\"],[0.1111111111111111,\"#46039f\"],[0.2222222222222222,\"#7201a8\"],[0.3333333333333333,\"#9c179e\"],[0.4444444444444444,\"#bd3786\"],[0.5555555555555556,\"#d8576b\"],[0.6666666666666666,\"#ed7953\"],[0.7777777777777778,\"#fb9f3a\"],[0.8888888888888888,\"#fdca26\"],[1.0,\"#f0f921\"]]}],\"heatmapgl\":[{\"type\":\"heatmapgl\",\"colorbar\":{\"outlinewidth\":0,\"ticks\":\"\"},\"colorscale\":[[0.0,\"#0d0887\"],[0.1111111111111111,\"#46039f\"],[0.2222222222222222,\"#7201a8\"],[0.3333333333333333,\"#9c179e\"],[0.4444444444444444,\"#bd3786\"],[0.5555555555555556,\"#d8576b\"],[0.6666666666666666,\"#ed7953\"],[0.7777777777777778,\"#fb9f3a\"],[0.8888888888888888,\"#fdca26\"],[1.0,\"#f0f921\"]]}],\"contourcarpet\":[{\"type\":\"contourcarpet\",\"colorbar\":{\"outlinewidth\":0,\"ticks\":\"\"}}],\"contour\":[{\"type\":\"contour\",\"colorbar\":{\"outlinewidth\":0,\"ticks\":\"\"},\"colorscale\":[[0.0,\"#0d0887\"],[0.1111111111111111,\"#46039f\"],[0.2222222222222222,\"#7201a8\"],[0.3333333333333333,\"#9c179e\"],[0.4444444444444444,\"#bd3786\"],[0.5555555555555556,\"#d8576b\"],[0.6666666666666666,\"#ed7953\"],[0.7777777777777778,\"#fb9f3a\"],[0.8888888888888888,\"#fdca26\"],[1.0,\"#f0f921\"]]}],\"surface\":[{\"type\":\"surface\",\"colorbar\":{\"outlinewidth\":0,\"ticks\":\"\"},\"colorscale\":[[0.0,\"#0d0887\"],[0.1111111111111111,\"#46039f\"],[0.2222222222222222,\"#7201a8\"],[0.3333333333333333,\"#9c179e\"],[0.4444444444444444,\"#bd3786\"],[0.5555555555555556,\"#d8576b\"],[0.6666666666666666,\"#ed7953\"],[0.7777777777777778,\"#fb9f3a\"],[0.8888888888888888,\"#fdca26\"],[1.0,\"#f0f921\"]]}],\"mesh3d\":[{\"type\":\"mesh3d\",\"colorbar\":{\"outlinewidth\":0,\"ticks\":\"\"}}],\"scatter\":[{\"fillpattern\":{\"fillmode\":\"overlay\",\"size\":10,\"solidity\":0.2},\"type\":\"scatter\"}],\"parcoords\":[{\"type\":\"parcoords\",\"line\":{\"colorbar\":{\"outlinewidth\":0,\"ticks\":\"\"}}}],\"scatterpolargl\":[{\"type\":\"scatterpolargl\",\"marker\":{\"colorbar\":{\"outlinewidth\":0,\"ticks\":\"\"}}}],\"bar\":[{\"error_x\":{\"color\":\"#2a3f5f\"},\"error_y\":{\"color\":\"#2a3f5f\"},\"marker\":{\"line\":{\"color\":\"#E5ECF6\",\"width\":0.5},\"pattern\":{\"fillmode\":\"overlay\",\"size\":10,\"solidity\":0.2}},\"type\":\"bar\"}],\"scattergeo\":[{\"type\":\"scattergeo\",\"marker\":{\"colorbar\":{\"outlinewidth\":0,\"ticks\":\"\"}}}],\"scatterpolar\":[{\"type\":\"scatterpolar\",\"marker\":{\"colorbar\":{\"outlinewidth\":0,\"ticks\":\"\"}}}],\"histogram\":[{\"marker\":{\"pattern\":{\"fillmode\":\"overlay\",\"size\":10,\"solidity\":0.2}},\"type\":\"histogram\"}],\"scattergl\":[{\"type\":\"scattergl\",\"marker\":{\"colorbar\":{\"outlinewidth\":0,\"ticks\":\"\"}}}],\"scatter3d\":[{\"type\":\"scatter3d\",\"line\":{\"colorbar\":{\"outlinewidth\":0,\"ticks\":\"\"}},\"marker\":{\"colorbar\":{\"outlinewidth\":0,\"ticks\":\"\"}}}],\"scattermapbox\":[{\"type\":\"scattermapbox\",\"marker\":{\"colorbar\":{\"outlinewidth\":0,\"ticks\":\"\"}}}],\"scatterternary\":[{\"type\":\"scatterternary\",\"marker\":{\"colorbar\":{\"outlinewidth\":0,\"ticks\":\"\"}}}],\"scattercarpet\":[{\"type\":\"scattercarpet\",\"marker\":{\"colorbar\":{\"outlinewidth\":0,\"ticks\":\"\"}}}],\"carpet\":[{\"aaxis\":{\"endlinecolor\":\"#2a3f5f\",\"gridcolor\":\"white\",\"linecolor\":\"white\",\"minorgridcolor\":\"white\",\"startlinecolor\":\"#2a3f5f\"},\"baxis\":{\"endlinecolor\":\"#2a3f5f\",\"gridcolor\":\"white\",\"linecolor\":\"white\",\"minorgridcolor\":\"white\",\"startlinecolor\":\"#2a3f5f\"},\"type\":\"carpet\"}],\"table\":[{\"cells\":{\"fill\":{\"color\":\"#EBF0F8\"},\"line\":{\"color\":\"white\"}},\"header\":{\"fill\":{\"color\":\"#C8D4E3\"},\"line\":{\"color\":\"white\"}},\"type\":\"table\"}],\"barpolar\":[{\"marker\":{\"line\":{\"color\":\"#E5ECF6\",\"width\":0.5},\"pattern\":{\"fillmode\":\"overlay\",\"size\":10,\"solidity\":0.2}},\"type\":\"barpolar\"}],\"pie\":[{\"automargin\":true,\"type\":\"pie\"}]},\"layout\":{\"autotypenumbers\":\"strict\",\"colorway\":[\"#636efa\",\"#EF553B\",\"#00cc96\",\"#ab63fa\",\"#FFA15A\",\"#19d3f3\",\"#FF6692\",\"#B6E880\",\"#FF97FF\",\"#FECB52\"],\"font\":{\"color\":\"#2a3f5f\"},\"hovermode\":\"closest\",\"hoverlabel\":{\"align\":\"left\"},\"paper_bgcolor\":\"white\",\"plot_bgcolor\":\"#E5ECF6\",\"polar\":{\"bgcolor\":\"#E5ECF6\",\"angularaxis\":{\"gridcolor\":\"white\",\"linecolor\":\"white\",\"ticks\":\"\"},\"radialaxis\":{\"gridcolor\":\"white\",\"linecolor\":\"white\",\"ticks\":\"\"}},\"ternary\":{\"bgcolor\":\"#E5ECF6\",\"aaxis\":{\"gridcolor\":\"white\",\"linecolor\":\"white\",\"ticks\":\"\"},\"baxis\":{\"gridcolor\":\"white\",\"linecolor\":\"white\",\"ticks\":\"\"},\"caxis\":{\"gridcolor\":\"white\",\"linecolor\":\"white\",\"ticks\":\"\"}},\"coloraxis\":{\"colorbar\":{\"outlinewidth\":0,\"ticks\":\"\"}},\"colorscale\":{\"sequential\":[[0.0,\"#0d0887\"],[0.1111111111111111,\"#46039f\"],[0.2222222222222222,\"#7201a8\"],[0.3333333333333333,\"#9c179e\"],[0.4444444444444444,\"#bd3786\"],[0.5555555555555556,\"#d8576b\"],[0.6666666666666666,\"#ed7953\"],[0.7777777777777778,\"#fb9f3a\"],[0.8888888888888888,\"#fdca26\"],[1.0,\"#f0f921\"]],\"sequentialminus\":[[0.0,\"#0d0887\"],[0.1111111111111111,\"#46039f\"],[0.2222222222222222,\"#7201a8\"],[0.3333333333333333,\"#9c179e\"],[0.4444444444444444,\"#bd3786\"],[0.5555555555555556,\"#d8576b\"],[0.6666666666666666,\"#ed7953\"],[0.7777777777777778,\"#fb9f3a\"],[0.8888888888888888,\"#fdca26\"],[1.0,\"#f0f921\"]],\"diverging\":[[0,\"#8e0152\"],[0.1,\"#c51b7d\"],[0.2,\"#de77ae\"],[0.3,\"#f1b6da\"],[0.4,\"#fde0ef\"],[0.5,\"#f7f7f7\"],[0.6,\"#e6f5d0\"],[0.7,\"#b8e186\"],[0.8,\"#7fbc41\"],[0.9,\"#4d9221\"],[1,\"#276419\"]]},\"xaxis\":{\"gridcolor\":\"white\",\"linecolor\":\"white\",\"ticks\":\"\",\"title\":{\"standoff\":15},\"zerolinecolor\":\"white\",\"automargin\":true,\"zerolinewidth\":2},\"yaxis\":{\"gridcolor\":\"white\",\"linecolor\":\"white\",\"ticks\":\"\",\"title\":{\"standoff\":15},\"zerolinecolor\":\"white\",\"automargin\":true,\"zerolinewidth\":2},\"scene\":{\"xaxis\":{\"backgroundcolor\":\"#E5ECF6\",\"gridcolor\":\"white\",\"linecolor\":\"white\",\"showbackground\":true,\"ticks\":\"\",\"zerolinecolor\":\"white\",\"gridwidth\":2},\"yaxis\":{\"backgroundcolor\":\"#E5ECF6\",\"gridcolor\":\"white\",\"linecolor\":\"white\",\"showbackground\":true,\"ticks\":\"\",\"zerolinecolor\":\"white\",\"gridwidth\":2},\"zaxis\":{\"backgroundcolor\":\"#E5ECF6\",\"gridcolor\":\"white\",\"linecolor\":\"white\",\"showbackground\":true,\"ticks\":\"\",\"zerolinecolor\":\"white\",\"gridwidth\":2}},\"shapedefaults\":{\"line\":{\"color\":\"#2a3f5f\"}},\"annotationdefaults\":{\"arrowcolor\":\"#2a3f5f\",\"arrowhead\":0,\"arrowwidth\":1},\"geo\":{\"bgcolor\":\"white\",\"landcolor\":\"#E5ECF6\",\"subunitcolor\":\"white\",\"showland\":true,\"showlakes\":true,\"lakecolor\":\"white\"},\"title\":{\"x\":0.05},\"mapbox\":{\"style\":\"light\"}}},\"xaxis\":{\"anchor\":\"y\",\"domain\":[0.0,1.0],\"title\":{\"text\":\"Self-identify \"}},\"yaxis\":{\"anchor\":\"x\",\"domain\":[0.0,1.0],\"title\":{\"text\":\"BMI\"}},\"legend\":{\"tracegroupgap\":0},\"title\":{\"text\":\"BMI by Participant Self-Identified Race\"},\"barmode\":\"relative\",\"height\":600},                        {\"responsive\": true}                    ).then(function(){\n",
       "                            \n",
       "var gd = document.getElementById('8b7e1a0d-d745-40a6-b52a-f78ec97b468e');\n",
       "var x = new MutationObserver(function (mutations, observer) {{\n",
       "        var display = window.getComputedStyle(gd).display;\n",
       "        if (!display || display === 'none') {{\n",
       "            console.log([gd, 'removed!']);\n",
       "            Plotly.purge(gd);\n",
       "            observer.disconnect();\n",
       "        }}\n",
       "}});\n",
       "\n",
       "// Listen for the removal of the full notebook cells\n",
       "var notebookContainer = gd.closest('#notebook-container');\n",
       "if (notebookContainer) {{\n",
       "    x.observe(notebookContainer, {childList: true});\n",
       "}}\n",
       "\n",
       "// Listen for the clearing of the current output cell\n",
       "var outputEl = gd.closest('.output');\n",
       "if (outputEl) {{\n",
       "    x.observe(outputEl, {childList: true});\n",
       "}}\n",
       "\n",
       "                        })                };                });            </script>        </div>"
      ]
     },
     "metadata": {},
     "output_type": "display_data"
    }
   ],
   "source": [
    "fig1 = px.bar(bio_race, x = 'Self-identify ', y = 'BMI', title = \"BMI by Participant Self-Identified Race\", height = 600)\n",
    "fig1.show()"
   ]
  },
  {
   "cell_type": "code",
   "execution_count": 17,
   "id": "cb71fd93-7e27-45fc-a55e-da4a8b04bd51",
   "metadata": {},
   "outputs": [
    {
     "data": {
      "application/vnd.plotly.v1+json": {
       "config": {
        "plotlyServerURL": "https://plot.ly"
       },
       "data": [
        {
         "alignmentgroup": "True",
         "hovertemplate": "Gender=%{x}<br>BMI=%{y}<extra></extra>",
         "legendgroup": "",
         "marker": {
          "color": "#636efa",
          "pattern": {
           "shape": ""
          }
         },
         "name": "",
         "offsetgroup": "",
         "orientation": "v",
         "showlegend": false,
         "textposition": "auto",
         "type": "bar",
         "x": [
          "F",
          "M"
         ],
         "xaxis": "x",
         "y": [
          32.099671528965516,
          29.428059426875002
         ],
         "yaxis": "y"
        }
       ],
       "layout": {
        "autosize": true,
        "barmode": "relative",
        "legend": {
         "tracegroupgap": 0
        },
        "template": {
         "data": {
          "bar": [
           {
            "error_x": {
             "color": "#2a3f5f"
            },
            "error_y": {
             "color": "#2a3f5f"
            },
            "marker": {
             "line": {
              "color": "#E5ECF6",
              "width": 0.5
             },
             "pattern": {
              "fillmode": "overlay",
              "size": 10,
              "solidity": 0.2
             }
            },
            "type": "bar"
           }
          ],
          "barpolar": [
           {
            "marker": {
             "line": {
              "color": "#E5ECF6",
              "width": 0.5
             },
             "pattern": {
              "fillmode": "overlay",
              "size": 10,
              "solidity": 0.2
             }
            },
            "type": "barpolar"
           }
          ],
          "carpet": [
           {
            "aaxis": {
             "endlinecolor": "#2a3f5f",
             "gridcolor": "white",
             "linecolor": "white",
             "minorgridcolor": "white",
             "startlinecolor": "#2a3f5f"
            },
            "baxis": {
             "endlinecolor": "#2a3f5f",
             "gridcolor": "white",
             "linecolor": "white",
             "minorgridcolor": "white",
             "startlinecolor": "#2a3f5f"
            },
            "type": "carpet"
           }
          ],
          "choropleth": [
           {
            "colorbar": {
             "outlinewidth": 0,
             "ticks": ""
            },
            "type": "choropleth"
           }
          ],
          "contour": [
           {
            "colorbar": {
             "outlinewidth": 0,
             "ticks": ""
            },
            "colorscale": [
             [
              0,
              "#0d0887"
             ],
             [
              0.1111111111111111,
              "#46039f"
             ],
             [
              0.2222222222222222,
              "#7201a8"
             ],
             [
              0.3333333333333333,
              "#9c179e"
             ],
             [
              0.4444444444444444,
              "#bd3786"
             ],
             [
              0.5555555555555556,
              "#d8576b"
             ],
             [
              0.6666666666666666,
              "#ed7953"
             ],
             [
              0.7777777777777778,
              "#fb9f3a"
             ],
             [
              0.8888888888888888,
              "#fdca26"
             ],
             [
              1,
              "#f0f921"
             ]
            ],
            "type": "contour"
           }
          ],
          "contourcarpet": [
           {
            "colorbar": {
             "outlinewidth": 0,
             "ticks": ""
            },
            "type": "contourcarpet"
           }
          ],
          "heatmap": [
           {
            "colorbar": {
             "outlinewidth": 0,
             "ticks": ""
            },
            "colorscale": [
             [
              0,
              "#0d0887"
             ],
             [
              0.1111111111111111,
              "#46039f"
             ],
             [
              0.2222222222222222,
              "#7201a8"
             ],
             [
              0.3333333333333333,
              "#9c179e"
             ],
             [
              0.4444444444444444,
              "#bd3786"
             ],
             [
              0.5555555555555556,
              "#d8576b"
             ],
             [
              0.6666666666666666,
              "#ed7953"
             ],
             [
              0.7777777777777778,
              "#fb9f3a"
             ],
             [
              0.8888888888888888,
              "#fdca26"
             ],
             [
              1,
              "#f0f921"
             ]
            ],
            "type": "heatmap"
           }
          ],
          "heatmapgl": [
           {
            "colorbar": {
             "outlinewidth": 0,
             "ticks": ""
            },
            "colorscale": [
             [
              0,
              "#0d0887"
             ],
             [
              0.1111111111111111,
              "#46039f"
             ],
             [
              0.2222222222222222,
              "#7201a8"
             ],
             [
              0.3333333333333333,
              "#9c179e"
             ],
             [
              0.4444444444444444,
              "#bd3786"
             ],
             [
              0.5555555555555556,
              "#d8576b"
             ],
             [
              0.6666666666666666,
              "#ed7953"
             ],
             [
              0.7777777777777778,
              "#fb9f3a"
             ],
             [
              0.8888888888888888,
              "#fdca26"
             ],
             [
              1,
              "#f0f921"
             ]
            ],
            "type": "heatmapgl"
           }
          ],
          "histogram": [
           {
            "marker": {
             "pattern": {
              "fillmode": "overlay",
              "size": 10,
              "solidity": 0.2
             }
            },
            "type": "histogram"
           }
          ],
          "histogram2d": [
           {
            "colorbar": {
             "outlinewidth": 0,
             "ticks": ""
            },
            "colorscale": [
             [
              0,
              "#0d0887"
             ],
             [
              0.1111111111111111,
              "#46039f"
             ],
             [
              0.2222222222222222,
              "#7201a8"
             ],
             [
              0.3333333333333333,
              "#9c179e"
             ],
             [
              0.4444444444444444,
              "#bd3786"
             ],
             [
              0.5555555555555556,
              "#d8576b"
             ],
             [
              0.6666666666666666,
              "#ed7953"
             ],
             [
              0.7777777777777778,
              "#fb9f3a"
             ],
             [
              0.8888888888888888,
              "#fdca26"
             ],
             [
              1,
              "#f0f921"
             ]
            ],
            "type": "histogram2d"
           }
          ],
          "histogram2dcontour": [
           {
            "colorbar": {
             "outlinewidth": 0,
             "ticks": ""
            },
            "colorscale": [
             [
              0,
              "#0d0887"
             ],
             [
              0.1111111111111111,
              "#46039f"
             ],
             [
              0.2222222222222222,
              "#7201a8"
             ],
             [
              0.3333333333333333,
              "#9c179e"
             ],
             [
              0.4444444444444444,
              "#bd3786"
             ],
             [
              0.5555555555555556,
              "#d8576b"
             ],
             [
              0.6666666666666666,
              "#ed7953"
             ],
             [
              0.7777777777777778,
              "#fb9f3a"
             ],
             [
              0.8888888888888888,
              "#fdca26"
             ],
             [
              1,
              "#f0f921"
             ]
            ],
            "type": "histogram2dcontour"
           }
          ],
          "mesh3d": [
           {
            "colorbar": {
             "outlinewidth": 0,
             "ticks": ""
            },
            "type": "mesh3d"
           }
          ],
          "parcoords": [
           {
            "line": {
             "colorbar": {
              "outlinewidth": 0,
              "ticks": ""
             }
            },
            "type": "parcoords"
           }
          ],
          "pie": [
           {
            "automargin": true,
            "type": "pie"
           }
          ],
          "scatter": [
           {
            "fillpattern": {
             "fillmode": "overlay",
             "size": 10,
             "solidity": 0.2
            },
            "type": "scatter"
           }
          ],
          "scatter3d": [
           {
            "line": {
             "colorbar": {
              "outlinewidth": 0,
              "ticks": ""
             }
            },
            "marker": {
             "colorbar": {
              "outlinewidth": 0,
              "ticks": ""
             }
            },
            "type": "scatter3d"
           }
          ],
          "scattercarpet": [
           {
            "marker": {
             "colorbar": {
              "outlinewidth": 0,
              "ticks": ""
             }
            },
            "type": "scattercarpet"
           }
          ],
          "scattergeo": [
           {
            "marker": {
             "colorbar": {
              "outlinewidth": 0,
              "ticks": ""
             }
            },
            "type": "scattergeo"
           }
          ],
          "scattergl": [
           {
            "marker": {
             "colorbar": {
              "outlinewidth": 0,
              "ticks": ""
             }
            },
            "type": "scattergl"
           }
          ],
          "scattermapbox": [
           {
            "marker": {
             "colorbar": {
              "outlinewidth": 0,
              "ticks": ""
             }
            },
            "type": "scattermapbox"
           }
          ],
          "scatterpolar": [
           {
            "marker": {
             "colorbar": {
              "outlinewidth": 0,
              "ticks": ""
             }
            },
            "type": "scatterpolar"
           }
          ],
          "scatterpolargl": [
           {
            "marker": {
             "colorbar": {
              "outlinewidth": 0,
              "ticks": ""
             }
            },
            "type": "scatterpolargl"
           }
          ],
          "scatterternary": [
           {
            "marker": {
             "colorbar": {
              "outlinewidth": 0,
              "ticks": ""
             }
            },
            "type": "scatterternary"
           }
          ],
          "surface": [
           {
            "colorbar": {
             "outlinewidth": 0,
             "ticks": ""
            },
            "colorscale": [
             [
              0,
              "#0d0887"
             ],
             [
              0.1111111111111111,
              "#46039f"
             ],
             [
              0.2222222222222222,
              "#7201a8"
             ],
             [
              0.3333333333333333,
              "#9c179e"
             ],
             [
              0.4444444444444444,
              "#bd3786"
             ],
             [
              0.5555555555555556,
              "#d8576b"
             ],
             [
              0.6666666666666666,
              "#ed7953"
             ],
             [
              0.7777777777777778,
              "#fb9f3a"
             ],
             [
              0.8888888888888888,
              "#fdca26"
             ],
             [
              1,
              "#f0f921"
             ]
            ],
            "type": "surface"
           }
          ],
          "table": [
           {
            "cells": {
             "fill": {
              "color": "#EBF0F8"
             },
             "line": {
              "color": "white"
             }
            },
            "header": {
             "fill": {
              "color": "#C8D4E3"
             },
             "line": {
              "color": "white"
             }
            },
            "type": "table"
           }
          ]
         },
         "layout": {
          "annotationdefaults": {
           "arrowcolor": "#2a3f5f",
           "arrowhead": 0,
           "arrowwidth": 1
          },
          "autotypenumbers": "strict",
          "coloraxis": {
           "colorbar": {
            "outlinewidth": 0,
            "ticks": ""
           }
          },
          "colorscale": {
           "diverging": [
            [
             0,
             "#8e0152"
            ],
            [
             0.1,
             "#c51b7d"
            ],
            [
             0.2,
             "#de77ae"
            ],
            [
             0.3,
             "#f1b6da"
            ],
            [
             0.4,
             "#fde0ef"
            ],
            [
             0.5,
             "#f7f7f7"
            ],
            [
             0.6,
             "#e6f5d0"
            ],
            [
             0.7,
             "#b8e186"
            ],
            [
             0.8,
             "#7fbc41"
            ],
            [
             0.9,
             "#4d9221"
            ],
            [
             1,
             "#276419"
            ]
           ],
           "sequential": [
            [
             0,
             "#0d0887"
            ],
            [
             0.1111111111111111,
             "#46039f"
            ],
            [
             0.2222222222222222,
             "#7201a8"
            ],
            [
             0.3333333333333333,
             "#9c179e"
            ],
            [
             0.4444444444444444,
             "#bd3786"
            ],
            [
             0.5555555555555556,
             "#d8576b"
            ],
            [
             0.6666666666666666,
             "#ed7953"
            ],
            [
             0.7777777777777778,
             "#fb9f3a"
            ],
            [
             0.8888888888888888,
             "#fdca26"
            ],
            [
             1,
             "#f0f921"
            ]
           ],
           "sequentialminus": [
            [
             0,
             "#0d0887"
            ],
            [
             0.1111111111111111,
             "#46039f"
            ],
            [
             0.2222222222222222,
             "#7201a8"
            ],
            [
             0.3333333333333333,
             "#9c179e"
            ],
            [
             0.4444444444444444,
             "#bd3786"
            ],
            [
             0.5555555555555556,
             "#d8576b"
            ],
            [
             0.6666666666666666,
             "#ed7953"
            ],
            [
             0.7777777777777778,
             "#fb9f3a"
            ],
            [
             0.8888888888888888,
             "#fdca26"
            ],
            [
             1,
             "#f0f921"
            ]
           ]
          },
          "colorway": [
           "#636efa",
           "#EF553B",
           "#00cc96",
           "#ab63fa",
           "#FFA15A",
           "#19d3f3",
           "#FF6692",
           "#B6E880",
           "#FF97FF",
           "#FECB52"
          ],
          "font": {
           "color": "#2a3f5f"
          },
          "geo": {
           "bgcolor": "white",
           "lakecolor": "white",
           "landcolor": "#E5ECF6",
           "showlakes": true,
           "showland": true,
           "subunitcolor": "white"
          },
          "hoverlabel": {
           "align": "left"
          },
          "hovermode": "closest",
          "mapbox": {
           "style": "light"
          },
          "paper_bgcolor": "white",
          "plot_bgcolor": "#E5ECF6",
          "polar": {
           "angularaxis": {
            "gridcolor": "white",
            "linecolor": "white",
            "ticks": ""
           },
           "bgcolor": "#E5ECF6",
           "radialaxis": {
            "gridcolor": "white",
            "linecolor": "white",
            "ticks": ""
           }
          },
          "scene": {
           "xaxis": {
            "backgroundcolor": "#E5ECF6",
            "gridcolor": "white",
            "gridwidth": 2,
            "linecolor": "white",
            "showbackground": true,
            "ticks": "",
            "zerolinecolor": "white"
           },
           "yaxis": {
            "backgroundcolor": "#E5ECF6",
            "gridcolor": "white",
            "gridwidth": 2,
            "linecolor": "white",
            "showbackground": true,
            "ticks": "",
            "zerolinecolor": "white"
           },
           "zaxis": {
            "backgroundcolor": "#E5ECF6",
            "gridcolor": "white",
            "gridwidth": 2,
            "linecolor": "white",
            "showbackground": true,
            "ticks": "",
            "zerolinecolor": "white"
           }
          },
          "shapedefaults": {
           "line": {
            "color": "#2a3f5f"
           }
          },
          "ternary": {
           "aaxis": {
            "gridcolor": "white",
            "linecolor": "white",
            "ticks": ""
           },
           "baxis": {
            "gridcolor": "white",
            "linecolor": "white",
            "ticks": ""
           },
           "bgcolor": "#E5ECF6",
           "caxis": {
            "gridcolor": "white",
            "linecolor": "white",
            "ticks": ""
           }
          },
          "title": {
           "x": 0.05
          },
          "xaxis": {
           "automargin": true,
           "gridcolor": "white",
           "linecolor": "white",
           "ticks": "",
           "title": {
            "standoff": 15
           },
           "zerolinecolor": "white",
           "zerolinewidth": 2
          },
          "yaxis": {
           "automargin": true,
           "gridcolor": "white",
           "linecolor": "white",
           "ticks": "",
           "title": {
            "standoff": 15
           },
           "zerolinecolor": "white",
           "zerolinewidth": 2
          }
         }
        },
        "title": {
         "text": "BMI by Participant Gender"
        },
        "xaxis": {
         "anchor": "y",
         "autorange": true,
         "domain": [
          0,
          1
         ],
         "range": [
          -0.5,
          1.5
         ],
         "title": {
          "text": "Gender"
         },
         "type": "category"
        },
        "yaxis": {
         "anchor": "x",
         "autorange": true,
         "domain": [
          0,
          1
         ],
         "range": [
          0,
          33.78912792522686
         ],
         "title": {
          "text": "BMI"
         },
         "type": "linear"
        }
       }
      },
      "image/png": "[encoded data removed]",
      "text/html": [
       "<div>                            <div id=\"e16c63ce-e69d-4641-90a2-7cae8ba83b60\" class=\"plotly-graph-div\" style=\"height:600px; width:100%;\"></div>            <script type=\"text/javascript\">                require([\"plotly\"], function(Plotly) {                    window.PLOTLYENV=window.PLOTLYENV || {};                                    if (document.getElementById(\"e16c63ce-e69d-4641-90a2-7cae8ba83b60\")) {                    Plotly.newPlot(                        \"e16c63ce-e69d-4641-90a2-7cae8ba83b60\",                        [{\"alignmentgroup\":\"True\",\"hovertemplate\":\"Gender=%{x}\\u003cbr\\u003eBMI=%{y}\\u003cextra\\u003e\\u003c\\u002fextra\\u003e\",\"legendgroup\":\"\",\"marker\":{\"color\":\"#636efa\",\"pattern\":{\"shape\":\"\"}},\"name\":\"\",\"offsetgroup\":\"\",\"orientation\":\"v\",\"showlegend\":false,\"textposition\":\"auto\",\"x\":[\"F\",\"M\"],\"xaxis\":\"x\",\"y\":[32.099671528965516,29.428059426875002],\"yaxis\":\"y\",\"type\":\"bar\"}],                        {\"template\":{\"data\":{\"histogram2dcontour\":[{\"type\":\"histogram2dcontour\",\"colorbar\":{\"outlinewidth\":0,\"ticks\":\"\"},\"colorscale\":[[0.0,\"#0d0887\"],[0.1111111111111111,\"#46039f\"],[0.2222222222222222,\"#7201a8\"],[0.3333333333333333,\"#9c179e\"],[0.4444444444444444,\"#bd3786\"],[0.5555555555555556,\"#d8576b\"],[0.6666666666666666,\"#ed7953\"],[0.7777777777777778,\"#fb9f3a\"],[0.8888888888888888,\"#fdca26\"],[1.0,\"#f0f921\"]]}],\"choropleth\":[{\"type\":\"choropleth\",\"colorbar\":{\"outlinewidth\":0,\"ticks\":\"\"}}],\"histogram2d\":[{\"type\":\"histogram2d\",\"colorbar\":{\"outlinewidth\":0,\"ticks\":\"\"},\"colorscale\":[[0.0,\"#0d0887\"],[0.1111111111111111,\"#46039f\"],[0.2222222222222222,\"#7201a8\"],[0.3333333333333333,\"#9c179e\"],[0.4444444444444444,\"#bd3786\"],[0.5555555555555556,\"#d8576b\"],[0.6666666666666666,\"#ed7953\"],[0.7777777777777778,\"#fb9f3a\"],[0.8888888888888888,\"#fdca26\"],[1.0,\"#f0f921\"]]}],\"heatmap\":[{\"type\":\"heatmap\",\"colorbar\":{\"outlinewidth\":0,\"ticks\":\"\"},\"colorscale\":[[0.0,\"#0d0887\"],[0.1111111111111111,\"#46039f\"],[0.2222222222222222,\"#7201a8\"],[0.3333333333333333,\"#9c179e\"],[0.4444444444444444,\"#bd3786\"],[0.5555555555555556,\"#d8576b\"],[0.6666666666666666,\"#ed7953\"],[0.7777777777777778,\"#fb9f3a\"],[0.8888888888888888,\"#fdca26\"],[1.0,\"#f0f921\"]]}],\"heatmapgl\":[{\"type\":\"heatmapgl\",\"colorbar\":{\"outlinewidth\":0,\"ticks\":\"\"},\"colorscale\":[[0.0,\"#0d0887\"],[0.1111111111111111,\"#46039f\"],[0.2222222222222222,\"#7201a8\"],[0.3333333333333333,\"#9c179e\"],[0.4444444444444444,\"#bd3786\"],[0.5555555555555556,\"#d8576b\"],[0.6666666666666666,\"#ed7953\"],[0.7777777777777778,\"#fb9f3a\"],[0.8888888888888888,\"#fdca26\"],[1.0,\"#f0f921\"]]}],\"contourcarpet\":[{\"type\":\"contourcarpet\",\"colorbar\":{\"outlinewidth\":0,\"ticks\":\"\"}}],\"contour\":[{\"type\":\"contour\",\"colorbar\":{\"outlinewidth\":0,\"ticks\":\"\"},\"colorscale\":[[0.0,\"#0d0887\"],[0.1111111111111111,\"#46039f\"],[0.2222222222222222,\"#7201a8\"],[0.3333333333333333,\"#9c179e\"],[0.4444444444444444,\"#bd3786\"],[0.5555555555555556,\"#d8576b\"],[0.6666666666666666,\"#ed7953\"],[0.7777777777777778,\"#fb9f3a\"],[0.8888888888888888,\"#fdca26\"],[1.0,\"#f0f921\"]]}],\"surface\":[{\"type\":\"surface\",\"colorbar\":{\"outlinewidth\":0,\"ticks\":\"\"},\"colorscale\":[[0.0,\"#0d0887\"],[0.1111111111111111,\"#46039f\"],[0.2222222222222222,\"#7201a8\"],[0.3333333333333333,\"#9c179e\"],[0.4444444444444444,\"#bd3786\"],[0.5555555555555556,\"#d8576b\"],[0.6666666666666666,\"#ed7953\"],[0.7777777777777778,\"#fb9f3a\"],[0.8888888888888888,\"#fdca26\"],[1.0,\"#f0f921\"]]}],\"mesh3d\":[{\"type\":\"mesh3d\",\"colorbar\":{\"outlinewidth\":0,\"ticks\":\"\"}}],\"scatter\":[{\"fillpattern\":{\"fillmode\":\"overlay\",\"size\":10,\"solidity\":0.2},\"type\":\"scatter\"}],\"parcoords\":[{\"type\":\"parcoords\",\"line\":{\"colorbar\":{\"outlinewidth\":0,\"ticks\":\"\"}}}],\"scatterpolargl\":[{\"type\":\"scatterpolargl\",\"marker\":{\"colorbar\":{\"outlinewidth\":0,\"ticks\":\"\"}}}],\"bar\":[{\"error_x\":{\"color\":\"#2a3f5f\"},\"error_y\":{\"color\":\"#2a3f5f\"},\"marker\":{\"line\":{\"color\":\"#E5ECF6\",\"width\":0.5},\"pattern\":{\"fillmode\":\"overlay\",\"size\":10,\"solidity\":0.2}},\"type\":\"bar\"}],\"scattergeo\":[{\"type\":\"scattergeo\",\"marker\":{\"colorbar\":{\"outlinewidth\":0,\"ticks\":\"\"}}}],\"scatterpolar\":[{\"type\":\"scatterpolar\",\"marker\":{\"colorbar\":{\"outlinewidth\":0,\"ticks\":\"\"}}}],\"histogram\":[{\"marker\":{\"pattern\":{\"fillmode\":\"overlay\",\"size\":10,\"solidity\":0.2}},\"type\":\"histogram\"}],\"scattergl\":[{\"type\":\"scattergl\",\"marker\":{\"colorbar\":{\"outlinewidth\":0,\"ticks\":\"\"}}}],\"scatter3d\":[{\"type\":\"scatter3d\",\"line\":{\"colorbar\":{\"outlinewidth\":0,\"ticks\":\"\"}},\"marker\":{\"colorbar\":{\"outlinewidth\":0,\"ticks\":\"\"}}}],\"scattermapbox\":[{\"type\":\"scattermapbox\",\"marker\":{\"colorbar\":{\"outlinewidth\":0,\"ticks\":\"\"}}}],\"scatterternary\":[{\"type\":\"scatterternary\",\"marker\":{\"colorbar\":{\"outlinewidth\":0,\"ticks\":\"\"}}}],\"scattercarpet\":[{\"type\":\"scattercarpet\",\"marker\":{\"colorbar\":{\"outlinewidth\":0,\"ticks\":\"\"}}}],\"carpet\":[{\"aaxis\":{\"endlinecolor\":\"#2a3f5f\",\"gridcolor\":\"white\",\"linecolor\":\"white\",\"minorgridcolor\":\"white\",\"startlinecolor\":\"#2a3f5f\"},\"baxis\":{\"endlinecolor\":\"#2a3f5f\",\"gridcolor\":\"white\",\"linecolor\":\"white\",\"minorgridcolor\":\"white\",\"startlinecolor\":\"#2a3f5f\"},\"type\":\"carpet\"}],\"table\":[{\"cells\":{\"fill\":{\"color\":\"#EBF0F8\"},\"line\":{\"color\":\"white\"}},\"header\":{\"fill\":{\"color\":\"#C8D4E3\"},\"line\":{\"color\":\"white\"}},\"type\":\"table\"}],\"barpolar\":[{\"marker\":{\"line\":{\"color\":\"#E5ECF6\",\"width\":0.5},\"pattern\":{\"fillmode\":\"overlay\",\"size\":10,\"solidity\":0.2}},\"type\":\"barpolar\"}],\"pie\":[{\"automargin\":true,\"type\":\"pie\"}]},\"layout\":{\"autotypenumbers\":\"strict\",\"colorway\":[\"#636efa\",\"#EF553B\",\"#00cc96\",\"#ab63fa\",\"#FFA15A\",\"#19d3f3\",\"#FF6692\",\"#B6E880\",\"#FF97FF\",\"#FECB52\"],\"font\":{\"color\":\"#2a3f5f\"},\"hovermode\":\"closest\",\"hoverlabel\":{\"align\":\"left\"},\"paper_bgcolor\":\"white\",\"plot_bgcolor\":\"#E5ECF6\",\"polar\":{\"bgcolor\":\"#E5ECF6\",\"angularaxis\":{\"gridcolor\":\"white\",\"linecolor\":\"white\",\"ticks\":\"\"},\"radialaxis\":{\"gridcolor\":\"white\",\"linecolor\":\"white\",\"ticks\":\"\"}},\"ternary\":{\"bgcolor\":\"#E5ECF6\",\"aaxis\":{\"gridcolor\":\"white\",\"linecolor\":\"white\",\"ticks\":\"\"},\"baxis\":{\"gridcolor\":\"white\",\"linecolor\":\"white\",\"ticks\":\"\"},\"caxis\":{\"gridcolor\":\"white\",\"linecolor\":\"white\",\"ticks\":\"\"}},\"coloraxis\":{\"colorbar\":{\"outlinewidth\":0,\"ticks\":\"\"}},\"colorscale\":{\"sequential\":[[0.0,\"#0d0887\"],[0.1111111111111111,\"#46039f\"],[0.2222222222222222,\"#7201a8\"],[0.3333333333333333,\"#9c179e\"],[0.4444444444444444,\"#bd3786\"],[0.5555555555555556,\"#d8576b\"],[0.6666666666666666,\"#ed7953\"],[0.7777777777777778,\"#fb9f3a\"],[0.8888888888888888,\"#fdca26\"],[1.0,\"#f0f921\"]],\"sequentialminus\":[[0.0,\"#0d0887\"],[0.1111111111111111,\"#46039f\"],[0.2222222222222222,\"#7201a8\"],[0.3333333333333333,\"#9c179e\"],[0.4444444444444444,\"#bd3786\"],[0.5555555555555556,\"#d8576b\"],[0.6666666666666666,\"#ed7953\"],[0.7777777777777778,\"#fb9f3a\"],[0.8888888888888888,\"#fdca26\"],[1.0,\"#f0f921\"]],\"diverging\":[[0,\"#8e0152\"],[0.1,\"#c51b7d\"],[0.2,\"#de77ae\"],[0.3,\"#f1b6da\"],[0.4,\"#fde0ef\"],[0.5,\"#f7f7f7\"],[0.6,\"#e6f5d0\"],[0.7,\"#b8e186\"],[0.8,\"#7fbc41\"],[0.9,\"#4d9221\"],[1,\"#276419\"]]},\"xaxis\":{\"gridcolor\":\"white\",\"linecolor\":\"white\",\"ticks\":\"\",\"title\":{\"standoff\":15},\"zerolinecolor\":\"white\",\"automargin\":true,\"zerolinewidth\":2},\"yaxis\":{\"gridcolor\":\"white\",\"linecolor\":\"white\",\"ticks\":\"\",\"title\":{\"standoff\":15},\"zerolinecolor\":\"white\",\"automargin\":true,\"zerolinewidth\":2},\"scene\":{\"xaxis\":{\"backgroundcolor\":\"#E5ECF6\",\"gridcolor\":\"white\",\"linecolor\":\"white\",\"showbackground\":true,\"ticks\":\"\",\"zerolinecolor\":\"white\",\"gridwidth\":2},\"yaxis\":{\"backgroundcolor\":\"#E5ECF6\",\"gridcolor\":\"white\",\"linecolor\":\"white\",\"showbackground\":true,\"ticks\":\"\",\"zerolinecolor\":\"white\",\"gridwidth\":2},\"zaxis\":{\"backgroundcolor\":\"#E5ECF6\",\"gridcolor\":\"white\",\"linecolor\":\"white\",\"showbackground\":true,\"ticks\":\"\",\"zerolinecolor\":\"white\",\"gridwidth\":2}},\"shapedefaults\":{\"line\":{\"color\":\"#2a3f5f\"}},\"annotationdefaults\":{\"arrowcolor\":\"#2a3f5f\",\"arrowhead\":0,\"arrowwidth\":1},\"geo\":{\"bgcolor\":\"white\",\"landcolor\":\"#E5ECF6\",\"subunitcolor\":\"white\",\"showland\":true,\"showlakes\":true,\"lakecolor\":\"white\"},\"title\":{\"x\":0.05},\"mapbox\":{\"style\":\"light\"}}},\"xaxis\":{\"anchor\":\"y\",\"domain\":[0.0,1.0],\"title\":{\"text\":\"Gender\"}},\"yaxis\":{\"anchor\":\"x\",\"domain\":[0.0,1.0],\"title\":{\"text\":\"BMI\"}},\"legend\":{\"tracegroupgap\":0},\"title\":{\"text\":\"BMI by Participant Gender\"},\"barmode\":\"relative\",\"height\":600},                        {\"responsive\": true}                    ).then(function(){\n",
       "                            \n",
       "var gd = document.getElementById('e16c63ce-e69d-4641-90a2-7cae8ba83b60');\n",
       "var x = new MutationObserver(function (mutations, observer) {{\n",
       "        var display = window.getComputedStyle(gd).display;\n",
       "        if (!display || display === 'none') {{\n",
       "            console.log([gd, 'removed!']);\n",
       "            Plotly.purge(gd);\n",
       "            observer.disconnect();\n",
       "        }}\n",
       "}});\n",
       "\n",
       "// Listen for the removal of the full notebook cells\n",
       "var notebookContainer = gd.closest('#notebook-container');\n",
       "if (notebookContainer) {{\n",
       "    x.observe(notebookContainer, {childList: true});\n",
       "}}\n",
       "\n",
       "// Listen for the clearing of the current output cell\n",
       "var outputEl = gd.closest('.output');\n",
       "if (outputEl) {{\n",
       "    x.observe(outputEl, {childList: true});\n",
       "}}\n",
       "\n",
       "                        })                };                });            </script>        </div>"
      ]
     },
     "metadata": {},
     "output_type": "display_data"
    }
   ],
   "source": [
    "fig2 = px.bar(bio_gender, x = 'Gender', y = 'BMI', title = \"BMI by Participant Gender\", height = 600)\n",
    "fig2.show()"
   ]
  },
  {
   "cell_type": "code",
   "execution_count": null,
   "id": "871453fa-279c-4536-a472-73433878447d",
   "metadata": {},
   "outputs": [],
   "source": []
  }
 ],
 "metadata": {
  "kernelspec": {
   "display_name": "Python 3 (ipykernel)",
   "language": "python",
   "name": "python3"
  },
  "language_info": {
   "codemirror_mode": {
    "name": "ipython",
    "version": 3
   },
   "file_extension": ".py",
   "mimetype": "text/x-python",
   "name": "python",
   "nbconvert_exporter": "python",
   "pygments_lexer": "ipython3",
   "version": "3.12.7"
  }
 },
 "nbformat": 4,
 "nbformat_minor": 5
}
