{
 "cells": [
  {
   "cell_type": "code",
   "execution_count": 1,
   "metadata": {},
   "outputs": [],
   "source": [
    "import pandas as pd\n",
    "import numpy as np\n",
    "import plotly.express as px"
   ]
  },
  {
   "cell_type": "code",
   "execution_count": 2,
   "metadata": {},
   "outputs": [],
   "source": [
    "# Read microbes.csv\n",
    "df_microbes = pd.read_csv(r'c:\\Users\\micha\\Downloads\\CGMacros_dateshifted365\\CGMacros\\microbes.csv')\n",
    "\n",
    "# Read gut_health_test.csv\n",
    "df_gut = pd.read_csv(r'c:\\Users\\micha\\Downloads\\CGMacros_dateshifted365\\CGMacros\\gut_health_test.csv')\n",
    "\n",
    "# Read CGMacros-039.csv\n",
    "df_macro039 = pd.read_csv(r'c:\\Users\\micha\\Downloads\\CGMacros_dateshifted365\\CGMacros\\CGMacros-039\\CGMacros-039.csv')\n",
    "\n",
    "# Read bio.csv\n",
    "df_bio = pd.read_csv(r'c:\\Users\\micha\\Downloads\\CGMacros_dateshifted365\\CGMacros\\bio.csv')"
   ]
  },
  {
   "cell_type": "code",
   "execution_count": 3,
   "metadata": {},
   "outputs": [
    {
     "data": {
      "text/html": [
       "<div>\n",
       "<style scoped>\n",
       "    .dataframe tbody tr th:only-of-type {\n",
       "        vertical-align: middle;\n",
       "    }\n",
       "\n",
       "    .dataframe tbody tr th {\n",
       "        vertical-align: top;\n",
       "    }\n",
       "\n",
       "    .dataframe thead th {\n",
       "        text-align: right;\n",
       "    }\n",
       "</style>\n",
       "<table border=\"1\" class=\"dataframe\">\n",
       "  <thead>\n",
       "    <tr style=\"text-align: right;\">\n",
       "      <th></th>\n",
       "      <th>subject</th>\n",
       "      <th>Abiotrophia defectiva</th>\n",
       "      <th>Abiotrophia sp. HMSC24B09</th>\n",
       "      <th>Acetivibrio ethanolgignens</th>\n",
       "      <th>Acetivibrio ethanolgignens strain ACET-33324</th>\n",
       "      <th>Achromobacter</th>\n",
       "      <th>Acidaminococcus intestini RyC-MR95</th>\n",
       "      <th>Acidaminococcus sp. BV3L6</th>\n",
       "      <th>Acidaminococcus sp. D21</th>\n",
       "      <th>Acidaminococcus sp. HPA0509</th>\n",
       "      <th>...</th>\n",
       "      <th>[Eubacterium] rectale strain T1-815</th>\n",
       "      <th>[Eubacterium] siraeum DSM 15702</th>\n",
       "      <th>[Eubacterium] siraeum strain 2789STDY5834928</th>\n",
       "      <th>[Propionibacterium] namnetense</th>\n",
       "      <th>[Ruminococcus] gnavus ATCC 29149</th>\n",
       "      <th>[Ruminococcus] torques strain 2789STDY5608833</th>\n",
       "      <th>[Ruminococcus] torques strain 2789STDY5608867</th>\n",
       "      <th>[Ruminococcus] torques strain 2789STDY5834841</th>\n",
       "      <th>[Ruminococcus] torques strain 2789STDY5834889</th>\n",
       "      <th>bacterium LF-3</th>\n",
       "    </tr>\n",
       "  </thead>\n",
       "  <tbody>\n",
       "    <tr>\n",
       "      <th>0</th>\n",
       "      <td>1</td>\n",
       "      <td>0.0</td>\n",
       "      <td>0.0</td>\n",
       "      <td>1.0</td>\n",
       "      <td>0.0</td>\n",
       "      <td>0.0</td>\n",
       "      <td>0.0</td>\n",
       "      <td>0.0</td>\n",
       "      <td>0.0</td>\n",
       "      <td>0.0</td>\n",
       "      <td>...</td>\n",
       "      <td>1.0</td>\n",
       "      <td>0.0</td>\n",
       "      <td>1.0</td>\n",
       "      <td>0.0</td>\n",
       "      <td>0.0</td>\n",
       "      <td>1.0</td>\n",
       "      <td>1.0</td>\n",
       "      <td>1.0</td>\n",
       "      <td>1.0</td>\n",
       "      <td>1.0</td>\n",
       "    </tr>\n",
       "    <tr>\n",
       "      <th>1</th>\n",
       "      <td>2</td>\n",
       "      <td>0.0</td>\n",
       "      <td>0.0</td>\n",
       "      <td>0.0</td>\n",
       "      <td>1.0</td>\n",
       "      <td>0.0</td>\n",
       "      <td>0.0</td>\n",
       "      <td>0.0</td>\n",
       "      <td>0.0</td>\n",
       "      <td>0.0</td>\n",
       "      <td>...</td>\n",
       "      <td>1.0</td>\n",
       "      <td>0.0</td>\n",
       "      <td>0.0</td>\n",
       "      <td>0.0</td>\n",
       "      <td>0.0</td>\n",
       "      <td>1.0</td>\n",
       "      <td>1.0</td>\n",
       "      <td>1.0</td>\n",
       "      <td>1.0</td>\n",
       "      <td>1.0</td>\n",
       "    </tr>\n",
       "    <tr>\n",
       "      <th>2</th>\n",
       "      <td>3</td>\n",
       "      <td>0.0</td>\n",
       "      <td>0.0</td>\n",
       "      <td>0.0</td>\n",
       "      <td>1.0</td>\n",
       "      <td>0.0</td>\n",
       "      <td>1.0</td>\n",
       "      <td>0.0</td>\n",
       "      <td>1.0</td>\n",
       "      <td>0.0</td>\n",
       "      <td>...</td>\n",
       "      <td>1.0</td>\n",
       "      <td>1.0</td>\n",
       "      <td>1.0</td>\n",
       "      <td>0.0</td>\n",
       "      <td>0.0</td>\n",
       "      <td>1.0</td>\n",
       "      <td>1.0</td>\n",
       "      <td>1.0</td>\n",
       "      <td>1.0</td>\n",
       "      <td>1.0</td>\n",
       "    </tr>\n",
       "    <tr>\n",
       "      <th>3</th>\n",
       "      <td>4</td>\n",
       "      <td>0.0</td>\n",
       "      <td>1.0</td>\n",
       "      <td>0.0</td>\n",
       "      <td>0.0</td>\n",
       "      <td>0.0</td>\n",
       "      <td>1.0</td>\n",
       "      <td>0.0</td>\n",
       "      <td>1.0</td>\n",
       "      <td>1.0</td>\n",
       "      <td>...</td>\n",
       "      <td>1.0</td>\n",
       "      <td>1.0</td>\n",
       "      <td>1.0</td>\n",
       "      <td>0.0</td>\n",
       "      <td>0.0</td>\n",
       "      <td>1.0</td>\n",
       "      <td>1.0</td>\n",
       "      <td>1.0</td>\n",
       "      <td>1.0</td>\n",
       "      <td>0.0</td>\n",
       "    </tr>\n",
       "    <tr>\n",
       "      <th>4</th>\n",
       "      <td>5</td>\n",
       "      <td>0.0</td>\n",
       "      <td>0.0</td>\n",
       "      <td>1.0</td>\n",
       "      <td>0.0</td>\n",
       "      <td>0.0</td>\n",
       "      <td>1.0</td>\n",
       "      <td>1.0</td>\n",
       "      <td>1.0</td>\n",
       "      <td>1.0</td>\n",
       "      <td>...</td>\n",
       "      <td>1.0</td>\n",
       "      <td>0.0</td>\n",
       "      <td>0.0</td>\n",
       "      <td>0.0</td>\n",
       "      <td>0.0</td>\n",
       "      <td>1.0</td>\n",
       "      <td>0.0</td>\n",
       "      <td>1.0</td>\n",
       "      <td>0.0</td>\n",
       "      <td>0.0</td>\n",
       "    </tr>\n",
       "  </tbody>\n",
       "</table>\n",
       "<p>5 rows × 1980 columns</p>\n",
       "</div>"
      ],
      "text/plain": [
       "   subject  Abiotrophia defectiva   Abiotrophia sp. HMSC24B09   \\\n",
       "0        1                     0.0                         0.0   \n",
       "1        2                     0.0                         0.0   \n",
       "2        3                     0.0                         0.0   \n",
       "3        4                     0.0                         1.0   \n",
       "4        5                     0.0                         0.0   \n",
       "\n",
       "   Acetivibrio ethanolgignens   Acetivibrio ethanolgignens strain ACET-33324   \\\n",
       "0                          1.0                                            0.0   \n",
       "1                          0.0                                            1.0   \n",
       "2                          0.0                                            1.0   \n",
       "3                          0.0                                            0.0   \n",
       "4                          1.0                                            0.0   \n",
       "\n",
       "   Achromobacter   Acidaminococcus intestini RyC-MR95   \\\n",
       "0             0.0                                  0.0   \n",
       "1             0.0                                  0.0   \n",
       "2             0.0                                  1.0   \n",
       "3             0.0                                  1.0   \n",
       "4             0.0                                  1.0   \n",
       "\n",
       "   Acidaminococcus sp. BV3L6   Acidaminococcus sp. D21   \\\n",
       "0                         0.0                       0.0   \n",
       "1                         0.0                       0.0   \n",
       "2                         0.0                       1.0   \n",
       "3                         0.0                       1.0   \n",
       "4                         1.0                       1.0   \n",
       "\n",
       "   Acidaminococcus sp. HPA0509   ...  [Eubacterium] rectale strain T1-815   \\\n",
       "0                           0.0  ...                                   1.0   \n",
       "1                           0.0  ...                                   1.0   \n",
       "2                           0.0  ...                                   1.0   \n",
       "3                           1.0  ...                                   1.0   \n",
       "4                           1.0  ...                                   1.0   \n",
       "\n",
       "   [Eubacterium] siraeum DSM 15702   \\\n",
       "0                               0.0   \n",
       "1                               0.0   \n",
       "2                               1.0   \n",
       "3                               1.0   \n",
       "4                               0.0   \n",
       "\n",
       "   [Eubacterium] siraeum strain 2789STDY5834928   \\\n",
       "0                                            1.0   \n",
       "1                                            0.0   \n",
       "2                                            1.0   \n",
       "3                                            1.0   \n",
       "4                                            0.0   \n",
       "\n",
       "   [Propionibacterium] namnetense   [Ruminococcus] gnavus ATCC 29149   \\\n",
       "0                              0.0                                0.0   \n",
       "1                              0.0                                0.0   \n",
       "2                              0.0                                0.0   \n",
       "3                              0.0                                0.0   \n",
       "4                              0.0                                0.0   \n",
       "\n",
       "   [Ruminococcus] torques strain 2789STDY5608833   \\\n",
       "0                                             1.0   \n",
       "1                                             1.0   \n",
       "2                                             1.0   \n",
       "3                                             1.0   \n",
       "4                                             1.0   \n",
       "\n",
       "   [Ruminococcus] torques strain 2789STDY5608867   \\\n",
       "0                                             1.0   \n",
       "1                                             1.0   \n",
       "2                                             1.0   \n",
       "3                                             1.0   \n",
       "4                                             0.0   \n",
       "\n",
       "   [Ruminococcus] torques strain 2789STDY5834841   \\\n",
       "0                                             1.0   \n",
       "1                                             1.0   \n",
       "2                                             1.0   \n",
       "3                                             1.0   \n",
       "4                                             1.0   \n",
       "\n",
       "   [Ruminococcus] torques strain 2789STDY5834889   bacterium LF-3   \n",
       "0                                             1.0              1.0  \n",
       "1                                             1.0              1.0  \n",
       "2                                             1.0              1.0  \n",
       "3                                             1.0              0.0  \n",
       "4                                             0.0              0.0  \n",
       "\n",
       "[5 rows x 1980 columns]"
      ]
     },
     "execution_count": 3,
     "metadata": {},
     "output_type": "execute_result"
    }
   ],
   "source": [
    "df_microbes.head()"
   ]
  },
  {
   "cell_type": "code",
   "execution_count": 4,
   "metadata": {},
   "outputs": [
    {
     "data": {
      "text/html": [
       "<div>\n",
       "<style scoped>\n",
       "    .dataframe tbody tr th:only-of-type {\n",
       "        vertical-align: middle;\n",
       "    }\n",
       "\n",
       "    .dataframe tbody tr th {\n",
       "        vertical-align: top;\n",
       "    }\n",
       "\n",
       "    .dataframe thead th {\n",
       "        text-align: right;\n",
       "    }\n",
       "</style>\n",
       "<table border=\"1\" class=\"dataframe\">\n",
       "  <thead>\n",
       "    <tr style=\"text-align: right;\">\n",
       "      <th></th>\n",
       "      <th>subject</th>\n",
       "      <th>Gut Lining Health</th>\n",
       "      <th>LPS Biosynthesis Pathways</th>\n",
       "      <th>Biofilm, Chemotaxis, and Virulence Pathways</th>\n",
       "      <th>TMA Production Pathways</th>\n",
       "      <th>Ammonia Production Pathways</th>\n",
       "      <th>Metabolic Fitness</th>\n",
       "      <th>Active Microbial Diversity</th>\n",
       "      <th>Butyrate Production Pathways</th>\n",
       "      <th>Flagellar Assembly Pathways</th>\n",
       "      <th>...</th>\n",
       "      <th>Inflammatory Activity</th>\n",
       "      <th>Gut Microbiome Health</th>\n",
       "      <th>Digestive Efficiency</th>\n",
       "      <th>Protein Fermentation</th>\n",
       "      <th>Gas Production</th>\n",
       "      <th>Methane Gas Production Pathways</th>\n",
       "      <th>Sulfide Gas Production Pathways</th>\n",
       "      <th>Oxalate Metabolism Pathways</th>\n",
       "      <th>Salt Stress Pathways</th>\n",
       "      <th>Microbiome-Induced Stress</th>\n",
       "    </tr>\n",
       "  </thead>\n",
       "  <tbody>\n",
       "    <tr>\n",
       "      <th>0</th>\n",
       "      <td>1</td>\n",
       "      <td>2.0</td>\n",
       "      <td>2.0</td>\n",
       "      <td>1.0</td>\n",
       "      <td>2.0</td>\n",
       "      <td>1.0</td>\n",
       "      <td>3.0</td>\n",
       "      <td>2.0</td>\n",
       "      <td>3.0</td>\n",
       "      <td>2.0</td>\n",
       "      <td>...</td>\n",
       "      <td>2.0</td>\n",
       "      <td>3.0</td>\n",
       "      <td>1.0</td>\n",
       "      <td>1.0</td>\n",
       "      <td>2.0</td>\n",
       "      <td>3.0</td>\n",
       "      <td>1.0</td>\n",
       "      <td>1.0</td>\n",
       "      <td>3.0</td>\n",
       "      <td>2.0</td>\n",
       "    </tr>\n",
       "    <tr>\n",
       "      <th>1</th>\n",
       "      <td>2</td>\n",
       "      <td>1.0</td>\n",
       "      <td>1.0</td>\n",
       "      <td>1.0</td>\n",
       "      <td>2.0</td>\n",
       "      <td>2.0</td>\n",
       "      <td>2.0</td>\n",
       "      <td>2.0</td>\n",
       "      <td>1.0</td>\n",
       "      <td>2.0</td>\n",
       "      <td>...</td>\n",
       "      <td>2.0</td>\n",
       "      <td>2.0</td>\n",
       "      <td>1.0</td>\n",
       "      <td>1.0</td>\n",
       "      <td>1.0</td>\n",
       "      <td>1.0</td>\n",
       "      <td>1.0</td>\n",
       "      <td>3.0</td>\n",
       "      <td>2.0</td>\n",
       "      <td>1.0</td>\n",
       "    </tr>\n",
       "    <tr>\n",
       "      <th>2</th>\n",
       "      <td>3</td>\n",
       "      <td>2.0</td>\n",
       "      <td>1.0</td>\n",
       "      <td>1.0</td>\n",
       "      <td>2.0</td>\n",
       "      <td>1.0</td>\n",
       "      <td>2.0</td>\n",
       "      <td>2.0</td>\n",
       "      <td>2.0</td>\n",
       "      <td>2.0</td>\n",
       "      <td>...</td>\n",
       "      <td>2.0</td>\n",
       "      <td>2.0</td>\n",
       "      <td>2.0</td>\n",
       "      <td>1.0</td>\n",
       "      <td>2.0</td>\n",
       "      <td>3.0</td>\n",
       "      <td>2.0</td>\n",
       "      <td>1.0</td>\n",
       "      <td>3.0</td>\n",
       "      <td>2.0</td>\n",
       "    </tr>\n",
       "    <tr>\n",
       "      <th>3</th>\n",
       "      <td>4</td>\n",
       "      <td>1.0</td>\n",
       "      <td>1.0</td>\n",
       "      <td>1.0</td>\n",
       "      <td>1.0</td>\n",
       "      <td>2.0</td>\n",
       "      <td>1.0</td>\n",
       "      <td>2.0</td>\n",
       "      <td>2.0</td>\n",
       "      <td>1.0</td>\n",
       "      <td>...</td>\n",
       "      <td>2.0</td>\n",
       "      <td>1.0</td>\n",
       "      <td>2.0</td>\n",
       "      <td>1.0</td>\n",
       "      <td>3.0</td>\n",
       "      <td>3.0</td>\n",
       "      <td>3.0</td>\n",
       "      <td>1.0</td>\n",
       "      <td>2.0</td>\n",
       "      <td>2.0</td>\n",
       "    </tr>\n",
       "    <tr>\n",
       "      <th>4</th>\n",
       "      <td>5</td>\n",
       "      <td>1.0</td>\n",
       "      <td>1.0</td>\n",
       "      <td>2.0</td>\n",
       "      <td>3.0</td>\n",
       "      <td>1.0</td>\n",
       "      <td>2.0</td>\n",
       "      <td>1.0</td>\n",
       "      <td>2.0</td>\n",
       "      <td>2.0</td>\n",
       "      <td>...</td>\n",
       "      <td>1.0</td>\n",
       "      <td>1.0</td>\n",
       "      <td>2.0</td>\n",
       "      <td>2.0</td>\n",
       "      <td>3.0</td>\n",
       "      <td>3.0</td>\n",
       "      <td>2.0</td>\n",
       "      <td>2.0</td>\n",
       "      <td>2.0</td>\n",
       "      <td>2.0</td>\n",
       "    </tr>\n",
       "  </tbody>\n",
       "</table>\n",
       "<p>5 rows × 23 columns</p>\n",
       "</div>"
      ],
      "text/plain": [
       "   subject  Gut Lining Health  LPS Biosynthesis Pathways  \\\n",
       "0        1                2.0                        2.0   \n",
       "1        2                1.0                        1.0   \n",
       "2        3                2.0                        1.0   \n",
       "3        4                1.0                        1.0   \n",
       "4        5                1.0                        1.0   \n",
       "\n",
       "   Biofilm, Chemotaxis, and Virulence Pathways  TMA Production Pathways  \\\n",
       "0                                          1.0                      2.0   \n",
       "1                                          1.0                      2.0   \n",
       "2                                          1.0                      2.0   \n",
       "3                                          1.0                      1.0   \n",
       "4                                          2.0                      3.0   \n",
       "\n",
       "   Ammonia Production Pathways  Metabolic Fitness  Active Microbial Diversity  \\\n",
       "0                          1.0                3.0                         2.0   \n",
       "1                          2.0                2.0                         2.0   \n",
       "2                          1.0                2.0                         2.0   \n",
       "3                          2.0                1.0                         2.0   \n",
       "4                          1.0                2.0                         1.0   \n",
       "\n",
       "   Butyrate Production Pathways  Flagellar Assembly Pathways  ...  \\\n",
       "0                           3.0                          2.0  ...   \n",
       "1                           1.0                          2.0  ...   \n",
       "2                           2.0                          2.0  ...   \n",
       "3                           2.0                          1.0  ...   \n",
       "4                           2.0                          2.0  ...   \n",
       "\n",
       "   Inflammatory Activity  Gut Microbiome Health  Digestive Efficiency  \\\n",
       "0                    2.0                    3.0                   1.0   \n",
       "1                    2.0                    2.0                   1.0   \n",
       "2                    2.0                    2.0                   2.0   \n",
       "3                    2.0                    1.0                   2.0   \n",
       "4                    1.0                    1.0                   2.0   \n",
       "\n",
       "   Protein Fermentation  Gas Production  Methane Gas Production Pathways  \\\n",
       "0                   1.0             2.0                              3.0   \n",
       "1                   1.0             1.0                              1.0   \n",
       "2                   1.0             2.0                              3.0   \n",
       "3                   1.0             3.0                              3.0   \n",
       "4                   2.0             3.0                              3.0   \n",
       "\n",
       "   Sulfide Gas Production Pathways  Oxalate Metabolism Pathways  \\\n",
       "0                              1.0                          1.0   \n",
       "1                              1.0                          3.0   \n",
       "2                              2.0                          1.0   \n",
       "3                              3.0                          1.0   \n",
       "4                              2.0                          2.0   \n",
       "\n",
       "   Salt Stress Pathways  Microbiome-Induced Stress  \n",
       "0                   3.0                        2.0  \n",
       "1                   2.0                        1.0  \n",
       "2                   3.0                        2.0  \n",
       "3                   2.0                        2.0  \n",
       "4                   2.0                        2.0  \n",
       "\n",
       "[5 rows x 23 columns]"
      ]
     },
     "execution_count": 4,
     "metadata": {},
     "output_type": "execute_result"
    }
   ],
   "source": [
    "df_gut.head()"
   ]
  },
  {
   "cell_type": "code",
   "execution_count": 5,
   "metadata": {},
   "outputs": [
    {
     "data": {
      "text/html": [
       "<div>\n",
       "<style scoped>\n",
       "    .dataframe tbody tr th:only-of-type {\n",
       "        vertical-align: middle;\n",
       "    }\n",
       "\n",
       "    .dataframe tbody tr th {\n",
       "        vertical-align: top;\n",
       "    }\n",
       "\n",
       "    .dataframe thead th {\n",
       "        text-align: right;\n",
       "    }\n",
       "</style>\n",
       "<table border=\"1\" class=\"dataframe\">\n",
       "  <thead>\n",
       "    <tr style=\"text-align: right;\">\n",
       "      <th></th>\n",
       "      <th>subject</th>\n",
       "      <th>Age</th>\n",
       "      <th>Gender</th>\n",
       "      <th>BMI</th>\n",
       "      <th>Body weight</th>\n",
       "      <th>Height</th>\n",
       "      <th>Self-identify</th>\n",
       "      <th>A1c PDL (Lab)</th>\n",
       "      <th>Fasting GLU - PDL (Lab)</th>\n",
       "      <th>Insulin</th>\n",
       "      <th>...</th>\n",
       "      <th>LDL (Cal)</th>\n",
       "      <th>VLDL (Cal)</th>\n",
       "      <th>Cho/HDL Ratio</th>\n",
       "      <th>Collection time PDL (Lab)</th>\n",
       "      <th>#1 Contour Fingerstick GLU</th>\n",
       "      <th>Time (t)</th>\n",
       "      <th>#2 Contour Fingerstick GLU</th>\n",
       "      <th>Time (t).1</th>\n",
       "      <th>#3 Contour Fingerstick GLU</th>\n",
       "      <th>Time (t).2</th>\n",
       "    </tr>\n",
       "  </thead>\n",
       "  <tbody>\n",
       "    <tr>\n",
       "      <th>0</th>\n",
       "      <td>1</td>\n",
       "      <td>27</td>\n",
       "      <td>M</td>\n",
       "      <td>22.265239</td>\n",
       "      <td>133.8</td>\n",
       "      <td>65.0</td>\n",
       "      <td>Hispanic/Latino</td>\n",
       "      <td>5.4</td>\n",
       "      <td>91</td>\n",
       "      <td>2.5</td>\n",
       "      <td>...</td>\n",
       "      <td>130</td>\n",
       "      <td>13</td>\n",
       "      <td>2.9</td>\n",
       "      <td>11:06:00 AM</td>\n",
       "      <td>89</td>\n",
       "      <td>9:40</td>\n",
       "      <td>73</td>\n",
       "      <td>12:11</td>\n",
       "      <td>81</td>\n",
       "      <td>13:18</td>\n",
       "    </tr>\n",
       "    <tr>\n",
       "      <th>1</th>\n",
       "      <td>2</td>\n",
       "      <td>49</td>\n",
       "      <td>F</td>\n",
       "      <td>30.946742</td>\n",
       "      <td>169.2</td>\n",
       "      <td>62.0</td>\n",
       "      <td>Hispanic/Latino</td>\n",
       "      <td>5.5</td>\n",
       "      <td>93</td>\n",
       "      <td>14.8</td>\n",
       "      <td>...</td>\n",
       "      <td>78</td>\n",
       "      <td>12</td>\n",
       "      <td>2.0</td>\n",
       "      <td>7:38:00 AM</td>\n",
       "      <td>91</td>\n",
       "      <td>7:52</td>\n",
       "      <td>123</td>\n",
       "      <td>9:21</td>\n",
       "      <td>80</td>\n",
       "      <td>10:22</td>\n",
       "    </tr>\n",
       "    <tr>\n",
       "      <th>2</th>\n",
       "      <td>3</td>\n",
       "      <td>59</td>\n",
       "      <td>F</td>\n",
       "      <td>26.948690</td>\n",
       "      <td>157.0</td>\n",
       "      <td>64.0</td>\n",
       "      <td>Hispanic/Latino</td>\n",
       "      <td>6.5</td>\n",
       "      <td>118</td>\n",
       "      <td>17.4</td>\n",
       "      <td>...</td>\n",
       "      <td>90</td>\n",
       "      <td>31</td>\n",
       "      <td>2.6</td>\n",
       "      <td>7:25:00 AM</td>\n",
       "      <td>119</td>\n",
       "      <td>7:38</td>\n",
       "      <td>166</td>\n",
       "      <td>9:23</td>\n",
       "      <td>98</td>\n",
       "      <td>10:23</td>\n",
       "    </tr>\n",
       "    <tr>\n",
       "      <th>3</th>\n",
       "      <td>4</td>\n",
       "      <td>33</td>\n",
       "      <td>F</td>\n",
       "      <td>42.384279</td>\n",
       "      <td>262.6</td>\n",
       "      <td>66.0</td>\n",
       "      <td>Hispanic/Latino</td>\n",
       "      <td>5.5</td>\n",
       "      <td>105</td>\n",
       "      <td>19.4</td>\n",
       "      <td>...</td>\n",
       "      <td>164</td>\n",
       "      <td>60</td>\n",
       "      <td>5.8</td>\n",
       "      <td>7:20:00 AM</td>\n",
       "      <td>109</td>\n",
       "      <td>7:37</td>\n",
       "      <td>110</td>\n",
       "      <td>9:04</td>\n",
       "      <td>90</td>\n",
       "      <td>10:01</td>\n",
       "    </tr>\n",
       "    <tr>\n",
       "      <th>4</th>\n",
       "      <td>5</td>\n",
       "      <td>51</td>\n",
       "      <td>F</td>\n",
       "      <td>30.957534</td>\n",
       "      <td>172.0</td>\n",
       "      <td>62.5</td>\n",
       "      <td>Hispanic/Latino</td>\n",
       "      <td>6.6</td>\n",
       "      <td>144</td>\n",
       "      <td>12.9</td>\n",
       "      <td>...</td>\n",
       "      <td>157</td>\n",
       "      <td>78</td>\n",
       "      <td>7.1</td>\n",
       "      <td>7:45:00 AM</td>\n",
       "      <td>139</td>\n",
       "      <td>8:59</td>\n",
       "      <td>215</td>\n",
       "      <td>10:52</td>\n",
       "      <td>130</td>\n",
       "      <td>11:54</td>\n",
       "    </tr>\n",
       "  </tbody>\n",
       "</table>\n",
       "<p>5 rows × 24 columns</p>\n",
       "</div>"
      ],
      "text/plain": [
       "   subject  Age Gender        BMI  Body weight   Height    Self-identify   \\\n",
       "0        1   27      M  22.265239         133.8     65.0  Hispanic/Latino   \n",
       "1        2   49      F  30.946742         169.2     62.0  Hispanic/Latino   \n",
       "2        3   59      F  26.948690         157.0     64.0  Hispanic/Latino   \n",
       "3        4   33      F  42.384279         262.6     66.0  Hispanic/Latino   \n",
       "4        5   51      F  30.957534         172.0     62.5  Hispanic/Latino   \n",
       "\n",
       "   A1c PDL (Lab)  Fasting GLU - PDL (Lab)  Insulin   ...  LDL (Cal)  \\\n",
       "0            5.4                       91       2.5  ...        130   \n",
       "1            5.5                       93      14.8  ...         78   \n",
       "2            6.5                      118      17.4  ...         90   \n",
       "3            5.5                      105      19.4  ...        164   \n",
       "4            6.6                      144      12.9  ...        157   \n",
       "\n",
       "   VLDL (Cal)  Cho/HDL Ratio  Collection time PDL (Lab)  \\\n",
       "0          13            2.9                11:06:00 AM   \n",
       "1          12            2.0                 7:38:00 AM   \n",
       "2          31            2.6                 7:25:00 AM   \n",
       "3          60            5.8                 7:20:00 AM   \n",
       "4          78            7.1                 7:45:00 AM   \n",
       "\n",
       "   #1 Contour Fingerstick GLU  Time (t)   #2 Contour Fingerstick GLU  \\\n",
       "0                          89      9:40                           73   \n",
       "1                          91      7:52                          123   \n",
       "2                         119      7:38                          166   \n",
       "3                         109      7:37                          110   \n",
       "4                         139      8:59                          215   \n",
       "\n",
       "  Time (t).1  #3 Contour Fingerstick GLU Time (t).2  \n",
       "0      12:11                          81      13:18  \n",
       "1       9:21                          80      10:22  \n",
       "2       9:23                          98      10:23  \n",
       "3       9:04                          90      10:01  \n",
       "4      10:52                         130      11:54  \n",
       "\n",
       "[5 rows x 24 columns]"
      ]
     },
     "execution_count": 5,
     "metadata": {},
     "output_type": "execute_result"
    }
   ],
   "source": [
    "df_bio.head()"
   ]
  },
  {
   "cell_type": "code",
   "execution_count": 6,
   "metadata": {},
   "outputs": [
    {
     "data": {
      "text/html": [
       "<div>\n",
       "<style scoped>\n",
       "    .dataframe tbody tr th:only-of-type {\n",
       "        vertical-align: middle;\n",
       "    }\n",
       "\n",
       "    .dataframe tbody tr th {\n",
       "        vertical-align: top;\n",
       "    }\n",
       "\n",
       "    .dataframe thead th {\n",
       "        text-align: right;\n",
       "    }\n",
       "</style>\n",
       "<table border=\"1\" class=\"dataframe\">\n",
       "  <thead>\n",
       "    <tr style=\"text-align: right;\">\n",
       "      <th></th>\n",
       "      <th>subject</th>\n",
       "      <th>Age</th>\n",
       "      <th>Gender</th>\n",
       "      <th>BMI</th>\n",
       "      <th>Body weight</th>\n",
       "      <th>Height</th>\n",
       "      <th>Self-identify</th>\n",
       "      <th>A1c PDL (Lab)</th>\n",
       "      <th>Fasting GLU - PDL (Lab)</th>\n",
       "      <th>Insulin</th>\n",
       "      <th>...</th>\n",
       "      <th>LDL (Cal)</th>\n",
       "      <th>VLDL (Cal)</th>\n",
       "      <th>Cho/HDL Ratio</th>\n",
       "      <th>Collection time PDL (Lab)</th>\n",
       "      <th>#1 Contour Fingerstick GLU</th>\n",
       "      <th>Time (t)</th>\n",
       "      <th>#2 Contour Fingerstick GLU</th>\n",
       "      <th>Time (t).1</th>\n",
       "      <th>#3 Contour Fingerstick GLU</th>\n",
       "      <th>Time (t).2</th>\n",
       "    </tr>\n",
       "  </thead>\n",
       "  <tbody>\n",
       "    <tr>\n",
       "      <th>0</th>\n",
       "      <td>1</td>\n",
       "      <td>27</td>\n",
       "      <td>M</td>\n",
       "      <td>22.265239</td>\n",
       "      <td>133.8</td>\n",
       "      <td>65.00</td>\n",
       "      <td>Hispanic/Latino</td>\n",
       "      <td>5.4</td>\n",
       "      <td>91</td>\n",
       "      <td>2.5</td>\n",
       "      <td>...</td>\n",
       "      <td>130</td>\n",
       "      <td>13</td>\n",
       "      <td>2.9</td>\n",
       "      <td>11:06:00 AM</td>\n",
       "      <td>89</td>\n",
       "      <td>9:40</td>\n",
       "      <td>73</td>\n",
       "      <td>12:11</td>\n",
       "      <td>81</td>\n",
       "      <td>13:18</td>\n",
       "    </tr>\n",
       "    <tr>\n",
       "      <th>1</th>\n",
       "      <td>2</td>\n",
       "      <td>49</td>\n",
       "      <td>F</td>\n",
       "      <td>30.946742</td>\n",
       "      <td>169.2</td>\n",
       "      <td>62.00</td>\n",
       "      <td>Hispanic/Latino</td>\n",
       "      <td>5.5</td>\n",
       "      <td>93</td>\n",
       "      <td>14.8</td>\n",
       "      <td>...</td>\n",
       "      <td>78</td>\n",
       "      <td>12</td>\n",
       "      <td>2.0</td>\n",
       "      <td>7:38:00 AM</td>\n",
       "      <td>91</td>\n",
       "      <td>7:52</td>\n",
       "      <td>123</td>\n",
       "      <td>9:21</td>\n",
       "      <td>80</td>\n",
       "      <td>10:22</td>\n",
       "    </tr>\n",
       "    <tr>\n",
       "      <th>2</th>\n",
       "      <td>3</td>\n",
       "      <td>59</td>\n",
       "      <td>F</td>\n",
       "      <td>26.948690</td>\n",
       "      <td>157.0</td>\n",
       "      <td>64.00</td>\n",
       "      <td>Hispanic/Latino</td>\n",
       "      <td>6.5</td>\n",
       "      <td>118</td>\n",
       "      <td>17.4</td>\n",
       "      <td>...</td>\n",
       "      <td>90</td>\n",
       "      <td>31</td>\n",
       "      <td>2.6</td>\n",
       "      <td>7:25:00 AM</td>\n",
       "      <td>119</td>\n",
       "      <td>7:38</td>\n",
       "      <td>166</td>\n",
       "      <td>9:23</td>\n",
       "      <td>98</td>\n",
       "      <td>10:23</td>\n",
       "    </tr>\n",
       "    <tr>\n",
       "      <th>3</th>\n",
       "      <td>4</td>\n",
       "      <td>33</td>\n",
       "      <td>F</td>\n",
       "      <td>42.384279</td>\n",
       "      <td>262.6</td>\n",
       "      <td>66.00</td>\n",
       "      <td>Hispanic/Latino</td>\n",
       "      <td>5.5</td>\n",
       "      <td>105</td>\n",
       "      <td>19.4</td>\n",
       "      <td>...</td>\n",
       "      <td>164</td>\n",
       "      <td>60</td>\n",
       "      <td>5.8</td>\n",
       "      <td>7:20:00 AM</td>\n",
       "      <td>109</td>\n",
       "      <td>7:37</td>\n",
       "      <td>110</td>\n",
       "      <td>9:04</td>\n",
       "      <td>90</td>\n",
       "      <td>10:01</td>\n",
       "    </tr>\n",
       "    <tr>\n",
       "      <th>4</th>\n",
       "      <td>5</td>\n",
       "      <td>51</td>\n",
       "      <td>F</td>\n",
       "      <td>30.957534</td>\n",
       "      <td>172.0</td>\n",
       "      <td>62.50</td>\n",
       "      <td>Hispanic/Latino</td>\n",
       "      <td>6.6</td>\n",
       "      <td>144</td>\n",
       "      <td>12.9</td>\n",
       "      <td>...</td>\n",
       "      <td>157</td>\n",
       "      <td>78</td>\n",
       "      <td>7.1</td>\n",
       "      <td>7:45:00 AM</td>\n",
       "      <td>139</td>\n",
       "      <td>8:59</td>\n",
       "      <td>215</td>\n",
       "      <td>10:52</td>\n",
       "      <td>130</td>\n",
       "      <td>11:54</td>\n",
       "    </tr>\n",
       "    <tr>\n",
       "      <th>5</th>\n",
       "      <td>6</td>\n",
       "      <td>51</td>\n",
       "      <td>F</td>\n",
       "      <td>29.303451</td>\n",
       "      <td>197.0</td>\n",
       "      <td>68.75</td>\n",
       "      <td>White</td>\n",
       "      <td>5.2</td>\n",
       "      <td>96</td>\n",
       "      <td>6.4</td>\n",
       "      <td>...</td>\n",
       "      <td>118</td>\n",
       "      <td>15</td>\n",
       "      <td>2.8</td>\n",
       "      <td>7:45:00 AM</td>\n",
       "      <td>98</td>\n",
       "      <td>9:04</td>\n",
       "      <td>97</td>\n",
       "      <td>10:54</td>\n",
       "      <td>70</td>\n",
       "      <td>11:56</td>\n",
       "    </tr>\n",
       "    <tr>\n",
       "      <th>6</th>\n",
       "      <td>7</td>\n",
       "      <td>66</td>\n",
       "      <td>F</td>\n",
       "      <td>27.070327</td>\n",
       "      <td>199.6</td>\n",
       "      <td>72.00</td>\n",
       "      <td>Hispanic/Latino</td>\n",
       "      <td>5.9</td>\n",
       "      <td>108</td>\n",
       "      <td>15.9</td>\n",
       "      <td>...</td>\n",
       "      <td>67</td>\n",
       "      <td>18</td>\n",
       "      <td>3.0</td>\n",
       "      <td>8:00:00 AM</td>\n",
       "      <td>115</td>\n",
       "      <td>8:40</td>\n",
       "      <td>157</td>\n",
       "      <td>10:22</td>\n",
       "      <td>95</td>\n",
       "      <td>11:24</td>\n",
       "    </tr>\n",
       "    <tr>\n",
       "      <th>7</th>\n",
       "      <td>8</td>\n",
       "      <td>54</td>\n",
       "      <td>M</td>\n",
       "      <td>39.945440</td>\n",
       "      <td>218.4</td>\n",
       "      <td>62.00</td>\n",
       "      <td>Hispanic/Latino</td>\n",
       "      <td>5.8</td>\n",
       "      <td>112</td>\n",
       "      <td>17.7</td>\n",
       "      <td>...</td>\n",
       "      <td>95</td>\n",
       "      <td>29</td>\n",
       "      <td>3.0</td>\n",
       "      <td>8:55:00 AM</td>\n",
       "      <td>110</td>\n",
       "      <td>9:07</td>\n",
       "      <td>156</td>\n",
       "      <td>10:25</td>\n",
       "      <td>94</td>\n",
       "      <td>11:26</td>\n",
       "    </tr>\n",
       "    <tr>\n",
       "      <th>8</th>\n",
       "      <td>9</td>\n",
       "      <td>34</td>\n",
       "      <td>F</td>\n",
       "      <td>37.001506</td>\n",
       "      <td>183.2</td>\n",
       "      <td>59.00</td>\n",
       "      <td>Hispanic/Latino</td>\n",
       "      <td>5.7</td>\n",
       "      <td>122</td>\n",
       "      <td>25.7</td>\n",
       "      <td>...</td>\n",
       "      <td>108</td>\n",
       "      <td>62</td>\n",
       "      <td>5.1</td>\n",
       "      <td>7:32:00 AM</td>\n",
       "      <td>119</td>\n",
       "      <td>7:46</td>\n",
       "      <td>128</td>\n",
       "      <td>9:32</td>\n",
       "      <td>96</td>\n",
       "      <td>10:29</td>\n",
       "    </tr>\n",
       "    <tr>\n",
       "      <th>9</th>\n",
       "      <td>10</td>\n",
       "      <td>54</td>\n",
       "      <td>F</td>\n",
       "      <td>35.811892</td>\n",
       "      <td>195.8</td>\n",
       "      <td>62.00</td>\n",
       "      <td>Hispanic/Latino</td>\n",
       "      <td>5.7</td>\n",
       "      <td>100</td>\n",
       "      <td>15.3</td>\n",
       "      <td>...</td>\n",
       "      <td>110</td>\n",
       "      <td>20</td>\n",
       "      <td>3.3</td>\n",
       "      <td>7:44:00 AM</td>\n",
       "      <td>100</td>\n",
       "      <td>8:01</td>\n",
       "      <td>160</td>\n",
       "      <td>9:35</td>\n",
       "      <td>108</td>\n",
       "      <td>10:36</td>\n",
       "    </tr>\n",
       "    <tr>\n",
       "      <th>10</th>\n",
       "      <td>11</td>\n",
       "      <td>34</td>\n",
       "      <td>M</td>\n",
       "      <td>29.162720</td>\n",
       "      <td>186.2</td>\n",
       "      <td>67.00</td>\n",
       "      <td>Hispanic/Latino</td>\n",
       "      <td>5.7</td>\n",
       "      <td>109</td>\n",
       "      <td>11.6</td>\n",
       "      <td>...</td>\n",
       "      <td>125</td>\n",
       "      <td>49</td>\n",
       "      <td>5.7</td>\n",
       "      <td>7:48:00 AM</td>\n",
       "      <td>118</td>\n",
       "      <td>8:15</td>\n",
       "      <td>136</td>\n",
       "      <td>9:53</td>\n",
       "      <td>92</td>\n",
       "      <td>10:47</td>\n",
       "    </tr>\n",
       "    <tr>\n",
       "      <th>11</th>\n",
       "      <td>12</td>\n",
       "      <td>52</td>\n",
       "      <td>M</td>\n",
       "      <td>30.272873</td>\n",
       "      <td>205.0</td>\n",
       "      <td>69.00</td>\n",
       "      <td>Hispanic/Latino</td>\n",
       "      <td>7.1</td>\n",
       "      <td>179</td>\n",
       "      <td>13.5</td>\n",
       "      <td>...</td>\n",
       "      <td>800</td>\n",
       "      <td>400</td>\n",
       "      <td>400.0</td>\n",
       "      <td>7:17:00 AM</td>\n",
       "      <td>186</td>\n",
       "      <td>7:38</td>\n",
       "      <td>279</td>\n",
       "      <td>9:17</td>\n",
       "      <td>215</td>\n",
       "      <td>10:17</td>\n",
       "    </tr>\n",
       "    <tr>\n",
       "      <th>12</th>\n",
       "      <td>13</td>\n",
       "      <td>56</td>\n",
       "      <td>F</td>\n",
       "      <td>32.629425</td>\n",
       "      <td>178.4</td>\n",
       "      <td>62.00</td>\n",
       "      <td>Hispanic/Latino</td>\n",
       "      <td>6.2</td>\n",
       "      <td>103</td>\n",
       "      <td>18.3</td>\n",
       "      <td>...</td>\n",
       "      <td>146</td>\n",
       "      <td>22</td>\n",
       "      <td>3.9</td>\n",
       "      <td>7:30:00 AM</td>\n",
       "      <td>117</td>\n",
       "      <td>7:38</td>\n",
       "      <td>171</td>\n",
       "      <td>9:12</td>\n",
       "      <td>92</td>\n",
       "      <td>10:16</td>\n",
       "    </tr>\n",
       "    <tr>\n",
       "      <th>13</th>\n",
       "      <td>14</td>\n",
       "      <td>53</td>\n",
       "      <td>M</td>\n",
       "      <td>28.473590</td>\n",
       "      <td>181.8</td>\n",
       "      <td>67.00</td>\n",
       "      <td>Hispanic/Latino</td>\n",
       "      <td>7.1</td>\n",
       "      <td>147</td>\n",
       "      <td>10.7</td>\n",
       "      <td>...</td>\n",
       "      <td>81</td>\n",
       "      <td>18</td>\n",
       "      <td>3.2</td>\n",
       "      <td>7:30:00 AM</td>\n",
       "      <td>157</td>\n",
       "      <td>7:52</td>\n",
       "      <td>157</td>\n",
       "      <td>9:48</td>\n",
       "      <td>122</td>\n",
       "      <td>10:45</td>\n",
       "    </tr>\n",
       "    <tr>\n",
       "      <th>14</th>\n",
       "      <td>15</td>\n",
       "      <td>47</td>\n",
       "      <td>F</td>\n",
       "      <td>24.336277</td>\n",
       "      <td>128.8</td>\n",
       "      <td>61.00</td>\n",
       "      <td>Hispanic/Latino</td>\n",
       "      <td>5.4</td>\n",
       "      <td>89</td>\n",
       "      <td>3.3</td>\n",
       "      <td>...</td>\n",
       "      <td>160</td>\n",
       "      <td>25</td>\n",
       "      <td>3.6</td>\n",
       "      <td>7:31:00 AM</td>\n",
       "      <td>87</td>\n",
       "      <td>7:54</td>\n",
       "      <td>111</td>\n",
       "      <td>9:49</td>\n",
       "      <td>88</td>\n",
       "      <td>10:47</td>\n",
       "    </tr>\n",
       "    <tr>\n",
       "      <th>15</th>\n",
       "      <td>16</td>\n",
       "      <td>48</td>\n",
       "      <td>F</td>\n",
       "      <td>45.935133</td>\n",
       "      <td>284.6</td>\n",
       "      <td>66.00</td>\n",
       "      <td>African American</td>\n",
       "      <td>5.8</td>\n",
       "      <td>104</td>\n",
       "      <td>26.0</td>\n",
       "      <td>...</td>\n",
       "      <td>147</td>\n",
       "      <td>15</td>\n",
       "      <td>4.4</td>\n",
       "      <td>7:34:00 AM</td>\n",
       "      <td>92</td>\n",
       "      <td>7:57</td>\n",
       "      <td>87</td>\n",
       "      <td>9:41</td>\n",
       "      <td>86</td>\n",
       "      <td>10:38</td>\n",
       "    </tr>\n",
       "    <tr>\n",
       "      <th>16</th>\n",
       "      <td>17</td>\n",
       "      <td>33</td>\n",
       "      <td>F</td>\n",
       "      <td>22.693182</td>\n",
       "      <td>140.6</td>\n",
       "      <td>66.00</td>\n",
       "      <td>White</td>\n",
       "      <td>5.0</td>\n",
       "      <td>95</td>\n",
       "      <td>8.2</td>\n",
       "      <td>...</td>\n",
       "      <td>94</td>\n",
       "      <td>13</td>\n",
       "      <td>2.7</td>\n",
       "      <td>7:30:00 AM</td>\n",
       "      <td>100</td>\n",
       "      <td>7:37</td>\n",
       "      <td>120</td>\n",
       "      <td>9:15</td>\n",
       "      <td>95</td>\n",
       "      <td>10:15</td>\n",
       "    </tr>\n",
       "    <tr>\n",
       "      <th>17</th>\n",
       "      <td>18</td>\n",
       "      <td>18</td>\n",
       "      <td>M</td>\n",
       "      <td>38.058759</td>\n",
       "      <td>243.0</td>\n",
       "      <td>67.00</td>\n",
       "      <td>Hispanic/Latino</td>\n",
       "      <td>5.4</td>\n",
       "      <td>103</td>\n",
       "      <td>17.4</td>\n",
       "      <td>...</td>\n",
       "      <td>115</td>\n",
       "      <td>20</td>\n",
       "      <td>4.2</td>\n",
       "      <td>7:40:00 AM</td>\n",
       "      <td>104</td>\n",
       "      <td>7:53</td>\n",
       "      <td>100</td>\n",
       "      <td>9:17</td>\n",
       "      <td>67</td>\n",
       "      <td>10:18</td>\n",
       "    </tr>\n",
       "    <tr>\n",
       "      <th>18</th>\n",
       "      <td>19</td>\n",
       "      <td>40</td>\n",
       "      <td>F</td>\n",
       "      <td>36.429099</td>\n",
       "      <td>202.4</td>\n",
       "      <td>62.50</td>\n",
       "      <td>Hispanic/Latino</td>\n",
       "      <td>5.6</td>\n",
       "      <td>98</td>\n",
       "      <td>18.6</td>\n",
       "      <td>...</td>\n",
       "      <td>117</td>\n",
       "      <td>30</td>\n",
       "      <td>4.1</td>\n",
       "      <td>8:06:00 AM</td>\n",
       "      <td>98</td>\n",
       "      <td>8:40</td>\n",
       "      <td>93</td>\n",
       "      <td>10:19</td>\n",
       "      <td>97</td>\n",
       "      <td>11:17</td>\n",
       "    </tr>\n",
       "    <tr>\n",
       "      <th>19</th>\n",
       "      <td>20</td>\n",
       "      <td>59</td>\n",
       "      <td>F</td>\n",
       "      <td>35.953334</td>\n",
       "      <td>206.2</td>\n",
       "      <td>63.50</td>\n",
       "      <td>African American</td>\n",
       "      <td>6.4</td>\n",
       "      <td>119</td>\n",
       "      <td>17.3</td>\n",
       "      <td>...</td>\n",
       "      <td>132</td>\n",
       "      <td>29</td>\n",
       "      <td>4.4</td>\n",
       "      <td>7:38:00 AM</td>\n",
       "      <td>121</td>\n",
       "      <td>7:49</td>\n",
       "      <td>186</td>\n",
       "      <td>9:22</td>\n",
       "      <td>122</td>\n",
       "      <td>10:26</td>\n",
       "    </tr>\n",
       "    <tr>\n",
       "      <th>20</th>\n",
       "      <td>21</td>\n",
       "      <td>63</td>\n",
       "      <td>F</td>\n",
       "      <td>25.665956</td>\n",
       "      <td>142.6</td>\n",
       "      <td>62.50</td>\n",
       "      <td>African American</td>\n",
       "      <td>5.3</td>\n",
       "      <td>98</td>\n",
       "      <td>9.3</td>\n",
       "      <td>...</td>\n",
       "      <td>115</td>\n",
       "      <td>13</td>\n",
       "      <td>3.5</td>\n",
       "      <td>7:48:00 AM</td>\n",
       "      <td>96</td>\n",
       "      <td>7:57</td>\n",
       "      <td>82</td>\n",
       "      <td>9:25</td>\n",
       "      <td>92</td>\n",
       "      <td>10:24</td>\n",
       "    </tr>\n",
       "    <tr>\n",
       "      <th>21</th>\n",
       "      <td>22</td>\n",
       "      <td>69</td>\n",
       "      <td>F</td>\n",
       "      <td>20.689962</td>\n",
       "      <td>116.8</td>\n",
       "      <td>63.00</td>\n",
       "      <td>White</td>\n",
       "      <td>5.9</td>\n",
       "      <td>107</td>\n",
       "      <td>3.2</td>\n",
       "      <td>...</td>\n",
       "      <td>98</td>\n",
       "      <td>12</td>\n",
       "      <td>2.0</td>\n",
       "      <td>7:48:00 AM</td>\n",
       "      <td>112</td>\n",
       "      <td>8:08</td>\n",
       "      <td>98</td>\n",
       "      <td>9:56</td>\n",
       "      <td>104</td>\n",
       "      <td>10:55</td>\n",
       "    </tr>\n",
       "    <tr>\n",
       "      <th>22</th>\n",
       "      <td>23</td>\n",
       "      <td>55</td>\n",
       "      <td>M</td>\n",
       "      <td>24.244839</td>\n",
       "      <td>154.8</td>\n",
       "      <td>67.00</td>\n",
       "      <td>Hispanic/Latino</td>\n",
       "      <td>6.2</td>\n",
       "      <td>135</td>\n",
       "      <td>5.2</td>\n",
       "      <td>...</td>\n",
       "      <td>133</td>\n",
       "      <td>15</td>\n",
       "      <td>3.8</td>\n",
       "      <td>8:17:00 AM</td>\n",
       "      <td>140</td>\n",
       "      <td>8:25</td>\n",
       "      <td>193</td>\n",
       "      <td>9:45</td>\n",
       "      <td>94</td>\n",
       "      <td>10:45</td>\n",
       "    </tr>\n",
       "    <tr>\n",
       "      <th>23</th>\n",
       "      <td>26</td>\n",
       "      <td>35</td>\n",
       "      <td>M</td>\n",
       "      <td>31.167461</td>\n",
       "      <td>199.0</td>\n",
       "      <td>67.00</td>\n",
       "      <td>Hispanic/Latino</td>\n",
       "      <td>5.9</td>\n",
       "      <td>104</td>\n",
       "      <td>17.8</td>\n",
       "      <td>...</td>\n",
       "      <td>110</td>\n",
       "      <td>31</td>\n",
       "      <td>5.2</td>\n",
       "      <td>7:34:00 AM</td>\n",
       "      <td>108</td>\n",
       "      <td>7:50</td>\n",
       "      <td>117</td>\n",
       "      <td>9:06</td>\n",
       "      <td>105</td>\n",
       "      <td>10:16</td>\n",
       "    </tr>\n",
       "    <tr>\n",
       "      <th>24</th>\n",
       "      <td>27</td>\n",
       "      <td>24</td>\n",
       "      <td>F</td>\n",
       "      <td>27.126654</td>\n",
       "      <td>173.2</td>\n",
       "      <td>67.00</td>\n",
       "      <td>Hispanic/Latino</td>\n",
       "      <td>4.7</td>\n",
       "      <td>90</td>\n",
       "      <td>6.3</td>\n",
       "      <td>...</td>\n",
       "      <td>67</td>\n",
       "      <td>8</td>\n",
       "      <td>2.4</td>\n",
       "      <td>7:56:00 AM</td>\n",
       "      <td>80</td>\n",
       "      <td>8:18</td>\n",
       "      <td>96</td>\n",
       "      <td>9:32</td>\n",
       "      <td>92</td>\n",
       "      <td>10:28</td>\n",
       "    </tr>\n",
       "    <tr>\n",
       "      <th>25</th>\n",
       "      <td>28</td>\n",
       "      <td>59</td>\n",
       "      <td>F</td>\n",
       "      <td>39.996815</td>\n",
       "      <td>204.8</td>\n",
       "      <td>60.00</td>\n",
       "      <td>Hispanic/Latino</td>\n",
       "      <td>7.0</td>\n",
       "      <td>131</td>\n",
       "      <td>19.2</td>\n",
       "      <td>...</td>\n",
       "      <td>195</td>\n",
       "      <td>52</td>\n",
       "      <td>5.4</td>\n",
       "      <td>7:39:00 AM</td>\n",
       "      <td>127</td>\n",
       "      <td>7:50</td>\n",
       "      <td>179</td>\n",
       "      <td>9:10</td>\n",
       "      <td>104</td>\n",
       "      <td>10:11</td>\n",
       "    </tr>\n",
       "    <tr>\n",
       "      <th>26</th>\n",
       "      <td>29</td>\n",
       "      <td>52</td>\n",
       "      <td>M</td>\n",
       "      <td>29.517649</td>\n",
       "      <td>164.0</td>\n",
       "      <td>62.50</td>\n",
       "      <td>Hispanic/Latino</td>\n",
       "      <td>6.1</td>\n",
       "      <td>136</td>\n",
       "      <td>19.8</td>\n",
       "      <td>...</td>\n",
       "      <td>146</td>\n",
       "      <td>26</td>\n",
       "      <td>5.3</td>\n",
       "      <td>7:51:00 AM</td>\n",
       "      <td>130</td>\n",
       "      <td>8:01</td>\n",
       "      <td>167</td>\n",
       "      <td>9:23</td>\n",
       "      <td>115</td>\n",
       "      <td>10:23</td>\n",
       "    </tr>\n",
       "    <tr>\n",
       "      <th>27</th>\n",
       "      <td>30</td>\n",
       "      <td>60</td>\n",
       "      <td>F</td>\n",
       "      <td>34.010325</td>\n",
       "      <td>180.0</td>\n",
       "      <td>61.00</td>\n",
       "      <td>Hispanic/Latino</td>\n",
       "      <td>7.6</td>\n",
       "      <td>195</td>\n",
       "      <td>10.5</td>\n",
       "      <td>...</td>\n",
       "      <td>143</td>\n",
       "      <td>50</td>\n",
       "      <td>5.9</td>\n",
       "      <td>7:54:00 AM</td>\n",
       "      <td>175</td>\n",
       "      <td>8:03</td>\n",
       "      <td>281</td>\n",
       "      <td>9:09</td>\n",
       "      <td>247</td>\n",
       "      <td>10:10</td>\n",
       "    </tr>\n",
       "    <tr>\n",
       "      <th>28</th>\n",
       "      <td>31</td>\n",
       "      <td>46</td>\n",
       "      <td>F</td>\n",
       "      <td>23.111265</td>\n",
       "      <td>152.0</td>\n",
       "      <td>68.00</td>\n",
       "      <td>White</td>\n",
       "      <td>5.1</td>\n",
       "      <td>102</td>\n",
       "      <td>9.4</td>\n",
       "      <td>...</td>\n",
       "      <td>97</td>\n",
       "      <td>24</td>\n",
       "      <td>3.1</td>\n",
       "      <td>7:26:00 AM</td>\n",
       "      <td>102</td>\n",
       "      <td>7:34</td>\n",
       "      <td>111</td>\n",
       "      <td>8:38</td>\n",
       "      <td>101</td>\n",
       "      <td>9:39</td>\n",
       "    </tr>\n",
       "    <tr>\n",
       "      <th>29</th>\n",
       "      <td>32</td>\n",
       "      <td>64</td>\n",
       "      <td>M</td>\n",
       "      <td>22.920267</td>\n",
       "      <td>169.0</td>\n",
       "      <td>72.00</td>\n",
       "      <td>White</td>\n",
       "      <td>5.3</td>\n",
       "      <td>100</td>\n",
       "      <td>3.2</td>\n",
       "      <td>...</td>\n",
       "      <td>163</td>\n",
       "      <td>26</td>\n",
       "      <td>4.1</td>\n",
       "      <td>8:00:00 AM</td>\n",
       "      <td>95</td>\n",
       "      <td>8:23</td>\n",
       "      <td>130</td>\n",
       "      <td>9:31</td>\n",
       "      <td>86</td>\n",
       "      <td>10:31</td>\n",
       "    </tr>\n",
       "    <tr>\n",
       "      <th>30</th>\n",
       "      <td>33</td>\n",
       "      <td>40</td>\n",
       "      <td>M</td>\n",
       "      <td>30.038349</td>\n",
       "      <td>175.0</td>\n",
       "      <td>64.00</td>\n",
       "      <td>Hispanic/Latino</td>\n",
       "      <td>5.6</td>\n",
       "      <td>116</td>\n",
       "      <td>11.6</td>\n",
       "      <td>...</td>\n",
       "      <td>21</td>\n",
       "      <td>17</td>\n",
       "      <td>1.7</td>\n",
       "      <td>8:10:00 AM</td>\n",
       "      <td>120</td>\n",
       "      <td>8:20</td>\n",
       "      <td>210</td>\n",
       "      <td>9:22</td>\n",
       "      <td>135</td>\n",
       "      <td>10:22</td>\n",
       "    </tr>\n",
       "    <tr>\n",
       "      <th>31</th>\n",
       "      <td>34</td>\n",
       "      <td>24</td>\n",
       "      <td>M</td>\n",
       "      <td>25.801977</td>\n",
       "      <td>185.0</td>\n",
       "      <td>71.00</td>\n",
       "      <td>White</td>\n",
       "      <td>4.6</td>\n",
       "      <td>80</td>\n",
       "      <td>4.2</td>\n",
       "      <td>...</td>\n",
       "      <td>81</td>\n",
       "      <td>21</td>\n",
       "      <td>2.6</td>\n",
       "      <td>7:50:00 AM</td>\n",
       "      <td>90</td>\n",
       "      <td>8:01</td>\n",
       "      <td>88</td>\n",
       "      <td>9:02</td>\n",
       "      <td>86</td>\n",
       "      <td>10:04</td>\n",
       "    </tr>\n",
       "    <tr>\n",
       "      <th>32</th>\n",
       "      <td>35</td>\n",
       "      <td>45</td>\n",
       "      <td>F</td>\n",
       "      <td>28.733826</td>\n",
       "      <td>167.4</td>\n",
       "      <td>64.00</td>\n",
       "      <td>Hispanic/Latino</td>\n",
       "      <td>8.5</td>\n",
       "      <td>218</td>\n",
       "      <td>14.8</td>\n",
       "      <td>...</td>\n",
       "      <td>124</td>\n",
       "      <td>18</td>\n",
       "      <td>4.0</td>\n",
       "      <td>7:39:00 AM</td>\n",
       "      <td>220</td>\n",
       "      <td>7:55</td>\n",
       "      <td>314</td>\n",
       "      <td>8:53</td>\n",
       "      <td>243</td>\n",
       "      <td>9:55</td>\n",
       "    </tr>\n",
       "    <tr>\n",
       "      <th>33</th>\n",
       "      <td>36</td>\n",
       "      <td>61</td>\n",
       "      <td>M</td>\n",
       "      <td>24.985097</td>\n",
       "      <td>154.8</td>\n",
       "      <td>66.00</td>\n",
       "      <td>Hispanic/Latino</td>\n",
       "      <td>6.9</td>\n",
       "      <td>101</td>\n",
       "      <td>5.3</td>\n",
       "      <td>...</td>\n",
       "      <td>34</td>\n",
       "      <td>26</td>\n",
       "      <td>1.9</td>\n",
       "      <td>8:32:00 AM</td>\n",
       "      <td>105</td>\n",
       "      <td>8:41</td>\n",
       "      <td>170</td>\n",
       "      <td>9:43</td>\n",
       "      <td>154</td>\n",
       "      <td>10:44</td>\n",
       "    </tr>\n",
       "    <tr>\n",
       "      <th>34</th>\n",
       "      <td>38</td>\n",
       "      <td>52</td>\n",
       "      <td>M</td>\n",
       "      <td>34.457143</td>\n",
       "      <td>202.0</td>\n",
       "      <td>64.20</td>\n",
       "      <td>Hispanic/Latino</td>\n",
       "      <td>7.2</td>\n",
       "      <td>151</td>\n",
       "      <td>29.4</td>\n",
       "      <td>...</td>\n",
       "      <td>80</td>\n",
       "      <td>49</td>\n",
       "      <td>4.8</td>\n",
       "      <td>7:13:00 AM</td>\n",
       "      <td>150</td>\n",
       "      <td>7:35</td>\n",
       "      <td>175</td>\n",
       "      <td>8:35</td>\n",
       "      <td>186</td>\n",
       "      <td>9:41</td>\n",
       "    </tr>\n",
       "    <tr>\n",
       "      <th>35</th>\n",
       "      <td>39</td>\n",
       "      <td>45</td>\n",
       "      <td>F</td>\n",
       "      <td>26.922934</td>\n",
       "      <td>147.2</td>\n",
       "      <td>62.00</td>\n",
       "      <td>Hispanic/Latino</td>\n",
       "      <td>8.3</td>\n",
       "      <td>158</td>\n",
       "      <td>17.5</td>\n",
       "      <td>...</td>\n",
       "      <td>77</td>\n",
       "      <td>35</td>\n",
       "      <td>3.8</td>\n",
       "      <td>7:57:00 AM</td>\n",
       "      <td>165</td>\n",
       "      <td>8:06</td>\n",
       "      <td>233</td>\n",
       "      <td>9:08</td>\n",
       "      <td>234</td>\n",
       "      <td>10:09</td>\n",
       "    </tr>\n",
       "    <tr>\n",
       "      <th>36</th>\n",
       "      <td>41</td>\n",
       "      <td>58</td>\n",
       "      <td>F</td>\n",
       "      <td>27.850678</td>\n",
       "      <td>147.4</td>\n",
       "      <td>61.00</td>\n",
       "      <td>Hispanic/Latino</td>\n",
       "      <td>6.3</td>\n",
       "      <td>138</td>\n",
       "      <td>10.6</td>\n",
       "      <td>...</td>\n",
       "      <td>121</td>\n",
       "      <td>20</td>\n",
       "      <td>3.7</td>\n",
       "      <td>7:29:00 AM</td>\n",
       "      <td>134</td>\n",
       "      <td>7:46</td>\n",
       "      <td>210</td>\n",
       "      <td>8:46</td>\n",
       "      <td>151</td>\n",
       "      <td>9:49</td>\n",
       "    </tr>\n",
       "    <tr>\n",
       "      <th>37</th>\n",
       "      <td>42</td>\n",
       "      <td>51</td>\n",
       "      <td>F</td>\n",
       "      <td>43.268692</td>\n",
       "      <td>229.0</td>\n",
       "      <td>61.00</td>\n",
       "      <td>Hispanic/Latino</td>\n",
       "      <td>7.1</td>\n",
       "      <td>142</td>\n",
       "      <td>12.7</td>\n",
       "      <td>...</td>\n",
       "      <td>90</td>\n",
       "      <td>16</td>\n",
       "      <td>2.8</td>\n",
       "      <td>8:32:00 AM</td>\n",
       "      <td>134</td>\n",
       "      <td>8:44</td>\n",
       "      <td>184</td>\n",
       "      <td>9:57</td>\n",
       "      <td>131</td>\n",
       "      <td>10:47</td>\n",
       "    </tr>\n",
       "    <tr>\n",
       "      <th>38</th>\n",
       "      <td>43</td>\n",
       "      <td>45</td>\n",
       "      <td>F</td>\n",
       "      <td>49.088236</td>\n",
       "      <td>259.8</td>\n",
       "      <td>61.00</td>\n",
       "      <td>Hispanic/Latino</td>\n",
       "      <td>6.0</td>\n",
       "      <td>96</td>\n",
       "      <td>21.7</td>\n",
       "      <td>...</td>\n",
       "      <td>118</td>\n",
       "      <td>24</td>\n",
       "      <td>3.9</td>\n",
       "      <td>7:44:00 AM</td>\n",
       "      <td>103</td>\n",
       "      <td>7:53</td>\n",
       "      <td>143</td>\n",
       "      <td>8:56</td>\n",
       "      <td>80</td>\n",
       "      <td>9:55</td>\n",
       "    </tr>\n",
       "    <tr>\n",
       "      <th>39</th>\n",
       "      <td>44</td>\n",
       "      <td>60</td>\n",
       "      <td>F</td>\n",
       "      <td>35.918461</td>\n",
       "      <td>206.0</td>\n",
       "      <td>63.50</td>\n",
       "      <td>Black, African American</td>\n",
       "      <td>6.0</td>\n",
       "      <td>119</td>\n",
       "      <td>13.5</td>\n",
       "      <td>...</td>\n",
       "      <td>119</td>\n",
       "      <td>24</td>\n",
       "      <td>4.1</td>\n",
       "      <td>7:11:00 AM</td>\n",
       "      <td>127</td>\n",
       "      <td>7:27</td>\n",
       "      <td>183</td>\n",
       "      <td>8:30</td>\n",
       "      <td>115</td>\n",
       "      <td>9:35</td>\n",
       "    </tr>\n",
       "    <tr>\n",
       "      <th>40</th>\n",
       "      <td>45</td>\n",
       "      <td>46</td>\n",
       "      <td>F</td>\n",
       "      <td>32.881251</td>\n",
       "      <td>162.8</td>\n",
       "      <td>59.00</td>\n",
       "      <td>Hispanic/Latino</td>\n",
       "      <td>6.1</td>\n",
       "      <td>148</td>\n",
       "      <td>46.4</td>\n",
       "      <td>...</td>\n",
       "      <td>96</td>\n",
       "      <td>48</td>\n",
       "      <td>4.9</td>\n",
       "      <td>7:05:00 AM</td>\n",
       "      <td>142</td>\n",
       "      <td>7:23</td>\n",
       "      <td>244</td>\n",
       "      <td>8:24</td>\n",
       "      <td>122</td>\n",
       "      <td>9:38</td>\n",
       "    </tr>\n",
       "    <tr>\n",
       "      <th>41</th>\n",
       "      <td>46</td>\n",
       "      <td>51</td>\n",
       "      <td>M</td>\n",
       "      <td>28.160349</td>\n",
       "      <td>179.8</td>\n",
       "      <td>67.00</td>\n",
       "      <td>Hispanic/Latino</td>\n",
       "      <td>7.4</td>\n",
       "      <td>154</td>\n",
       "      <td>7.9</td>\n",
       "      <td>...</td>\n",
       "      <td>260</td>\n",
       "      <td>25</td>\n",
       "      <td>5.6</td>\n",
       "      <td>7:20:00 AM</td>\n",
       "      <td>144</td>\n",
       "      <td>7:29</td>\n",
       "      <td>247</td>\n",
       "      <td>8:35</td>\n",
       "      <td>200</td>\n",
       "      <td>9:43</td>\n",
       "    </tr>\n",
       "    <tr>\n",
       "      <th>42</th>\n",
       "      <td>47</td>\n",
       "      <td>62</td>\n",
       "      <td>M</td>\n",
       "      <td>31.377201</td>\n",
       "      <td>182.8</td>\n",
       "      <td>64.00</td>\n",
       "      <td>Hispanic/Latino</td>\n",
       "      <td>6.9</td>\n",
       "      <td>150</td>\n",
       "      <td>9.7</td>\n",
       "      <td>...</td>\n",
       "      <td>103</td>\n",
       "      <td>33</td>\n",
       "      <td>4.7</td>\n",
       "      <td>7:15:00 AM</td>\n",
       "      <td>157</td>\n",
       "      <td>7:25</td>\n",
       "      <td>211</td>\n",
       "      <td>8:31</td>\n",
       "      <td>148</td>\n",
       "      <td>9:31</td>\n",
       "    </tr>\n",
       "    <tr>\n",
       "      <th>43</th>\n",
       "      <td>48</td>\n",
       "      <td>22</td>\n",
       "      <td>F</td>\n",
       "      <td>21.133672</td>\n",
       "      <td>127.0</td>\n",
       "      <td>65.00</td>\n",
       "      <td>White</td>\n",
       "      <td>4.8</td>\n",
       "      <td>79</td>\n",
       "      <td>10.2</td>\n",
       "      <td>...</td>\n",
       "      <td>97</td>\n",
       "      <td>13</td>\n",
       "      <td>3.1</td>\n",
       "      <td>7:28:00 AM</td>\n",
       "      <td>86</td>\n",
       "      <td>7:43</td>\n",
       "      <td>84</td>\n",
       "      <td>8:45</td>\n",
       "      <td>97</td>\n",
       "      <td>9:45</td>\n",
       "    </tr>\n",
       "    <tr>\n",
       "      <th>44</th>\n",
       "      <td>49</td>\n",
       "      <td>58</td>\n",
       "      <td>F</td>\n",
       "      <td>36.090876</td>\n",
       "      <td>184.8</td>\n",
       "      <td>60.00</td>\n",
       "      <td>Hispanic/Latino</td>\n",
       "      <td>7.2</td>\n",
       "      <td>148</td>\n",
       "      <td>25.2</td>\n",
       "      <td>...</td>\n",
       "      <td>81</td>\n",
       "      <td>25</td>\n",
       "      <td>3.4</td>\n",
       "      <td>8:19:00 AM</td>\n",
       "      <td>145</td>\n",
       "      <td>8:35</td>\n",
       "      <td>257</td>\n",
       "      <td>9:33</td>\n",
       "      <td>182</td>\n",
       "      <td>10:37</td>\n",
       "    </tr>\n",
       "  </tbody>\n",
       "</table>\n",
       "<p>45 rows × 24 columns</p>\n",
       "</div>"
      ],
      "text/plain": [
       "    subject  Age Gender        BMI  Body weight   Height   \\\n",
       "0         1   27      M  22.265239         133.8    65.00   \n",
       "1         2   49      F  30.946742         169.2    62.00   \n",
       "2         3   59      F  26.948690         157.0    64.00   \n",
       "3         4   33      F  42.384279         262.6    66.00   \n",
       "4         5   51      F  30.957534         172.0    62.50   \n",
       "5         6   51      F  29.303451         197.0    68.75   \n",
       "6         7   66      F  27.070327         199.6    72.00   \n",
       "7         8   54      M  39.945440         218.4    62.00   \n",
       "8         9   34      F  37.001506         183.2    59.00   \n",
       "9        10   54      F  35.811892         195.8    62.00   \n",
       "10       11   34      M  29.162720         186.2    67.00   \n",
       "11       12   52      M  30.272873         205.0    69.00   \n",
       "12       13   56      F  32.629425         178.4    62.00   \n",
       "13       14   53      M  28.473590         181.8    67.00   \n",
       "14       15   47      F  24.336277         128.8    61.00   \n",
       "15       16   48      F  45.935133         284.6    66.00   \n",
       "16       17   33      F  22.693182         140.6    66.00   \n",
       "17       18   18      M  38.058759         243.0    67.00   \n",
       "18       19   40      F  36.429099         202.4    62.50   \n",
       "19       20   59      F  35.953334         206.2    63.50   \n",
       "20       21   63      F  25.665956         142.6    62.50   \n",
       "21       22   69      F  20.689962         116.8    63.00   \n",
       "22       23   55      M  24.244839         154.8    67.00   \n",
       "23       26   35      M  31.167461         199.0    67.00   \n",
       "24       27   24      F  27.126654         173.2    67.00   \n",
       "25       28   59      F  39.996815         204.8    60.00   \n",
       "26       29   52      M  29.517649         164.0    62.50   \n",
       "27       30   60      F  34.010325         180.0    61.00   \n",
       "28       31   46      F  23.111265         152.0    68.00   \n",
       "29       32   64      M  22.920267         169.0    72.00   \n",
       "30       33   40      M  30.038349         175.0    64.00   \n",
       "31       34   24      M  25.801977         185.0    71.00   \n",
       "32       35   45      F  28.733826         167.4    64.00   \n",
       "33       36   61      M  24.985097         154.8    66.00   \n",
       "34       38   52      M  34.457143         202.0    64.20   \n",
       "35       39   45      F  26.922934         147.2    62.00   \n",
       "36       41   58      F  27.850678         147.4    61.00   \n",
       "37       42   51      F  43.268692         229.0    61.00   \n",
       "38       43   45      F  49.088236         259.8    61.00   \n",
       "39       44   60      F  35.918461         206.0    63.50   \n",
       "40       45   46      F  32.881251         162.8    59.00   \n",
       "41       46   51      M  28.160349         179.8    67.00   \n",
       "42       47   62      M  31.377201         182.8    64.00   \n",
       "43       48   22      F  21.133672         127.0    65.00   \n",
       "44       49   58      F  36.090876         184.8    60.00   \n",
       "\n",
       "             Self-identify   A1c PDL (Lab)  Fasting GLU - PDL (Lab)  Insulin   \\\n",
       "0           Hispanic/Latino            5.4                       91       2.5   \n",
       "1           Hispanic/Latino            5.5                       93      14.8   \n",
       "2           Hispanic/Latino            6.5                      118      17.4   \n",
       "3           Hispanic/Latino            5.5                      105      19.4   \n",
       "4           Hispanic/Latino            6.6                      144      12.9   \n",
       "5                     White            5.2                       96       6.4   \n",
       "6           Hispanic/Latino            5.9                      108      15.9   \n",
       "7           Hispanic/Latino            5.8                      112      17.7   \n",
       "8           Hispanic/Latino            5.7                      122      25.7   \n",
       "9           Hispanic/Latino            5.7                      100      15.3   \n",
       "10          Hispanic/Latino            5.7                      109      11.6   \n",
       "11          Hispanic/Latino            7.1                      179      13.5   \n",
       "12          Hispanic/Latino            6.2                      103      18.3   \n",
       "13          Hispanic/Latino            7.1                      147      10.7   \n",
       "14          Hispanic/Latino            5.4                       89       3.3   \n",
       "15         African American            5.8                      104      26.0   \n",
       "16                    White            5.0                       95       8.2   \n",
       "17          Hispanic/Latino            5.4                      103      17.4   \n",
       "18          Hispanic/Latino            5.6                       98      18.6   \n",
       "19         African American            6.4                      119      17.3   \n",
       "20         African American            5.3                       98       9.3   \n",
       "21                    White            5.9                      107       3.2   \n",
       "22          Hispanic/Latino            6.2                      135       5.2   \n",
       "23          Hispanic/Latino            5.9                      104      17.8   \n",
       "24          Hispanic/Latino            4.7                       90       6.3   \n",
       "25          Hispanic/Latino            7.0                      131      19.2   \n",
       "26          Hispanic/Latino            6.1                      136      19.8   \n",
       "27          Hispanic/Latino            7.6                      195      10.5   \n",
       "28                    White            5.1                      102       9.4   \n",
       "29                    White            5.3                      100       3.2   \n",
       "30          Hispanic/Latino            5.6                      116      11.6   \n",
       "31                    White            4.6                       80       4.2   \n",
       "32          Hispanic/Latino            8.5                      218      14.8   \n",
       "33          Hispanic/Latino            6.9                      101       5.3   \n",
       "34          Hispanic/Latino            7.2                      151      29.4   \n",
       "35          Hispanic/Latino            8.3                      158      17.5   \n",
       "36          Hispanic/Latino            6.3                      138      10.6   \n",
       "37          Hispanic/Latino            7.1                      142      12.7   \n",
       "38          Hispanic/Latino            6.0                       96      21.7   \n",
       "39  Black, African American            6.0                      119      13.5   \n",
       "40          Hispanic/Latino            6.1                      148      46.4   \n",
       "41          Hispanic/Latino            7.4                      154       7.9   \n",
       "42          Hispanic/Latino            6.9                      150       9.7   \n",
       "43                    White            4.8                       79      10.2   \n",
       "44          Hispanic/Latino            7.2                      148      25.2   \n",
       "\n",
       "    ...  LDL (Cal)  VLDL (Cal)  Cho/HDL Ratio  Collection time PDL (Lab)  \\\n",
       "0   ...        130          13            2.9                11:06:00 AM   \n",
       "1   ...         78          12            2.0                 7:38:00 AM   \n",
       "2   ...         90          31            2.6                 7:25:00 AM   \n",
       "3   ...        164          60            5.8                 7:20:00 AM   \n",
       "4   ...        157          78            7.1                 7:45:00 AM   \n",
       "5   ...        118          15            2.8                 7:45:00 AM   \n",
       "6   ...         67          18            3.0                 8:00:00 AM   \n",
       "7   ...         95          29            3.0                 8:55:00 AM   \n",
       "8   ...        108          62            5.1                 7:32:00 AM   \n",
       "9   ...        110          20            3.3                 7:44:00 AM   \n",
       "10  ...        125          49            5.7                 7:48:00 AM   \n",
       "11  ...        800         400          400.0                 7:17:00 AM   \n",
       "12  ...        146          22            3.9                 7:30:00 AM   \n",
       "13  ...         81          18            3.2                 7:30:00 AM   \n",
       "14  ...        160          25            3.6                 7:31:00 AM   \n",
       "15  ...        147          15            4.4                 7:34:00 AM   \n",
       "16  ...         94          13            2.7                 7:30:00 AM   \n",
       "17  ...        115          20            4.2                 7:40:00 AM   \n",
       "18  ...        117          30            4.1                 8:06:00 AM   \n",
       "19  ...        132          29            4.4                 7:38:00 AM   \n",
       "20  ...        115          13            3.5                 7:48:00 AM   \n",
       "21  ...         98          12            2.0                 7:48:00 AM   \n",
       "22  ...        133          15            3.8                 8:17:00 AM   \n",
       "23  ...        110          31            5.2                 7:34:00 AM   \n",
       "24  ...         67           8            2.4                 7:56:00 AM   \n",
       "25  ...        195          52            5.4                 7:39:00 AM   \n",
       "26  ...        146          26            5.3                 7:51:00 AM   \n",
       "27  ...        143          50            5.9                 7:54:00 AM   \n",
       "28  ...         97          24            3.1                 7:26:00 AM   \n",
       "29  ...        163          26            4.1                 8:00:00 AM   \n",
       "30  ...         21          17            1.7                 8:10:00 AM   \n",
       "31  ...         81          21            2.6                 7:50:00 AM   \n",
       "32  ...        124          18            4.0                 7:39:00 AM   \n",
       "33  ...         34          26            1.9                 8:32:00 AM   \n",
       "34  ...         80          49            4.8                 7:13:00 AM   \n",
       "35  ...         77          35            3.8                 7:57:00 AM   \n",
       "36  ...        121          20            3.7                 7:29:00 AM   \n",
       "37  ...         90          16            2.8                 8:32:00 AM   \n",
       "38  ...        118          24            3.9                 7:44:00 AM   \n",
       "39  ...        119          24            4.1                 7:11:00 AM   \n",
       "40  ...         96          48            4.9                 7:05:00 AM   \n",
       "41  ...        260          25            5.6                 7:20:00 AM   \n",
       "42  ...        103          33            4.7                 7:15:00 AM   \n",
       "43  ...         97          13            3.1                 7:28:00 AM   \n",
       "44  ...         81          25            3.4                 8:19:00 AM   \n",
       "\n",
       "    #1 Contour Fingerstick GLU  Time (t)   #2 Contour Fingerstick GLU  \\\n",
       "0                           89      9:40                           73   \n",
       "1                           91      7:52                          123   \n",
       "2                          119      7:38                          166   \n",
       "3                          109      7:37                          110   \n",
       "4                          139      8:59                          215   \n",
       "5                           98      9:04                           97   \n",
       "6                          115      8:40                          157   \n",
       "7                          110      9:07                          156   \n",
       "8                          119      7:46                          128   \n",
       "9                          100      8:01                          160   \n",
       "10                         118      8:15                          136   \n",
       "11                         186      7:38                          279   \n",
       "12                         117      7:38                          171   \n",
       "13                         157      7:52                          157   \n",
       "14                          87      7:54                          111   \n",
       "15                          92      7:57                           87   \n",
       "16                         100      7:37                          120   \n",
       "17                         104      7:53                          100   \n",
       "18                          98      8:40                           93   \n",
       "19                         121      7:49                          186   \n",
       "20                          96      7:57                           82   \n",
       "21                         112      8:08                           98   \n",
       "22                         140      8:25                          193   \n",
       "23                         108      7:50                          117   \n",
       "24                          80      8:18                           96   \n",
       "25                         127      7:50                          179   \n",
       "26                         130      8:01                          167   \n",
       "27                         175      8:03                          281   \n",
       "28                         102      7:34                          111   \n",
       "29                          95      8:23                          130   \n",
       "30                         120      8:20                          210   \n",
       "31                          90      8:01                           88   \n",
       "32                         220      7:55                          314   \n",
       "33                         105      8:41                          170   \n",
       "34                         150      7:35                          175   \n",
       "35                         165      8:06                          233   \n",
       "36                         134      7:46                          210   \n",
       "37                         134      8:44                          184   \n",
       "38                         103      7:53                          143   \n",
       "39                         127      7:27                          183   \n",
       "40                         142      7:23                          244   \n",
       "41                         144      7:29                          247   \n",
       "42                         157      7:25                          211   \n",
       "43                          86      7:43                           84   \n",
       "44                         145      8:35                          257   \n",
       "\n",
       "   Time (t).1  #3 Contour Fingerstick GLU Time (t).2  \n",
       "0       12:11                          81      13:18  \n",
       "1        9:21                          80      10:22  \n",
       "2        9:23                          98      10:23  \n",
       "3        9:04                          90      10:01  \n",
       "4       10:52                         130      11:54  \n",
       "5       10:54                          70      11:56  \n",
       "6       10:22                          95      11:24  \n",
       "7       10:25                          94      11:26  \n",
       "8        9:32                          96      10:29  \n",
       "9        9:35                         108      10:36  \n",
       "10       9:53                          92      10:47  \n",
       "11       9:17                         215      10:17  \n",
       "12       9:12                          92      10:16  \n",
       "13       9:48                         122      10:45  \n",
       "14       9:49                          88      10:47  \n",
       "15       9:41                          86      10:38  \n",
       "16       9:15                          95      10:15  \n",
       "17       9:17                          67      10:18  \n",
       "18      10:19                          97      11:17  \n",
       "19       9:22                         122      10:26  \n",
       "20       9:25                          92      10:24  \n",
       "21       9:56                         104      10:55  \n",
       "22       9:45                          94      10:45  \n",
       "23       9:06                         105      10:16  \n",
       "24       9:32                          92      10:28  \n",
       "25       9:10                         104      10:11  \n",
       "26       9:23                         115      10:23  \n",
       "27       9:09                         247      10:10  \n",
       "28       8:38                         101       9:39  \n",
       "29       9:31                          86      10:31  \n",
       "30       9:22                         135      10:22  \n",
       "31       9:02                          86      10:04  \n",
       "32       8:53                         243       9:55  \n",
       "33       9:43                         154      10:44  \n",
       "34       8:35                         186       9:41  \n",
       "35       9:08                         234      10:09  \n",
       "36       8:46                         151       9:49  \n",
       "37       9:57                         131      10:47  \n",
       "38       8:56                          80       9:55  \n",
       "39       8:30                         115       9:35  \n",
       "40       8:24                         122       9:38  \n",
       "41       8:35                         200       9:43  \n",
       "42       8:31                         148       9:31  \n",
       "43       8:45                          97       9:45  \n",
       "44       9:33                         182      10:37  \n",
       "\n",
       "[45 rows x 24 columns]"
      ]
     },
     "execution_count": 6,
     "metadata": {},
     "output_type": "execute_result"
    }
   ],
   "source": [
    "df_bio"
   ]
  },
  {
   "cell_type": "code",
   "execution_count": 7,
   "metadata": {},
   "outputs": [
    {
     "data": {
      "text/html": [
       "<div>\n",
       "<style scoped>\n",
       "    .dataframe tbody tr th:only-of-type {\n",
       "        vertical-align: middle;\n",
       "    }\n",
       "\n",
       "    .dataframe tbody tr th {\n",
       "        vertical-align: top;\n",
       "    }\n",
       "\n",
       "    .dataframe thead th {\n",
       "        text-align: right;\n",
       "    }\n",
       "</style>\n",
       "<table border=\"1\" class=\"dataframe\">\n",
       "  <thead>\n",
       "    <tr style=\"text-align: right;\">\n",
       "      <th></th>\n",
       "      <th>Timestamp</th>\n",
       "      <th>Libre GL</th>\n",
       "      <th>Dexcom GL</th>\n",
       "      <th>HR</th>\n",
       "      <th>Calories (Activity)</th>\n",
       "      <th>METs</th>\n",
       "      <th>Meal Type</th>\n",
       "      <th>Calories</th>\n",
       "      <th>Carbs</th>\n",
       "      <th>Protein</th>\n",
       "      <th>Fat</th>\n",
       "      <th>Fiber</th>\n",
       "      <th>Amount Consumed</th>\n",
       "      <th>Image path</th>\n",
       "    </tr>\n",
       "  </thead>\n",
       "  <tbody>\n",
       "    <tr>\n",
       "      <th>0</th>\n",
       "      <td>2025-02-07 09:28:00</td>\n",
       "      <td>211.000000</td>\n",
       "      <td>NaN</td>\n",
       "      <td>NaN</td>\n",
       "      <td>2.1180</td>\n",
       "      <td>24</td>\n",
       "      <td>NaN</td>\n",
       "      <td>NaN</td>\n",
       "      <td>NaN</td>\n",
       "      <td>NaN</td>\n",
       "      <td>NaN</td>\n",
       "      <td>NaN</td>\n",
       "      <td>NaN</td>\n",
       "      <td>NaN</td>\n",
       "    </tr>\n",
       "    <tr>\n",
       "      <th>1</th>\n",
       "      <td>2025-02-07 09:29:00</td>\n",
       "      <td>210.866667</td>\n",
       "      <td>NaN</td>\n",
       "      <td>NaN</td>\n",
       "      <td>0.8825</td>\n",
       "      <td>10</td>\n",
       "      <td>NaN</td>\n",
       "      <td>NaN</td>\n",
       "      <td>NaN</td>\n",
       "      <td>NaN</td>\n",
       "      <td>NaN</td>\n",
       "      <td>NaN</td>\n",
       "      <td>NaN</td>\n",
       "      <td>NaN</td>\n",
       "    </tr>\n",
       "    <tr>\n",
       "      <th>2</th>\n",
       "      <td>2025-02-07 09:30:00</td>\n",
       "      <td>210.733333</td>\n",
       "      <td>NaN</td>\n",
       "      <td>NaN</td>\n",
       "      <td>0.8825</td>\n",
       "      <td>10</td>\n",
       "      <td>NaN</td>\n",
       "      <td>NaN</td>\n",
       "      <td>NaN</td>\n",
       "      <td>NaN</td>\n",
       "      <td>NaN</td>\n",
       "      <td>NaN</td>\n",
       "      <td>NaN</td>\n",
       "      <td>NaN</td>\n",
       "    </tr>\n",
       "    <tr>\n",
       "      <th>3</th>\n",
       "      <td>2025-02-07 09:31:00</td>\n",
       "      <td>210.600000</td>\n",
       "      <td>NaN</td>\n",
       "      <td>NaN</td>\n",
       "      <td>0.8825</td>\n",
       "      <td>10</td>\n",
       "      <td>NaN</td>\n",
       "      <td>NaN</td>\n",
       "      <td>NaN</td>\n",
       "      <td>NaN</td>\n",
       "      <td>NaN</td>\n",
       "      <td>NaN</td>\n",
       "      <td>NaN</td>\n",
       "      <td>NaN</td>\n",
       "    </tr>\n",
       "    <tr>\n",
       "      <th>4</th>\n",
       "      <td>2025-02-07 09:32:00</td>\n",
       "      <td>210.466667</td>\n",
       "      <td>NaN</td>\n",
       "      <td>NaN</td>\n",
       "      <td>0.8825</td>\n",
       "      <td>10</td>\n",
       "      <td>NaN</td>\n",
       "      <td>NaN</td>\n",
       "      <td>NaN</td>\n",
       "      <td>NaN</td>\n",
       "      <td>NaN</td>\n",
       "      <td>NaN</td>\n",
       "      <td>NaN</td>\n",
       "      <td>NaN</td>\n",
       "    </tr>\n",
       "  </tbody>\n",
       "</table>\n",
       "</div>"
      ],
      "text/plain": [
       "             Timestamp    Libre GL  Dexcom GL  HR  Calories (Activity)  METs  \\\n",
       "0  2025-02-07 09:28:00  211.000000        NaN NaN               2.1180    24   \n",
       "1  2025-02-07 09:29:00  210.866667        NaN NaN               0.8825    10   \n",
       "2  2025-02-07 09:30:00  210.733333        NaN NaN               0.8825    10   \n",
       "3  2025-02-07 09:31:00  210.600000        NaN NaN               0.8825    10   \n",
       "4  2025-02-07 09:32:00  210.466667        NaN NaN               0.8825    10   \n",
       "\n",
       "  Meal Type  Calories  Carbs  Protein  Fat  Fiber  Amount Consumed Image path  \n",
       "0       NaN       NaN    NaN      NaN  NaN    NaN              NaN        NaN  \n",
       "1       NaN       NaN    NaN      NaN  NaN    NaN              NaN        NaN  \n",
       "2       NaN       NaN    NaN      NaN  NaN    NaN              NaN        NaN  \n",
       "3       NaN       NaN    NaN      NaN  NaN    NaN              NaN        NaN  \n",
       "4       NaN       NaN    NaN      NaN  NaN    NaN              NaN        NaN  "
      ]
     },
     "execution_count": 7,
     "metadata": {},
     "output_type": "execute_result"
    }
   ],
   "source": [
    "df_macro039.head()"
   ]
  },
  {
   "cell_type": "code",
   "execution_count": 8,
   "metadata": {},
   "outputs": [
    {
     "data": {
      "text/html": [
       "<div>\n",
       "<style scoped>\n",
       "    .dataframe tbody tr th:only-of-type {\n",
       "        vertical-align: middle;\n",
       "    }\n",
       "\n",
       "    .dataframe tbody tr th {\n",
       "        vertical-align: top;\n",
       "    }\n",
       "\n",
       "    .dataframe thead th {\n",
       "        text-align: right;\n",
       "    }\n",
       "</style>\n",
       "<table border=\"1\" class=\"dataframe\">\n",
       "  <thead>\n",
       "    <tr style=\"text-align: right;\">\n",
       "      <th></th>\n",
       "      <th>Timestamp</th>\n",
       "      <th>Libre GL</th>\n",
       "      <th>Dexcom GL</th>\n",
       "      <th>HR</th>\n",
       "      <th>Calories (Activity)</th>\n",
       "      <th>METs</th>\n",
       "      <th>Meal Type</th>\n",
       "      <th>Calories</th>\n",
       "      <th>Carbs</th>\n",
       "      <th>Protein</th>\n",
       "      <th>Fat</th>\n",
       "      <th>Fiber</th>\n",
       "      <th>Amount Consumed</th>\n",
       "      <th>Image path</th>\n",
       "    </tr>\n",
       "  </thead>\n",
       "  <tbody>\n",
       "    <tr>\n",
       "      <th>111</th>\n",
       "      <td>2025-02-07 11:19:00</td>\n",
       "      <td>135.800000</td>\n",
       "      <td>170.0</td>\n",
       "      <td>NaN</td>\n",
       "      <td>0.97075</td>\n",
       "      <td>11</td>\n",
       "      <td>lunch</td>\n",
       "      <td>1180.0</td>\n",
       "      <td>81.0</td>\n",
       "      <td>88.0</td>\n",
       "      <td>54.5</td>\n",
       "      <td>18.0</td>\n",
       "      <td>100.0</td>\n",
       "      <td>photos/00000008-PHOTO-2025-2-7-11-19-0.jpg</td>\n",
       "    </tr>\n",
       "    <tr>\n",
       "      <th>304</th>\n",
       "      <td>2025-02-07 14:32:00</td>\n",
       "      <td>129.933333</td>\n",
       "      <td>174.0</td>\n",
       "      <td>NaN</td>\n",
       "      <td>2.29450</td>\n",
       "      <td>26</td>\n",
       "      <td>snack</td>\n",
       "      <td>215.0</td>\n",
       "      <td>49.0</td>\n",
       "      <td>1.0</td>\n",
       "      <td>0.0</td>\n",
       "      <td>11.0</td>\n",
       "      <td>900.0</td>\n",
       "      <td>photos/00000010-PHOTO-2025-2-7-14-32-0.jpg</td>\n",
       "    </tr>\n",
       "    <tr>\n",
       "      <th>506</th>\n",
       "      <td>2025-02-07 17:54:00</td>\n",
       "      <td>103.400000</td>\n",
       "      <td>143.0</td>\n",
       "      <td>NaN</td>\n",
       "      <td>2.82400</td>\n",
       "      <td>32</td>\n",
       "      <td>dinner</td>\n",
       "      <td>1331.0</td>\n",
       "      <td>87.0</td>\n",
       "      <td>96.0</td>\n",
       "      <td>66.0</td>\n",
       "      <td>12.0</td>\n",
       "      <td>600.0</td>\n",
       "      <td>photos/00000012-PHOTO-2025-2-7-17-54-0.jpg</td>\n",
       "    </tr>\n",
       "    <tr>\n",
       "      <th>1409</th>\n",
       "      <td>2025-02-08 08:57:00</td>\n",
       "      <td>129.133333</td>\n",
       "      <td>176.8</td>\n",
       "      <td>93.0</td>\n",
       "      <td>2.82400</td>\n",
       "      <td>32</td>\n",
       "      <td>breakfast</td>\n",
       "      <td>448.0</td>\n",
       "      <td>66.0</td>\n",
       "      <td>22.0</td>\n",
       "      <td>10.5</td>\n",
       "      <td>0.0</td>\n",
       "      <td>100.0</td>\n",
       "      <td>photos/00000014-PHOTO-2025-2-8-8-57-0.jpg</td>\n",
       "    </tr>\n",
       "    <tr>\n",
       "      <th>1599</th>\n",
       "      <td>2025-02-08 12:07:00</td>\n",
       "      <td>161.600000</td>\n",
       "      <td>235.2</td>\n",
       "      <td>85.0</td>\n",
       "      <td>2.29450</td>\n",
       "      <td>26</td>\n",
       "      <td>lunch</td>\n",
       "      <td>830.0</td>\n",
       "      <td>92.0</td>\n",
       "      <td>17.0</td>\n",
       "      <td>42.0</td>\n",
       "      <td>10.0</td>\n",
       "      <td>100.0</td>\n",
       "      <td>photos/00000018-PHOTO-2025-2-8-12-7-0.jpg</td>\n",
       "    </tr>\n",
       "    <tr>\n",
       "      <th>1793</th>\n",
       "      <td>2025-02-08 15:21:00</td>\n",
       "      <td>102.266667</td>\n",
       "      <td>151.2</td>\n",
       "      <td>88.0</td>\n",
       "      <td>1.14725</td>\n",
       "      <td>13</td>\n",
       "      <td>snack</td>\n",
       "      <td>93.0</td>\n",
       "      <td>18.0</td>\n",
       "      <td>1.0</td>\n",
       "      <td>0.0</td>\n",
       "      <td>7.0</td>\n",
       "      <td>500.0</td>\n",
       "      <td>photos/00000022-PHOTO-2025-2-8-15-21-0.jpg</td>\n",
       "    </tr>\n",
       "    <tr>\n",
       "      <th>1844</th>\n",
       "      <td>2025-02-08 16:12:00</td>\n",
       "      <td>110.733333</td>\n",
       "      <td>157.6</td>\n",
       "      <td>96.0</td>\n",
       "      <td>3.00050</td>\n",
       "      <td>34</td>\n",
       "      <td>dinner</td>\n",
       "      <td>190.0</td>\n",
       "      <td>50.0</td>\n",
       "      <td>0.0</td>\n",
       "      <td>0.0</td>\n",
       "      <td>8.0</td>\n",
       "      <td>200.0</td>\n",
       "      <td>photos/00000024-PHOTO-2025-2-8-16-12-0.jpg</td>\n",
       "    </tr>\n",
       "    <tr>\n",
       "      <th>2798</th>\n",
       "      <td>2025-02-09 08:06:00</td>\n",
       "      <td>151.400000</td>\n",
       "      <td>196.2</td>\n",
       "      <td>98.0</td>\n",
       "      <td>2.82400</td>\n",
       "      <td>32</td>\n",
       "      <td>breakfast</td>\n",
       "      <td>608.0</td>\n",
       "      <td>66.0</td>\n",
       "      <td>66.0</td>\n",
       "      <td>10.5</td>\n",
       "      <td>0.0</td>\n",
       "      <td>100.0</td>\n",
       "      <td>photos/00000028-PHOTO-2025-2-9-8-6-0.jpg</td>\n",
       "    </tr>\n",
       "    <tr>\n",
       "      <th>3050</th>\n",
       "      <td>2025-02-09 12:18:00</td>\n",
       "      <td>152.666667</td>\n",
       "      <td>218.6</td>\n",
       "      <td>90.0</td>\n",
       "      <td>1.14725</td>\n",
       "      <td>13</td>\n",
       "      <td>lunch</td>\n",
       "      <td>435.0</td>\n",
       "      <td>16.0</td>\n",
       "      <td>66.0</td>\n",
       "      <td>14.0</td>\n",
       "      <td>4.0</td>\n",
       "      <td>100.0</td>\n",
       "      <td>photos/00000033-PHOTO-2025-2-9-12-18-0.jpg</td>\n",
       "    </tr>\n",
       "    <tr>\n",
       "      <th>3241</th>\n",
       "      <td>2025-02-09 15:29:00</td>\n",
       "      <td>88.066667</td>\n",
       "      <td>132.0</td>\n",
       "      <td>94.0</td>\n",
       "      <td>1.14725</td>\n",
       "      <td>13</td>\n",
       "      <td>dinner</td>\n",
       "      <td>428.0</td>\n",
       "      <td>73.0</td>\n",
       "      <td>27.0</td>\n",
       "      <td>5.0</td>\n",
       "      <td>9.0</td>\n",
       "      <td>400.0</td>\n",
       "      <td>photos/00000035-PHOTO-2025-2-9-15-29-0.jpg</td>\n",
       "    </tr>\n",
       "    <tr>\n",
       "      <th>3322</th>\n",
       "      <td>2025-02-09 16:50:00</td>\n",
       "      <td>114.533333</td>\n",
       "      <td>165.8</td>\n",
       "      <td>91.0</td>\n",
       "      <td>1.14725</td>\n",
       "      <td>13</td>\n",
       "      <td>snack</td>\n",
       "      <td>239.0</td>\n",
       "      <td>58.0</td>\n",
       "      <td>1.0</td>\n",
       "      <td>0.0</td>\n",
       "      <td>14.0</td>\n",
       "      <td>500.0</td>\n",
       "      <td>photos/00000040-PHOTO-2025-2-9-16-50-0.jpg</td>\n",
       "    </tr>\n",
       "    <tr>\n",
       "      <th>4286</th>\n",
       "      <td>2025-02-10 08:54:00</td>\n",
       "      <td>116.200000</td>\n",
       "      <td>168.0</td>\n",
       "      <td>100.0</td>\n",
       "      <td>3.17700</td>\n",
       "      <td>36</td>\n",
       "      <td>breakfast</td>\n",
       "      <td>712.0</td>\n",
       "      <td>66.0</td>\n",
       "      <td>22.0</td>\n",
       "      <td>42.0</td>\n",
       "      <td>0.0</td>\n",
       "      <td>100.0</td>\n",
       "      <td>photos/00000043-PHOTO-2025-2-10-8-54-0.jpg</td>\n",
       "    </tr>\n",
       "    <tr>\n",
       "      <th>4466</th>\n",
       "      <td>2025-02-10 11:54:00</td>\n",
       "      <td>165.466667</td>\n",
       "      <td>266.0</td>\n",
       "      <td>90.0</td>\n",
       "      <td>2.47100</td>\n",
       "      <td>28</td>\n",
       "      <td>lunch</td>\n",
       "      <td>555.0</td>\n",
       "      <td>94.0</td>\n",
       "      <td>12.0</td>\n",
       "      <td>13.0</td>\n",
       "      <td>5.0</td>\n",
       "      <td>100.0</td>\n",
       "      <td>photos/00000046-PHOTO-2025-2-10-11-54-0.jpg</td>\n",
       "    </tr>\n",
       "    <tr>\n",
       "      <th>4657</th>\n",
       "      <td>2025-02-10 15:05:00</td>\n",
       "      <td>108.200000</td>\n",
       "      <td>175.0</td>\n",
       "      <td>93.0</td>\n",
       "      <td>1.14725</td>\n",
       "      <td>13</td>\n",
       "      <td>snack</td>\n",
       "      <td>62.0</td>\n",
       "      <td>15.0</td>\n",
       "      <td>1.0</td>\n",
       "      <td>0.0</td>\n",
       "      <td>7.0</td>\n",
       "      <td>300.0</td>\n",
       "      <td>photos/00000051-PHOTO-2025-2-10-15-5-0.jpg</td>\n",
       "    </tr>\n",
       "    <tr>\n",
       "      <th>4836</th>\n",
       "      <td>2025-02-10 18:04:00</td>\n",
       "      <td>133.400000</td>\n",
       "      <td>204.0</td>\n",
       "      <td>102.0</td>\n",
       "      <td>1.14725</td>\n",
       "      <td>13</td>\n",
       "      <td>dinner</td>\n",
       "      <td>0.0</td>\n",
       "      <td>0.0</td>\n",
       "      <td>0.0</td>\n",
       "      <td>0.0</td>\n",
       "      <td>0.0</td>\n",
       "      <td>0.0</td>\n",
       "      <td>photos/00000053-PHOTO-2025-2-10-18-4-0.jpg</td>\n",
       "    </tr>\n",
       "    <tr>\n",
       "      <th>5702</th>\n",
       "      <td>2025-02-11 08:30:00</td>\n",
       "      <td>115.333333</td>\n",
       "      <td>178.8</td>\n",
       "      <td>93.0</td>\n",
       "      <td>2.47100</td>\n",
       "      <td>28</td>\n",
       "      <td>breakfast</td>\n",
       "      <td>902.0</td>\n",
       "      <td>73.0</td>\n",
       "      <td>66.0</td>\n",
       "      <td>42.0</td>\n",
       "      <td>7.0</td>\n",
       "      <td>100.0</td>\n",
       "      <td>photos/00000055-PHOTO-2025-2-11-8-30-0.jpg</td>\n",
       "    </tr>\n",
       "    <tr>\n",
       "      <th>5890</th>\n",
       "      <td>2025-02-11 11:38:00</td>\n",
       "      <td>193.666667</td>\n",
       "      <td>275.6</td>\n",
       "      <td>83.0</td>\n",
       "      <td>0.97075</td>\n",
       "      <td>11</td>\n",
       "      <td>lunch</td>\n",
       "      <td>355.0</td>\n",
       "      <td>19.0</td>\n",
       "      <td>32.0</td>\n",
       "      <td>15.0</td>\n",
       "      <td>5.0</td>\n",
       "      <td>100.0</td>\n",
       "      <td>photos/00000059-PHOTO-2025-2-11-11-38-0.jpg</td>\n",
       "    </tr>\n",
       "    <tr>\n",
       "      <th>6196</th>\n",
       "      <td>2025-02-11 16:44:00</td>\n",
       "      <td>76.200000</td>\n",
       "      <td>138.0</td>\n",
       "      <td>101.0</td>\n",
       "      <td>1.14725</td>\n",
       "      <td>13</td>\n",
       "      <td>snack</td>\n",
       "      <td>387.0</td>\n",
       "      <td>40.0</td>\n",
       "      <td>3.0</td>\n",
       "      <td>18.0</td>\n",
       "      <td>4.0</td>\n",
       "      <td>0.0</td>\n",
       "      <td>photos/00000061-PHOTO-2025-2-11-16-44-0.jpg</td>\n",
       "    </tr>\n",
       "    <tr>\n",
       "      <th>7183</th>\n",
       "      <td>2025-02-12 09:11:00</td>\n",
       "      <td>130.266667</td>\n",
       "      <td>183.8</td>\n",
       "      <td>88.0</td>\n",
       "      <td>1.05900</td>\n",
       "      <td>12</td>\n",
       "      <td>breakfast</td>\n",
       "      <td>268.0</td>\n",
       "      <td>24.0</td>\n",
       "      <td>22.0</td>\n",
       "      <td>10.5</td>\n",
       "      <td>0.0</td>\n",
       "      <td>100.0</td>\n",
       "      <td>photos/00000063-PHOTO-2025-2-12-9-11-0.jpg</td>\n",
       "    </tr>\n",
       "    <tr>\n",
       "      <th>7373</th>\n",
       "      <td>2025-02-12 12:21:00</td>\n",
       "      <td>116.266667</td>\n",
       "      <td>187.8</td>\n",
       "      <td>91.0</td>\n",
       "      <td>2.47100</td>\n",
       "      <td>28</td>\n",
       "      <td>lunch</td>\n",
       "      <td>1110.0</td>\n",
       "      <td>93.0</td>\n",
       "      <td>84.0</td>\n",
       "      <td>44.0</td>\n",
       "      <td>4.0</td>\n",
       "      <td>100.0</td>\n",
       "      <td>photos/00000065-PHOTO-2025-2-12-12-21-0.jpg</td>\n",
       "    </tr>\n",
       "    <tr>\n",
       "      <th>7568</th>\n",
       "      <td>2025-02-12 15:36:00</td>\n",
       "      <td>140.733333</td>\n",
       "      <td>224.0</td>\n",
       "      <td>82.0</td>\n",
       "      <td>0.97075</td>\n",
       "      <td>11</td>\n",
       "      <td>snack</td>\n",
       "      <td>279.0</td>\n",
       "      <td>52.0</td>\n",
       "      <td>6.0</td>\n",
       "      <td>3.0</td>\n",
       "      <td>7.0</td>\n",
       "      <td>0.0</td>\n",
       "      <td>photos/00000067-PHOTO-2025-2-12-15-36-0.jpg</td>\n",
       "    </tr>\n",
       "    <tr>\n",
       "      <th>8556</th>\n",
       "      <td>2025-02-13 08:04:00</td>\n",
       "      <td>157.600000</td>\n",
       "      <td>200.0</td>\n",
       "      <td>93.0</td>\n",
       "      <td>2.47100</td>\n",
       "      <td>28</td>\n",
       "      <td>breakfast</td>\n",
       "      <td>448.0</td>\n",
       "      <td>66.0</td>\n",
       "      <td>22.0</td>\n",
       "      <td>10.5</td>\n",
       "      <td>0.0</td>\n",
       "      <td>100.0</td>\n",
       "      <td>photos/00000070-PHOTO-2025-2-13-8-4-0.jpg</td>\n",
       "    </tr>\n",
       "    <tr>\n",
       "      <th>8777</th>\n",
       "      <td>2025-02-13 11:45:00</td>\n",
       "      <td>147.666667</td>\n",
       "      <td>214.6</td>\n",
       "      <td>80.0</td>\n",
       "      <td>2.11800</td>\n",
       "      <td>24</td>\n",
       "      <td>lunch</td>\n",
       "      <td>575.0</td>\n",
       "      <td>76.0</td>\n",
       "      <td>22.0</td>\n",
       "      <td>18.5</td>\n",
       "      <td>11.0</td>\n",
       "      <td>100.0</td>\n",
       "      <td>photos/00000072-PHOTO-2025-2-13-11-45-0.jpg</td>\n",
       "    </tr>\n",
       "    <tr>\n",
       "      <th>8973</th>\n",
       "      <td>2025-02-13 15:01:00</td>\n",
       "      <td>121.600000</td>\n",
       "      <td>183.0</td>\n",
       "      <td>86.0</td>\n",
       "      <td>1.14725</td>\n",
       "      <td>13</td>\n",
       "      <td>snack</td>\n",
       "      <td>295.0</td>\n",
       "      <td>31.0</td>\n",
       "      <td>7.0</td>\n",
       "      <td>16.0</td>\n",
       "      <td>6.0</td>\n",
       "      <td>0.0</td>\n",
       "      <td>photos/00000074-PHOTO-2025-2-13-15-1-0.jpg</td>\n",
       "    </tr>\n",
       "    <tr>\n",
       "      <th>9923</th>\n",
       "      <td>2025-02-14 06:51:00</td>\n",
       "      <td>128.866667</td>\n",
       "      <td>186.0</td>\n",
       "      <td>93.0</td>\n",
       "      <td>2.47100</td>\n",
       "      <td>28</td>\n",
       "      <td>breakfast</td>\n",
       "      <td>608.0</td>\n",
       "      <td>66.0</td>\n",
       "      <td>66.0</td>\n",
       "      <td>10.5</td>\n",
       "      <td>0.0</td>\n",
       "      <td>100.0</td>\n",
       "      <td>photos/00000076-PHOTO-2025-2-14-6-51-0.jpg</td>\n",
       "    </tr>\n",
       "    <tr>\n",
       "      <th>10211</th>\n",
       "      <td>2025-02-14 11:39:00</td>\n",
       "      <td>139.133333</td>\n",
       "      <td>203.0</td>\n",
       "      <td>70.0</td>\n",
       "      <td>0.97075</td>\n",
       "      <td>11</td>\n",
       "      <td>lunch</td>\n",
       "      <td>585.0</td>\n",
       "      <td>40.0</td>\n",
       "      <td>76.0</td>\n",
       "      <td>17.0</td>\n",
       "      <td>13.0</td>\n",
       "      <td>100.0</td>\n",
       "      <td>photos/00000081-PHOTO-2025-2-14-11-39-0.jpg</td>\n",
       "    </tr>\n",
       "    <tr>\n",
       "      <th>10441</th>\n",
       "      <td>2025-02-14 15:29:00</td>\n",
       "      <td>80.000000</td>\n",
       "      <td>136.0</td>\n",
       "      <td>76.0</td>\n",
       "      <td>0.88250</td>\n",
       "      <td>10</td>\n",
       "      <td>dinner</td>\n",
       "      <td>498.0</td>\n",
       "      <td>70.0</td>\n",
       "      <td>41.0</td>\n",
       "      <td>7.0</td>\n",
       "      <td>10.0</td>\n",
       "      <td>300.0</td>\n",
       "      <td>photos/00000086-PHOTO-2025-2-14-15-29-0.jpg</td>\n",
       "    </tr>\n",
       "    <tr>\n",
       "      <th>11460</th>\n",
       "      <td>2025-02-15 08:28:00</td>\n",
       "      <td>124.000000</td>\n",
       "      <td>180.8</td>\n",
       "      <td>89.0</td>\n",
       "      <td>1.05900</td>\n",
       "      <td>12</td>\n",
       "      <td>breakfast</td>\n",
       "      <td>712.0</td>\n",
       "      <td>66.0</td>\n",
       "      <td>22.0</td>\n",
       "      <td>42.0</td>\n",
       "      <td>0.0</td>\n",
       "      <td>100.0</td>\n",
       "      <td>photos/00000088-PHOTO-2025-2-15-8-28-0.jpg</td>\n",
       "    </tr>\n",
       "    <tr>\n",
       "      <th>11637</th>\n",
       "      <td>2025-02-15 11:25:00</td>\n",
       "      <td>222.800000</td>\n",
       "      <td>312.0</td>\n",
       "      <td>82.0</td>\n",
       "      <td>0.97075</td>\n",
       "      <td>11</td>\n",
       "      <td>lunch</td>\n",
       "      <td>445.0</td>\n",
       "      <td>43.0</td>\n",
       "      <td>20.0</td>\n",
       "      <td>20.0</td>\n",
       "      <td>13.0</td>\n",
       "      <td>100.0</td>\n",
       "      <td>photos/00000092-PHOTO-2025-2-15-11-25-0.jpg</td>\n",
       "    </tr>\n",
       "    <tr>\n",
       "      <th>12054</th>\n",
       "      <td>2025-02-15 18:22:00</td>\n",
       "      <td>100.400000</td>\n",
       "      <td>143.8</td>\n",
       "      <td>83.0</td>\n",
       "      <td>2.11800</td>\n",
       "      <td>24</td>\n",
       "      <td>dinner</td>\n",
       "      <td>0.0</td>\n",
       "      <td>0.0</td>\n",
       "      <td>0.0</td>\n",
       "      <td>0.0</td>\n",
       "      <td>0.0</td>\n",
       "      <td>0.0</td>\n",
       "      <td>photos/00000094-PHOTO-2025-2-15-18-22-0.jpg</td>\n",
       "    </tr>\n",
       "    <tr>\n",
       "      <th>12825</th>\n",
       "      <td>2025-02-16 07:13:00</td>\n",
       "      <td>144.000000</td>\n",
       "      <td>208.0</td>\n",
       "      <td>84.0</td>\n",
       "      <td>1.05900</td>\n",
       "      <td>12</td>\n",
       "      <td>breakfast</td>\n",
       "      <td>268.0</td>\n",
       "      <td>24.0</td>\n",
       "      <td>22.0</td>\n",
       "      <td>10.5</td>\n",
       "      <td>0.0</td>\n",
       "      <td>100.0</td>\n",
       "      <td>photos/00000096-PHOTO-2025-2-16-7-13-0.jpg</td>\n",
       "    </tr>\n",
       "    <tr>\n",
       "      <th>13117</th>\n",
       "      <td>2025-02-16 12:05:00</td>\n",
       "      <td>102.466667</td>\n",
       "      <td>152.4</td>\n",
       "      <td>73.0</td>\n",
       "      <td>2.11800</td>\n",
       "      <td>24</td>\n",
       "      <td>lunch</td>\n",
       "      <td>725.0</td>\n",
       "      <td>94.0</td>\n",
       "      <td>44.0</td>\n",
       "      <td>20.0</td>\n",
       "      <td>4.0</td>\n",
       "      <td>100.0</td>\n",
       "      <td>photos/00000099-PHOTO-2025-2-16-12-5-0.jpg</td>\n",
       "    </tr>\n",
       "    <tr>\n",
       "      <th>13464</th>\n",
       "      <td>2025-02-16 17:52:00</td>\n",
       "      <td>104.200000</td>\n",
       "      <td>146.0</td>\n",
       "      <td>100.0</td>\n",
       "      <td>2.82400</td>\n",
       "      <td>32</td>\n",
       "      <td>dinner</td>\n",
       "      <td>0.0</td>\n",
       "      <td>0.0</td>\n",
       "      <td>0.0</td>\n",
       "      <td>0.0</td>\n",
       "      <td>0.0</td>\n",
       "      <td>0.0</td>\n",
       "      <td>photos/00000103-PHOTO-2025-2-16-17-52-0.jpg</td>\n",
       "    </tr>\n",
       "    <tr>\n",
       "      <th>14389</th>\n",
       "      <td>2025-02-17 09:17:00</td>\n",
       "      <td>113.466667</td>\n",
       "      <td>NaN</td>\n",
       "      <td>96.0</td>\n",
       "      <td>1.05900</td>\n",
       "      <td>12</td>\n",
       "      <td>breakfast</td>\n",
       "      <td>902.0</td>\n",
       "      <td>73.0</td>\n",
       "      <td>22.0</td>\n",
       "      <td>42.0</td>\n",
       "      <td>7.0</td>\n",
       "      <td>100.0</td>\n",
       "      <td>photos/00000104-PHOTO-2025-2-17-9-17-0.jpg</td>\n",
       "    </tr>\n",
       "  </tbody>\n",
       "</table>\n",
       "</div>"
      ],
      "text/plain": [
       "                 Timestamp    Libre GL  Dexcom GL     HR  Calories (Activity)  \\\n",
       "111    2025-02-07 11:19:00  135.800000      170.0    NaN              0.97075   \n",
       "304    2025-02-07 14:32:00  129.933333      174.0    NaN              2.29450   \n",
       "506    2025-02-07 17:54:00  103.400000      143.0    NaN              2.82400   \n",
       "1409   2025-02-08 08:57:00  129.133333      176.8   93.0              2.82400   \n",
       "1599   2025-02-08 12:07:00  161.600000      235.2   85.0              2.29450   \n",
       "1793   2025-02-08 15:21:00  102.266667      151.2   88.0              1.14725   \n",
       "1844   2025-02-08 16:12:00  110.733333      157.6   96.0              3.00050   \n",
       "2798   2025-02-09 08:06:00  151.400000      196.2   98.0              2.82400   \n",
       "3050   2025-02-09 12:18:00  152.666667      218.6   90.0              1.14725   \n",
       "3241   2025-02-09 15:29:00   88.066667      132.0   94.0              1.14725   \n",
       "3322   2025-02-09 16:50:00  114.533333      165.8   91.0              1.14725   \n",
       "4286   2025-02-10 08:54:00  116.200000      168.0  100.0              3.17700   \n",
       "4466   2025-02-10 11:54:00  165.466667      266.0   90.0              2.47100   \n",
       "4657   2025-02-10 15:05:00  108.200000      175.0   93.0              1.14725   \n",
       "4836   2025-02-10 18:04:00  133.400000      204.0  102.0              1.14725   \n",
       "5702   2025-02-11 08:30:00  115.333333      178.8   93.0              2.47100   \n",
       "5890   2025-02-11 11:38:00  193.666667      275.6   83.0              0.97075   \n",
       "6196   2025-02-11 16:44:00   76.200000      138.0  101.0              1.14725   \n",
       "7183   2025-02-12 09:11:00  130.266667      183.8   88.0              1.05900   \n",
       "7373   2025-02-12 12:21:00  116.266667      187.8   91.0              2.47100   \n",
       "7568   2025-02-12 15:36:00  140.733333      224.0   82.0              0.97075   \n",
       "8556   2025-02-13 08:04:00  157.600000      200.0   93.0              2.47100   \n",
       "8777   2025-02-13 11:45:00  147.666667      214.6   80.0              2.11800   \n",
       "8973   2025-02-13 15:01:00  121.600000      183.0   86.0              1.14725   \n",
       "9923   2025-02-14 06:51:00  128.866667      186.0   93.0              2.47100   \n",
       "10211  2025-02-14 11:39:00  139.133333      203.0   70.0              0.97075   \n",
       "10441  2025-02-14 15:29:00   80.000000      136.0   76.0              0.88250   \n",
       "11460  2025-02-15 08:28:00  124.000000      180.8   89.0              1.05900   \n",
       "11637  2025-02-15 11:25:00  222.800000      312.0   82.0              0.97075   \n",
       "12054  2025-02-15 18:22:00  100.400000      143.8   83.0              2.11800   \n",
       "12825  2025-02-16 07:13:00  144.000000      208.0   84.0              1.05900   \n",
       "13117  2025-02-16 12:05:00  102.466667      152.4   73.0              2.11800   \n",
       "13464  2025-02-16 17:52:00  104.200000      146.0  100.0              2.82400   \n",
       "14389  2025-02-17 09:17:00  113.466667        NaN   96.0              1.05900   \n",
       "\n",
       "       METs  Meal Type  Calories  Carbs  Protein   Fat  Fiber  \\\n",
       "111      11      lunch    1180.0   81.0     88.0  54.5   18.0   \n",
       "304      26      snack     215.0   49.0      1.0   0.0   11.0   \n",
       "506      32     dinner    1331.0   87.0     96.0  66.0   12.0   \n",
       "1409     32  breakfast     448.0   66.0     22.0  10.5    0.0   \n",
       "1599     26      lunch     830.0   92.0     17.0  42.0   10.0   \n",
       "1793     13      snack      93.0   18.0      1.0   0.0    7.0   \n",
       "1844     34     dinner     190.0   50.0      0.0   0.0    8.0   \n",
       "2798     32  breakfast     608.0   66.0     66.0  10.5    0.0   \n",
       "3050     13      lunch     435.0   16.0     66.0  14.0    4.0   \n",
       "3241     13     dinner     428.0   73.0     27.0   5.0    9.0   \n",
       "3322     13      snack     239.0   58.0      1.0   0.0   14.0   \n",
       "4286     36  breakfast     712.0   66.0     22.0  42.0    0.0   \n",
       "4466     28      lunch     555.0   94.0     12.0  13.0    5.0   \n",
       "4657     13      snack      62.0   15.0      1.0   0.0    7.0   \n",
       "4836     13     dinner       0.0    0.0      0.0   0.0    0.0   \n",
       "5702     28  breakfast     902.0   73.0     66.0  42.0    7.0   \n",
       "5890     11      lunch     355.0   19.0     32.0  15.0    5.0   \n",
       "6196     13      snack     387.0   40.0      3.0  18.0    4.0   \n",
       "7183     12  breakfast     268.0   24.0     22.0  10.5    0.0   \n",
       "7373     28      lunch    1110.0   93.0     84.0  44.0    4.0   \n",
       "7568     11      snack     279.0   52.0      6.0   3.0    7.0   \n",
       "8556     28  breakfast     448.0   66.0     22.0  10.5    0.0   \n",
       "8777     24      lunch     575.0   76.0     22.0  18.5   11.0   \n",
       "8973     13      snack     295.0   31.0      7.0  16.0    6.0   \n",
       "9923     28  breakfast     608.0   66.0     66.0  10.5    0.0   \n",
       "10211    11      lunch     585.0   40.0     76.0  17.0   13.0   \n",
       "10441    10     dinner     498.0   70.0     41.0   7.0   10.0   \n",
       "11460    12  breakfast     712.0   66.0     22.0  42.0    0.0   \n",
       "11637    11      lunch     445.0   43.0     20.0  20.0   13.0   \n",
       "12054    24     dinner       0.0    0.0      0.0   0.0    0.0   \n",
       "12825    12  breakfast     268.0   24.0     22.0  10.5    0.0   \n",
       "13117    24      lunch     725.0   94.0     44.0  20.0    4.0   \n",
       "13464    32     dinner       0.0    0.0      0.0   0.0    0.0   \n",
       "14389    12  breakfast     902.0   73.0     22.0  42.0    7.0   \n",
       "\n",
       "       Amount Consumed                                   Image path  \n",
       "111              100.0   photos/00000008-PHOTO-2025-2-7-11-19-0.jpg  \n",
       "304              900.0   photos/00000010-PHOTO-2025-2-7-14-32-0.jpg  \n",
       "506              600.0   photos/00000012-PHOTO-2025-2-7-17-54-0.jpg  \n",
       "1409             100.0    photos/00000014-PHOTO-2025-2-8-8-57-0.jpg  \n",
       "1599             100.0    photos/00000018-PHOTO-2025-2-8-12-7-0.jpg  \n",
       "1793             500.0   photos/00000022-PHOTO-2025-2-8-15-21-0.jpg  \n",
       "1844             200.0   photos/00000024-PHOTO-2025-2-8-16-12-0.jpg  \n",
       "2798             100.0     photos/00000028-PHOTO-2025-2-9-8-6-0.jpg  \n",
       "3050             100.0   photos/00000033-PHOTO-2025-2-9-12-18-0.jpg  \n",
       "3241             400.0   photos/00000035-PHOTO-2025-2-9-15-29-0.jpg  \n",
       "3322             500.0   photos/00000040-PHOTO-2025-2-9-16-50-0.jpg  \n",
       "4286             100.0   photos/00000043-PHOTO-2025-2-10-8-54-0.jpg  \n",
       "4466             100.0  photos/00000046-PHOTO-2025-2-10-11-54-0.jpg  \n",
       "4657             300.0   photos/00000051-PHOTO-2025-2-10-15-5-0.jpg  \n",
       "4836               0.0   photos/00000053-PHOTO-2025-2-10-18-4-0.jpg  \n",
       "5702             100.0   photos/00000055-PHOTO-2025-2-11-8-30-0.jpg  \n",
       "5890             100.0  photos/00000059-PHOTO-2025-2-11-11-38-0.jpg  \n",
       "6196               0.0  photos/00000061-PHOTO-2025-2-11-16-44-0.jpg  \n",
       "7183             100.0   photos/00000063-PHOTO-2025-2-12-9-11-0.jpg  \n",
       "7373             100.0  photos/00000065-PHOTO-2025-2-12-12-21-0.jpg  \n",
       "7568               0.0  photos/00000067-PHOTO-2025-2-12-15-36-0.jpg  \n",
       "8556             100.0    photos/00000070-PHOTO-2025-2-13-8-4-0.jpg  \n",
       "8777             100.0  photos/00000072-PHOTO-2025-2-13-11-45-0.jpg  \n",
       "8973               0.0   photos/00000074-PHOTO-2025-2-13-15-1-0.jpg  \n",
       "9923             100.0   photos/00000076-PHOTO-2025-2-14-6-51-0.jpg  \n",
       "10211            100.0  photos/00000081-PHOTO-2025-2-14-11-39-0.jpg  \n",
       "10441            300.0  photos/00000086-PHOTO-2025-2-14-15-29-0.jpg  \n",
       "11460            100.0   photos/00000088-PHOTO-2025-2-15-8-28-0.jpg  \n",
       "11637            100.0  photos/00000092-PHOTO-2025-2-15-11-25-0.jpg  \n",
       "12054              0.0  photos/00000094-PHOTO-2025-2-15-18-22-0.jpg  \n",
       "12825            100.0   photos/00000096-PHOTO-2025-2-16-7-13-0.jpg  \n",
       "13117            100.0   photos/00000099-PHOTO-2025-2-16-12-5-0.jpg  \n",
       "13464              0.0  photos/00000103-PHOTO-2025-2-16-17-52-0.jpg  \n",
       "14389            100.0   photos/00000104-PHOTO-2025-2-17-9-17-0.jpg  "
      ]
     },
     "execution_count": 8,
     "metadata": {},
     "output_type": "execute_result"
    }
   ],
   "source": [
    "df_macro039_clean = df_macro039.dropna(subset=df_macro039.columns[6:])\n",
    "df_macro039_clean"
   ]
  },
  {
   "cell_type": "code",
   "execution_count": 9,
   "metadata": {},
   "outputs": [
    {
     "data": {
      "application/vnd.plotly.v1+json": {
       "config": {
        "plotlyServerURL": "https://plot.ly"
       },
       "data": [
        {
         "customdata": [
          [
           "lunch"
          ],
          [
           "lunch"
          ],
          [
           "lunch"
          ],
          [
           "lunch"
          ],
          [
           "lunch"
          ],
          [
           "lunch"
          ],
          [
           "lunch"
          ],
          [
           "lunch"
          ],
          [
           "lunch"
          ],
          [
           "lunch"
          ]
         ],
         "hovertemplate": "Meal Type=%{customdata[0]}<br>Dexcom GL=%{x}<br>Calories=%{y}<extra></extra>",
         "legendgroup": "lunch",
         "marker": {
          "color": "#636efa",
          "symbol": "circle"
         },
         "mode": "markers",
         "name": "lunch",
         "orientation": "v",
         "showlegend": true,
         "type": "scatter",
         "x": [
          170,
          235.2,
          218.6,
          266,
          275.6,
          187.8,
          214.6,
          203,
          312,
          152.4
         ],
         "xaxis": "x",
         "y": [
          1180,
          830,
          435,
          555,
          355,
          1110,
          575,
          585,
          445,
          725
         ],
         "yaxis": "y"
        },
        {
         "customdata": [
          [
           "snack"
          ],
          [
           "snack"
          ],
          [
           "snack"
          ],
          [
           "snack"
          ],
          [
           "snack"
          ],
          [
           "snack"
          ],
          [
           "snack"
          ]
         ],
         "hovertemplate": "Meal Type=%{customdata[0]}<br>Dexcom GL=%{x}<br>Calories=%{y}<extra></extra>",
         "legendgroup": "snack",
         "marker": {
          "color": "#EF553B",
          "symbol": "circle"
         },
         "mode": "markers",
         "name": "snack",
         "orientation": "v",
         "showlegend": true,
         "type": "scatter",
         "x": [
          174,
          151.2,
          165.8,
          175,
          138,
          224,
          183
         ],
         "xaxis": "x",
         "y": [
          215,
          93,
          239,
          62,
          387,
          279,
          295
         ],
         "yaxis": "y"
        },
        {
         "customdata": [
          [
           "dinner"
          ],
          [
           "dinner"
          ],
          [
           "dinner"
          ],
          [
           "dinner"
          ],
          [
           "dinner"
          ],
          [
           "dinner"
          ],
          [
           "dinner"
          ]
         ],
         "hovertemplate": "Meal Type=%{customdata[0]}<br>Dexcom GL=%{x}<br>Calories=%{y}<extra></extra>",
         "legendgroup": "dinner",
         "marker": {
          "color": "#00cc96",
          "symbol": "circle"
         },
         "mode": "markers",
         "name": "dinner",
         "orientation": "v",
         "showlegend": true,
         "type": "scatter",
         "x": [
          143,
          157.6,
          132,
          204,
          136,
          143.8,
          146
         ],
         "xaxis": "x",
         "y": [
          1331,
          190,
          428,
          0,
          498,
          0,
          0
         ],
         "yaxis": "y"
        },
        {
         "customdata": [
          [
           "breakfast"
          ],
          [
           "breakfast"
          ],
          [
           "breakfast"
          ],
          [
           "breakfast"
          ],
          [
           "breakfast"
          ],
          [
           "breakfast"
          ],
          [
           "breakfast"
          ],
          [
           "breakfast"
          ],
          [
           "breakfast"
          ],
          [
           "breakfast"
          ]
         ],
         "hovertemplate": "Meal Type=%{customdata[0]}<br>Dexcom GL=%{x}<br>Calories=%{y}<extra></extra>",
         "legendgroup": "breakfast",
         "marker": {
          "color": "#ab63fa",
          "symbol": "circle"
         },
         "mode": "markers",
         "name": "breakfast",
         "orientation": "v",
         "showlegend": true,
         "type": "scatter",
         "x": [
          176.8,
          196.2,
          168,
          178.8,
          183.8,
          200,
          186,
          180.8,
          208,
          null
         ],
         "xaxis": "x",
         "y": [
          448,
          608,
          712,
          902,
          268,
          448,
          608,
          712,
          268,
          902
         ],
         "yaxis": "y"
        }
       ],
       "layout": {
        "legend": {
         "title": {
          "text": "Meal Type"
         },
         "tracegroupgap": 0
        },
        "template": {
         "data": {
          "bar": [
           {
            "error_x": {
             "color": "#2a3f5f"
            },
            "error_y": {
             "color": "#2a3f5f"
            },
            "marker": {
             "line": {
              "color": "white",
              "width": 0.5
             },
             "pattern": {
              "fillmode": "overlay",
              "size": 10,
              "solidity": 0.2
             }
            },
            "type": "bar"
           }
          ],
          "barpolar": [
           {
            "marker": {
             "line": {
              "color": "white",
              "width": 0.5
             },
             "pattern": {
              "fillmode": "overlay",
              "size": 10,
              "solidity": 0.2
             }
            },
            "type": "barpolar"
           }
          ],
          "carpet": [
           {
            "aaxis": {
             "endlinecolor": "#2a3f5f",
             "gridcolor": "#C8D4E3",
             "linecolor": "#C8D4E3",
             "minorgridcolor": "#C8D4E3",
             "startlinecolor": "#2a3f5f"
            },
            "baxis": {
             "endlinecolor": "#2a3f5f",
             "gridcolor": "#C8D4E3",
             "linecolor": "#C8D4E3",
             "minorgridcolor": "#C8D4E3",
             "startlinecolor": "#2a3f5f"
            },
            "type": "carpet"
           }
          ],
          "choropleth": [
           {
            "colorbar": {
             "outlinewidth": 0,
             "ticks": ""
            },
            "type": "choropleth"
           }
          ],
          "contour": [
           {
            "colorbar": {
             "outlinewidth": 0,
             "ticks": ""
            },
            "colorscale": [
             [
              0,
              "#0d0887"
             ],
             [
              0.1111111111111111,
              "#46039f"
             ],
             [
              0.2222222222222222,
              "#7201a8"
             ],
             [
              0.3333333333333333,
              "#9c179e"
             ],
             [
              0.4444444444444444,
              "#bd3786"
             ],
             [
              0.5555555555555556,
              "#d8576b"
             ],
             [
              0.6666666666666666,
              "#ed7953"
             ],
             [
              0.7777777777777778,
              "#fb9f3a"
             ],
             [
              0.8888888888888888,
              "#fdca26"
             ],
             [
              1,
              "#f0f921"
             ]
            ],
            "type": "contour"
           }
          ],
          "contourcarpet": [
           {
            "colorbar": {
             "outlinewidth": 0,
             "ticks": ""
            },
            "type": "contourcarpet"
           }
          ],
          "heatmap": [
           {
            "colorbar": {
             "outlinewidth": 0,
             "ticks": ""
            },
            "colorscale": [
             [
              0,
              "#0d0887"
             ],
             [
              0.1111111111111111,
              "#46039f"
             ],
             [
              0.2222222222222222,
              "#7201a8"
             ],
             [
              0.3333333333333333,
              "#9c179e"
             ],
             [
              0.4444444444444444,
              "#bd3786"
             ],
             [
              0.5555555555555556,
              "#d8576b"
             ],
             [
              0.6666666666666666,
              "#ed7953"
             ],
             [
              0.7777777777777778,
              "#fb9f3a"
             ],
             [
              0.8888888888888888,
              "#fdca26"
             ],
             [
              1,
              "#f0f921"
             ]
            ],
            "type": "heatmap"
           }
          ],
          "heatmapgl": [
           {
            "colorbar": {
             "outlinewidth": 0,
             "ticks": ""
            },
            "colorscale": [
             [
              0,
              "#0d0887"
             ],
             [
              0.1111111111111111,
              "#46039f"
             ],
             [
              0.2222222222222222,
              "#7201a8"
             ],
             [
              0.3333333333333333,
              "#9c179e"
             ],
             [
              0.4444444444444444,
              "#bd3786"
             ],
             [
              0.5555555555555556,
              "#d8576b"
             ],
             [
              0.6666666666666666,
              "#ed7953"
             ],
             [
              0.7777777777777778,
              "#fb9f3a"
             ],
             [
              0.8888888888888888,
              "#fdca26"
             ],
             [
              1,
              "#f0f921"
             ]
            ],
            "type": "heatmapgl"
           }
          ],
          "histogram": [
           {
            "marker": {
             "pattern": {
              "fillmode": "overlay",
              "size": 10,
              "solidity": 0.2
             }
            },
            "type": "histogram"
           }
          ],
          "histogram2d": [
           {
            "colorbar": {
             "outlinewidth": 0,
             "ticks": ""
            },
            "colorscale": [
             [
              0,
              "#0d0887"
             ],
             [
              0.1111111111111111,
              "#46039f"
             ],
             [
              0.2222222222222222,
              "#7201a8"
             ],
             [
              0.3333333333333333,
              "#9c179e"
             ],
             [
              0.4444444444444444,
              "#bd3786"
             ],
             [
              0.5555555555555556,
              "#d8576b"
             ],
             [
              0.6666666666666666,
              "#ed7953"
             ],
             [
              0.7777777777777778,
              "#fb9f3a"
             ],
             [
              0.8888888888888888,
              "#fdca26"
             ],
             [
              1,
              "#f0f921"
             ]
            ],
            "type": "histogram2d"
           }
          ],
          "histogram2dcontour": [
           {
            "colorbar": {
             "outlinewidth": 0,
             "ticks": ""
            },
            "colorscale": [
             [
              0,
              "#0d0887"
             ],
             [
              0.1111111111111111,
              "#46039f"
             ],
             [
              0.2222222222222222,
              "#7201a8"
             ],
             [
              0.3333333333333333,
              "#9c179e"
             ],
             [
              0.4444444444444444,
              "#bd3786"
             ],
             [
              0.5555555555555556,
              "#d8576b"
             ],
             [
              0.6666666666666666,
              "#ed7953"
             ],
             [
              0.7777777777777778,
              "#fb9f3a"
             ],
             [
              0.8888888888888888,
              "#fdca26"
             ],
             [
              1,
              "#f0f921"
             ]
            ],
            "type": "histogram2dcontour"
           }
          ],
          "mesh3d": [
           {
            "colorbar": {
             "outlinewidth": 0,
             "ticks": ""
            },
            "type": "mesh3d"
           }
          ],
          "parcoords": [
           {
            "line": {
             "colorbar": {
              "outlinewidth": 0,
              "ticks": ""
             }
            },
            "type": "parcoords"
           }
          ],
          "pie": [
           {
            "automargin": true,
            "type": "pie"
           }
          ],
          "scatter": [
           {
            "fillpattern": {
             "fillmode": "overlay",
             "size": 10,
             "solidity": 0.2
            },
            "type": "scatter"
           }
          ],
          "scatter3d": [
           {
            "line": {
             "colorbar": {
              "outlinewidth": 0,
              "ticks": ""
             }
            },
            "marker": {
             "colorbar": {
              "outlinewidth": 0,
              "ticks": ""
             }
            },
            "type": "scatter3d"
           }
          ],
          "scattercarpet": [
           {
            "marker": {
             "colorbar": {
              "outlinewidth": 0,
              "ticks": ""
             }
            },
            "type": "scattercarpet"
           }
          ],
          "scattergeo": [
           {
            "marker": {
             "colorbar": {
              "outlinewidth": 0,
              "ticks": ""
             }
            },
            "type": "scattergeo"
           }
          ],
          "scattergl": [
           {
            "marker": {
             "colorbar": {
              "outlinewidth": 0,
              "ticks": ""
             }
            },
            "type": "scattergl"
           }
          ],
          "scattermapbox": [
           {
            "marker": {
             "colorbar": {
              "outlinewidth": 0,
              "ticks": ""
             }
            },
            "type": "scattermapbox"
           }
          ],
          "scatterpolar": [
           {
            "marker": {
             "colorbar": {
              "outlinewidth": 0,
              "ticks": ""
             }
            },
            "type": "scatterpolar"
           }
          ],
          "scatterpolargl": [
           {
            "marker": {
             "colorbar": {
              "outlinewidth": 0,
              "ticks": ""
             }
            },
            "type": "scatterpolargl"
           }
          ],
          "scatterternary": [
           {
            "marker": {
             "colorbar": {
              "outlinewidth": 0,
              "ticks": ""
             }
            },
            "type": "scatterternary"
           }
          ],
          "surface": [
           {
            "colorbar": {
             "outlinewidth": 0,
             "ticks": ""
            },
            "colorscale": [
             [
              0,
              "#0d0887"
             ],
             [
              0.1111111111111111,
              "#46039f"
             ],
             [
              0.2222222222222222,
              "#7201a8"
             ],
             [
              0.3333333333333333,
              "#9c179e"
             ],
             [
              0.4444444444444444,
              "#bd3786"
             ],
             [
              0.5555555555555556,
              "#d8576b"
             ],
             [
              0.6666666666666666,
              "#ed7953"
             ],
             [
              0.7777777777777778,
              "#fb9f3a"
             ],
             [
              0.8888888888888888,
              "#fdca26"
             ],
             [
              1,
              "#f0f921"
             ]
            ],
            "type": "surface"
           }
          ],
          "table": [
           {
            "cells": {
             "fill": {
              "color": "#EBF0F8"
             },
             "line": {
              "color": "white"
             }
            },
            "header": {
             "fill": {
              "color": "#C8D4E3"
             },
             "line": {
              "color": "white"
             }
            },
            "type": "table"
           }
          ]
         },
         "layout": {
          "annotationdefaults": {
           "arrowcolor": "#2a3f5f",
           "arrowhead": 0,
           "arrowwidth": 1
          },
          "autotypenumbers": "strict",
          "coloraxis": {
           "colorbar": {
            "outlinewidth": 0,
            "ticks": ""
           }
          },
          "colorscale": {
           "diverging": [
            [
             0,
             "#8e0152"
            ],
            [
             0.1,
             "#c51b7d"
            ],
            [
             0.2,
             "#de77ae"
            ],
            [
             0.3,
             "#f1b6da"
            ],
            [
             0.4,
             "#fde0ef"
            ],
            [
             0.5,
             "#f7f7f7"
            ],
            [
             0.6,
             "#e6f5d0"
            ],
            [
             0.7,
             "#b8e186"
            ],
            [
             0.8,
             "#7fbc41"
            ],
            [
             0.9,
             "#4d9221"
            ],
            [
             1,
             "#276419"
            ]
           ],
           "sequential": [
            [
             0,
             "#0d0887"
            ],
            [
             0.1111111111111111,
             "#46039f"
            ],
            [
             0.2222222222222222,
             "#7201a8"
            ],
            [
             0.3333333333333333,
             "#9c179e"
            ],
            [
             0.4444444444444444,
             "#bd3786"
            ],
            [
             0.5555555555555556,
             "#d8576b"
            ],
            [
             0.6666666666666666,
             "#ed7953"
            ],
            [
             0.7777777777777778,
             "#fb9f3a"
            ],
            [
             0.8888888888888888,
             "#fdca26"
            ],
            [
             1,
             "#f0f921"
            ]
           ],
           "sequentialminus": [
            [
             0,
             "#0d0887"
            ],
            [
             0.1111111111111111,
             "#46039f"
            ],
            [
             0.2222222222222222,
             "#7201a8"
            ],
            [
             0.3333333333333333,
             "#9c179e"
            ],
            [
             0.4444444444444444,
             "#bd3786"
            ],
            [
             0.5555555555555556,
             "#d8576b"
            ],
            [
             0.6666666666666666,
             "#ed7953"
            ],
            [
             0.7777777777777778,
             "#fb9f3a"
            ],
            [
             0.8888888888888888,
             "#fdca26"
            ],
            [
             1,
             "#f0f921"
            ]
           ]
          },
          "colorway": [
           "#636efa",
           "#EF553B",
           "#00cc96",
           "#ab63fa",
           "#FFA15A",
           "#19d3f3",
           "#FF6692",
           "#B6E880",
           "#FF97FF",
           "#FECB52"
          ],
          "font": {
           "color": "#2a3f5f"
          },
          "geo": {
           "bgcolor": "white",
           "lakecolor": "white",
           "landcolor": "white",
           "showlakes": true,
           "showland": true,
           "subunitcolor": "#C8D4E3"
          },
          "hoverlabel": {
           "align": "left"
          },
          "hovermode": "closest",
          "mapbox": {
           "style": "light"
          },
          "paper_bgcolor": "white",
          "plot_bgcolor": "white",
          "polar": {
           "angularaxis": {
            "gridcolor": "#EBF0F8",
            "linecolor": "#EBF0F8",
            "ticks": ""
           },
           "bgcolor": "white",
           "radialaxis": {
            "gridcolor": "#EBF0F8",
            "linecolor": "#EBF0F8",
            "ticks": ""
           }
          },
          "scene": {
           "xaxis": {
            "backgroundcolor": "white",
            "gridcolor": "#DFE8F3",
            "gridwidth": 2,
            "linecolor": "#EBF0F8",
            "showbackground": true,
            "ticks": "",
            "zerolinecolor": "#EBF0F8"
           },
           "yaxis": {
            "backgroundcolor": "white",
            "gridcolor": "#DFE8F3",
            "gridwidth": 2,
            "linecolor": "#EBF0F8",
            "showbackground": true,
            "ticks": "",
            "zerolinecolor": "#EBF0F8"
           },
           "zaxis": {
            "backgroundcolor": "white",
            "gridcolor": "#DFE8F3",
            "gridwidth": 2,
            "linecolor": "#EBF0F8",
            "showbackground": true,
            "ticks": "",
            "zerolinecolor": "#EBF0F8"
           }
          },
          "shapedefaults": {
           "line": {
            "color": "#2a3f5f"
           }
          },
          "ternary": {
           "aaxis": {
            "gridcolor": "#DFE8F3",
            "linecolor": "#A2B1C6",
            "ticks": ""
           },
           "baxis": {
            "gridcolor": "#DFE8F3",
            "linecolor": "#A2B1C6",
            "ticks": ""
           },
           "bgcolor": "white",
           "caxis": {
            "gridcolor": "#DFE8F3",
            "linecolor": "#A2B1C6",
            "ticks": ""
           }
          },
          "title": {
           "x": 0.05
          },
          "xaxis": {
           "automargin": true,
           "gridcolor": "#EBF0F8",
           "linecolor": "#EBF0F8",
           "ticks": "",
           "title": {
            "standoff": 15
           },
           "zerolinecolor": "#EBF0F8",
           "zerolinewidth": 2
          },
          "yaxis": {
           "automargin": true,
           "gridcolor": "#EBF0F8",
           "linecolor": "#EBF0F8",
           "ticks": "",
           "title": {
            "standoff": 15
           },
           "zerolinecolor": "#EBF0F8",
           "zerolinewidth": 2
          }
         }
        },
        "title": {
         "text": "Dexcom GL vs Calories by Meal Type"
        },
        "xaxis": {
         "anchor": "y",
         "domain": [
          0,
          1
         ],
         "title": {
          "text": "Dexcom GL"
         }
        },
        "yaxis": {
         "anchor": "x",
         "domain": [
          0,
          1
         ],
         "title": {
          "text": "Calories"
         }
        }
       }
      }
     },
     "metadata": {},
     "output_type": "display_data"
    }
   ],
   "source": [
    "# Create a scatter plot with Dexcom GL on the x-axis and Calories on the y-axis, colored by Meal Type\n",
    "fig = px.scatter(df_macro039_clean,\n",
    "                 x=\"Dexcom GL\",\n",
    "                 y=\"Calories\",\n",
    "                 color=\"Meal Type\",\n",
    "                 title=\"Dexcom GL vs Calories by Meal Type\",\n",
    "                 hover_data=[\"Meal Type\"],\n",
    "                 template=\"plotly_white\")\n",
    "fig.show()"
   ]
  },
  {
   "cell_type": "code",
   "execution_count": 10,
   "metadata": {},
   "outputs": [
    {
     "name": "stderr",
     "output_type": "stream",
     "text": [
      "C:\\Users\\micha\\AppData\\Local\\Temp\\ipykernel_17764\\198229857.py:2: SettingWithCopyWarning:\n",
      "\n",
      "\n",
      "A value is trying to be set on a copy of a slice from a DataFrame.\n",
      "Try using .loc[row_indexer,col_indexer] = value instead\n",
      "\n",
      "See the caveats in the documentation: https://pandas.pydata.org/pandas-docs/stable/user_guide/indexing.html#returning-a-view-versus-a-copy\n",
      "\n"
     ]
    }
   ],
   "source": [
    "# Ensure Timestamp is treated as a datetime object\n",
    "df_macro039_clean[\"Timestamp\"] = pd.to_datetime(df_macro039_clean[\"Timestamp\"])"
   ]
  },
  {
   "cell_type": "code",
   "execution_count": 15,
   "metadata": {},
   "outputs": [
    {
     "data": {
      "application/vnd.plotly.v1+json": {
       "config": {
        "plotlyServerURL": "https://plot.ly"
       },
       "data": [
        {
         "hovertemplate": "Timestamp=%{x}<br>Calories (Activity)=%{y}<extra></extra>",
         "legendgroup": "",
         "line": {
          "color": "#636efa",
          "dash": "solid"
         },
         "marker": {
          "symbol": "circle"
         },
         "mode": "lines",
         "name": "",
         "orientation": "v",
         "showlegend": false,
         "type": "scatter",
         "x": [
          "2025-02-07T11:19:00",
          "2025-02-07T14:32:00",
          "2025-02-07T17:54:00",
          "2025-02-08T08:57:00",
          "2025-02-08T12:07:00",
          "2025-02-08T15:21:00",
          "2025-02-08T16:12:00",
          "2025-02-09T08:06:00",
          "2025-02-09T12:18:00",
          "2025-02-09T15:29:00",
          "2025-02-09T16:50:00",
          "2025-02-10T08:54:00",
          "2025-02-10T11:54:00",
          "2025-02-10T15:05:00",
          "2025-02-10T18:04:00",
          "2025-02-11T08:30:00",
          "2025-02-11T11:38:00",
          "2025-02-11T16:44:00",
          "2025-02-12T09:11:00",
          "2025-02-12T12:21:00",
          "2025-02-12T15:36:00",
          "2025-02-13T08:04:00",
          "2025-02-13T11:45:00",
          "2025-02-13T15:01:00",
          "2025-02-14T06:51:00",
          "2025-02-14T11:39:00",
          "2025-02-14T15:29:00",
          "2025-02-15T08:28:00",
          "2025-02-15T11:25:00",
          "2025-02-15T18:22:00",
          "2025-02-16T07:13:00",
          "2025-02-16T12:05:00",
          "2025-02-16T17:52:00",
          "2025-02-17T09:17:00"
         ],
         "xaxis": "x",
         "y": [
          0.97074997425079,
          2.29450011253357,
          2.82399988174438,
          2.82399988174438,
          2.29450011253357,
          1.14725005626678,
          3.00049996376038,
          2.82399988174438,
          1.14725005626678,
          1.14725005626678,
          1.14725005626678,
          3.17700004577637,
          2.47099995613098,
          1.14725005626678,
          1.14725005626678,
          2.47099995613098,
          0.97074997425079,
          1.14725005626678,
          1.05900001525879,
          2.47099995613098,
          0.97074997425079,
          2.47099995613098,
          2.11800003051758,
          1.14725005626678,
          2.47099995613098,
          0.97074997425079,
          0.88249999284744,
          1.05900001525879,
          0.97074997425079,
          2.11800003051758,
          1.05900001525879,
          2.11800003051758,
          2.82399988174438,
          1.05900001525879
         ],
         "yaxis": "y"
        }
       ],
       "layout": {
        "legend": {
         "tracegroupgap": 0
        },
        "template": {
         "data": {
          "bar": [
           {
            "error_x": {
             "color": "#2a3f5f"
            },
            "error_y": {
             "color": "#2a3f5f"
            },
            "marker": {
             "line": {
              "color": "white",
              "width": 0.5
             },
             "pattern": {
              "fillmode": "overlay",
              "size": 10,
              "solidity": 0.2
             }
            },
            "type": "bar"
           }
          ],
          "barpolar": [
           {
            "marker": {
             "line": {
              "color": "white",
              "width": 0.5
             },
             "pattern": {
              "fillmode": "overlay",
              "size": 10,
              "solidity": 0.2
             }
            },
            "type": "barpolar"
           }
          ],
          "carpet": [
           {
            "aaxis": {
             "endlinecolor": "#2a3f5f",
             "gridcolor": "#C8D4E3",
             "linecolor": "#C8D4E3",
             "minorgridcolor": "#C8D4E3",
             "startlinecolor": "#2a3f5f"
            },
            "baxis": {
             "endlinecolor": "#2a3f5f",
             "gridcolor": "#C8D4E3",
             "linecolor": "#C8D4E3",
             "minorgridcolor": "#C8D4E3",
             "startlinecolor": "#2a3f5f"
            },
            "type": "carpet"
           }
          ],
          "choropleth": [
           {
            "colorbar": {
             "outlinewidth": 0,
             "ticks": ""
            },
            "type": "choropleth"
           }
          ],
          "contour": [
           {
            "colorbar": {
             "outlinewidth": 0,
             "ticks": ""
            },
            "colorscale": [
             [
              0,
              "#0d0887"
             ],
             [
              0.1111111111111111,
              "#46039f"
             ],
             [
              0.2222222222222222,
              "#7201a8"
             ],
             [
              0.3333333333333333,
              "#9c179e"
             ],
             [
              0.4444444444444444,
              "#bd3786"
             ],
             [
              0.5555555555555556,
              "#d8576b"
             ],
             [
              0.6666666666666666,
              "#ed7953"
             ],
             [
              0.7777777777777778,
              "#fb9f3a"
             ],
             [
              0.8888888888888888,
              "#fdca26"
             ],
             [
              1,
              "#f0f921"
             ]
            ],
            "type": "contour"
           }
          ],
          "contourcarpet": [
           {
            "colorbar": {
             "outlinewidth": 0,
             "ticks": ""
            },
            "type": "contourcarpet"
           }
          ],
          "heatmap": [
           {
            "colorbar": {
             "outlinewidth": 0,
             "ticks": ""
            },
            "colorscale": [
             [
              0,
              "#0d0887"
             ],
             [
              0.1111111111111111,
              "#46039f"
             ],
             [
              0.2222222222222222,
              "#7201a8"
             ],
             [
              0.3333333333333333,
              "#9c179e"
             ],
             [
              0.4444444444444444,
              "#bd3786"
             ],
             [
              0.5555555555555556,
              "#d8576b"
             ],
             [
              0.6666666666666666,
              "#ed7953"
             ],
             [
              0.7777777777777778,
              "#fb9f3a"
             ],
             [
              0.8888888888888888,
              "#fdca26"
             ],
             [
              1,
              "#f0f921"
             ]
            ],
            "type": "heatmap"
           }
          ],
          "heatmapgl": [
           {
            "colorbar": {
             "outlinewidth": 0,
             "ticks": ""
            },
            "colorscale": [
             [
              0,
              "#0d0887"
             ],
             [
              0.1111111111111111,
              "#46039f"
             ],
             [
              0.2222222222222222,
              "#7201a8"
             ],
             [
              0.3333333333333333,
              "#9c179e"
             ],
             [
              0.4444444444444444,
              "#bd3786"
             ],
             [
              0.5555555555555556,
              "#d8576b"
             ],
             [
              0.6666666666666666,
              "#ed7953"
             ],
             [
              0.7777777777777778,
              "#fb9f3a"
             ],
             [
              0.8888888888888888,
              "#fdca26"
             ],
             [
              1,
              "#f0f921"
             ]
            ],
            "type": "heatmapgl"
           }
          ],
          "histogram": [
           {
            "marker": {
             "pattern": {
              "fillmode": "overlay",
              "size": 10,
              "solidity": 0.2
             }
            },
            "type": "histogram"
           }
          ],
          "histogram2d": [
           {
            "colorbar": {
             "outlinewidth": 0,
             "ticks": ""
            },
            "colorscale": [
             [
              0,
              "#0d0887"
             ],
             [
              0.1111111111111111,
              "#46039f"
             ],
             [
              0.2222222222222222,
              "#7201a8"
             ],
             [
              0.3333333333333333,
              "#9c179e"
             ],
             [
              0.4444444444444444,
              "#bd3786"
             ],
             [
              0.5555555555555556,
              "#d8576b"
             ],
             [
              0.6666666666666666,
              "#ed7953"
             ],
             [
              0.7777777777777778,
              "#fb9f3a"
             ],
             [
              0.8888888888888888,
              "#fdca26"
             ],
             [
              1,
              "#f0f921"
             ]
            ],
            "type": "histogram2d"
           }
          ],
          "histogram2dcontour": [
           {
            "colorbar": {
             "outlinewidth": 0,
             "ticks": ""
            },
            "colorscale": [
             [
              0,
              "#0d0887"
             ],
             [
              0.1111111111111111,
              "#46039f"
             ],
             [
              0.2222222222222222,
              "#7201a8"
             ],
             [
              0.3333333333333333,
              "#9c179e"
             ],
             [
              0.4444444444444444,
              "#bd3786"
             ],
             [
              0.5555555555555556,
              "#d8576b"
             ],
             [
              0.6666666666666666,
              "#ed7953"
             ],
             [
              0.7777777777777778,
              "#fb9f3a"
             ],
             [
              0.8888888888888888,
              "#fdca26"
             ],
             [
              1,
              "#f0f921"
             ]
            ],
            "type": "histogram2dcontour"
           }
          ],
          "mesh3d": [
           {
            "colorbar": {
             "outlinewidth": 0,
             "ticks": ""
            },
            "type": "mesh3d"
           }
          ],
          "parcoords": [
           {
            "line": {
             "colorbar": {
              "outlinewidth": 0,
              "ticks": ""
             }
            },
            "type": "parcoords"
           }
          ],
          "pie": [
           {
            "automargin": true,
            "type": "pie"
           }
          ],
          "scatter": [
           {
            "fillpattern": {
             "fillmode": "overlay",
             "size": 10,
             "solidity": 0.2
            },
            "type": "scatter"
           }
          ],
          "scatter3d": [
           {
            "line": {
             "colorbar": {
              "outlinewidth": 0,
              "ticks": ""
             }
            },
            "marker": {
             "colorbar": {
              "outlinewidth": 0,
              "ticks": ""
             }
            },
            "type": "scatter3d"
           }
          ],
          "scattercarpet": [
           {
            "marker": {
             "colorbar": {
              "outlinewidth": 0,
              "ticks": ""
             }
            },
            "type": "scattercarpet"
           }
          ],
          "scattergeo": [
           {
            "marker": {
             "colorbar": {
              "outlinewidth": 0,
              "ticks": ""
             }
            },
            "type": "scattergeo"
           }
          ],
          "scattergl": [
           {
            "marker": {
             "colorbar": {
              "outlinewidth": 0,
              "ticks": ""
             }
            },
            "type": "scattergl"
           }
          ],
          "scattermapbox": [
           {
            "marker": {
             "colorbar": {
              "outlinewidth": 0,
              "ticks": ""
             }
            },
            "type": "scattermapbox"
           }
          ],
          "scatterpolar": [
           {
            "marker": {
             "colorbar": {
              "outlinewidth": 0,
              "ticks": ""
             }
            },
            "type": "scatterpolar"
           }
          ],
          "scatterpolargl": [
           {
            "marker": {
             "colorbar": {
              "outlinewidth": 0,
              "ticks": ""
             }
            },
            "type": "scatterpolargl"
           }
          ],
          "scatterternary": [
           {
            "marker": {
             "colorbar": {
              "outlinewidth": 0,
              "ticks": ""
             }
            },
            "type": "scatterternary"
           }
          ],
          "surface": [
           {
            "colorbar": {
             "outlinewidth": 0,
             "ticks": ""
            },
            "colorscale": [
             [
              0,
              "#0d0887"
             ],
             [
              0.1111111111111111,
              "#46039f"
             ],
             [
              0.2222222222222222,
              "#7201a8"
             ],
             [
              0.3333333333333333,
              "#9c179e"
             ],
             [
              0.4444444444444444,
              "#bd3786"
             ],
             [
              0.5555555555555556,
              "#d8576b"
             ],
             [
              0.6666666666666666,
              "#ed7953"
             ],
             [
              0.7777777777777778,
              "#fb9f3a"
             ],
             [
              0.8888888888888888,
              "#fdca26"
             ],
             [
              1,
              "#f0f921"
             ]
            ],
            "type": "surface"
           }
          ],
          "table": [
           {
            "cells": {
             "fill": {
              "color": "#EBF0F8"
             },
             "line": {
              "color": "white"
             }
            },
            "header": {
             "fill": {
              "color": "#C8D4E3"
             },
             "line": {
              "color": "white"
             }
            },
            "type": "table"
           }
          ]
         },
         "layout": {
          "annotationdefaults": {
           "arrowcolor": "#2a3f5f",
           "arrowhead": 0,
           "arrowwidth": 1
          },
          "autotypenumbers": "strict",
          "coloraxis": {
           "colorbar": {
            "outlinewidth": 0,
            "ticks": ""
           }
          },
          "colorscale": {
           "diverging": [
            [
             0,
             "#8e0152"
            ],
            [
             0.1,
             "#c51b7d"
            ],
            [
             0.2,
             "#de77ae"
            ],
            [
             0.3,
             "#f1b6da"
            ],
            [
             0.4,
             "#fde0ef"
            ],
            [
             0.5,
             "#f7f7f7"
            ],
            [
             0.6,
             "#e6f5d0"
            ],
            [
             0.7,
             "#b8e186"
            ],
            [
             0.8,
             "#7fbc41"
            ],
            [
             0.9,
             "#4d9221"
            ],
            [
             1,
             "#276419"
            ]
           ],
           "sequential": [
            [
             0,
             "#0d0887"
            ],
            [
             0.1111111111111111,
             "#46039f"
            ],
            [
             0.2222222222222222,
             "#7201a8"
            ],
            [
             0.3333333333333333,
             "#9c179e"
            ],
            [
             0.4444444444444444,
             "#bd3786"
            ],
            [
             0.5555555555555556,
             "#d8576b"
            ],
            [
             0.6666666666666666,
             "#ed7953"
            ],
            [
             0.7777777777777778,
             "#fb9f3a"
            ],
            [
             0.8888888888888888,
             "#fdca26"
            ],
            [
             1,
             "#f0f921"
            ]
           ],
           "sequentialminus": [
            [
             0,
             "#0d0887"
            ],
            [
             0.1111111111111111,
             "#46039f"
            ],
            [
             0.2222222222222222,
             "#7201a8"
            ],
            [
             0.3333333333333333,
             "#9c179e"
            ],
            [
             0.4444444444444444,
             "#bd3786"
            ],
            [
             0.5555555555555556,
             "#d8576b"
            ],
            [
             0.6666666666666666,
             "#ed7953"
            ],
            [
             0.7777777777777778,
             "#fb9f3a"
            ],
            [
             0.8888888888888888,
             "#fdca26"
            ],
            [
             1,
             "#f0f921"
            ]
           ]
          },
          "colorway": [
           "#636efa",
           "#EF553B",
           "#00cc96",
           "#ab63fa",
           "#FFA15A",
           "#19d3f3",
           "#FF6692",
           "#B6E880",
           "#FF97FF",
           "#FECB52"
          ],
          "font": {
           "color": "#2a3f5f"
          },
          "geo": {
           "bgcolor": "white",
           "lakecolor": "white",
           "landcolor": "white",
           "showlakes": true,
           "showland": true,
           "subunitcolor": "#C8D4E3"
          },
          "hoverlabel": {
           "align": "left"
          },
          "hovermode": "closest",
          "mapbox": {
           "style": "light"
          },
          "paper_bgcolor": "white",
          "plot_bgcolor": "white",
          "polar": {
           "angularaxis": {
            "gridcolor": "#EBF0F8",
            "linecolor": "#EBF0F8",
            "ticks": ""
           },
           "bgcolor": "white",
           "radialaxis": {
            "gridcolor": "#EBF0F8",
            "linecolor": "#EBF0F8",
            "ticks": ""
           }
          },
          "scene": {
           "xaxis": {
            "backgroundcolor": "white",
            "gridcolor": "#DFE8F3",
            "gridwidth": 2,
            "linecolor": "#EBF0F8",
            "showbackground": true,
            "ticks": "",
            "zerolinecolor": "#EBF0F8"
           },
           "yaxis": {
            "backgroundcolor": "white",
            "gridcolor": "#DFE8F3",
            "gridwidth": 2,
            "linecolor": "#EBF0F8",
            "showbackground": true,
            "ticks": "",
            "zerolinecolor": "#EBF0F8"
           },
           "zaxis": {
            "backgroundcolor": "white",
            "gridcolor": "#DFE8F3",
            "gridwidth": 2,
            "linecolor": "#EBF0F8",
            "showbackground": true,
            "ticks": "",
            "zerolinecolor": "#EBF0F8"
           }
          },
          "shapedefaults": {
           "line": {
            "color": "#2a3f5f"
           }
          },
          "ternary": {
           "aaxis": {
            "gridcolor": "#DFE8F3",
            "linecolor": "#A2B1C6",
            "ticks": ""
           },
           "baxis": {
            "gridcolor": "#DFE8F3",
            "linecolor": "#A2B1C6",
            "ticks": ""
           },
           "bgcolor": "white",
           "caxis": {
            "gridcolor": "#DFE8F3",
            "linecolor": "#A2B1C6",
            "ticks": ""
           }
          },
          "title": {
           "x": 0.05
          },
          "xaxis": {
           "automargin": true,
           "gridcolor": "#EBF0F8",
           "linecolor": "#EBF0F8",
           "ticks": "",
           "title": {
            "standoff": 15
           },
           "zerolinecolor": "#EBF0F8",
           "zerolinewidth": 2
          },
          "yaxis": {
           "automargin": true,
           "gridcolor": "#EBF0F8",
           "linecolor": "#EBF0F8",
           "ticks": "",
           "title": {
            "standoff": 15
           },
           "zerolinecolor": "#EBF0F8",
           "zerolinewidth": 2
          }
         }
        },
        "title": {
         "text": "Participant 39's Calorie Activity During Meal Times"
        },
        "xaxis": {
         "anchor": "y",
         "domain": [
          0,
          1
         ],
         "title": {
          "text": "Timestamp (date)"
         }
        },
        "yaxis": {
         "anchor": "x",
         "domain": [
          0,
          1
         ],
         "range": [
          0,
          3.17700004577637
         ],
         "title": {
          "text": "Calories (Activity)"
         }
        }
       }
      }
     },
     "metadata": {},
     "output_type": "display_data"
    }
   ],
   "source": [
    "# Create a line plot with Timestamp on x-axis and Calories (Activity) on y-axis\n",
    "fig = px.line(df_macro039_clean,\n",
    "              x=\"Timestamp\",\n",
    "              y=\"Calories (Activity)\",\n",
    "              title=\"Participant 39's Calorie Activity During Meal Times\",\n",
    "              template=\"plotly_white\")\n",
    "\n",
    "# Update the axis labels (titles)\n",
    "fig.update_layout(\n",
    "    xaxis_title=\"Timestamp (date)\",\n",
    "    yaxis_title=\"Calories (Activity)\"\n",
    ")\n",
    "\n",
    "fig.update_yaxes(range=[0, df_macro039_clean[\"Calories (Activity)\"].max()])\n",
    "\n",
    "fig.show()"
   ]
  },
  {
   "cell_type": "code",
   "execution_count": 20,
   "metadata": {},
   "outputs": [
    {
     "data": {
      "application/vnd.plotly.v1+json": {
       "config": {
        "plotlyServerURL": "https://plot.ly"
       },
       "data": [
        {
         "alignmentgroup": "True",
         "hovertemplate": "Meal Type=%{x}<br>Mean Calories=%{y}<extra></extra>",
         "legendgroup": "breakfast",
         "marker": {
          "color": "#636efa",
          "pattern": {
           "shape": ""
          }
         },
         "name": "breakfast",
         "offsetgroup": "breakfast",
         "orientation": "v",
         "showlegend": true,
         "textposition": "auto",
         "type": "bar",
         "x": [
          "breakfast"
         ],
         "xaxis": "x",
         "y": [
          587.6
         ],
         "yaxis": "y"
        },
        {
         "alignmentgroup": "True",
         "hovertemplate": "Meal Type=%{x}<br>Mean Calories=%{y}<extra></extra>",
         "legendgroup": "dinner",
         "marker": {
          "color": "#EF553B",
          "pattern": {
           "shape": ""
          }
         },
         "name": "dinner",
         "offsetgroup": "dinner",
         "orientation": "v",
         "showlegend": true,
         "textposition": "auto",
         "type": "bar",
         "x": [
          "dinner"
         ],
         "xaxis": "x",
         "y": [
          349.57142857142856
         ],
         "yaxis": "y"
        },
        {
         "alignmentgroup": "True",
         "hovertemplate": "Meal Type=%{x}<br>Mean Calories=%{y}<extra></extra>",
         "legendgroup": "lunch",
         "marker": {
          "color": "#00cc96",
          "pattern": {
           "shape": ""
          }
         },
         "name": "lunch",
         "offsetgroup": "lunch",
         "orientation": "v",
         "showlegend": true,
         "textposition": "auto",
         "type": "bar",
         "x": [
          "lunch"
         ],
         "xaxis": "x",
         "y": [
          679.5
         ],
         "yaxis": "y"
        },
        {
         "alignmentgroup": "True",
         "hovertemplate": "Meal Type=%{x}<br>Mean Calories=%{y}<extra></extra>",
         "legendgroup": "snack",
         "marker": {
          "color": "#ab63fa",
          "pattern": {
           "shape": ""
          }
         },
         "name": "snack",
         "offsetgroup": "snack",
         "orientation": "v",
         "showlegend": true,
         "textposition": "auto",
         "type": "bar",
         "x": [
          "snack"
         ],
         "xaxis": "x",
         "y": [
          224.28571428571428
         ],
         "yaxis": "y"
        }
       ],
       "layout": {
        "barmode": "relative",
        "legend": {
         "title": {
          "text": "Meal Type"
         },
         "tracegroupgap": 0
        },
        "template": {
         "data": {
          "bar": [
           {
            "error_x": {
             "color": "#2a3f5f"
            },
            "error_y": {
             "color": "#2a3f5f"
            },
            "marker": {
             "line": {
              "color": "#E5ECF6",
              "width": 0.5
             },
             "pattern": {
              "fillmode": "overlay",
              "size": 10,
              "solidity": 0.2
             }
            },
            "type": "bar"
           }
          ],
          "barpolar": [
           {
            "marker": {
             "line": {
              "color": "#E5ECF6",
              "width": 0.5
             },
             "pattern": {
              "fillmode": "overlay",
              "size": 10,
              "solidity": 0.2
             }
            },
            "type": "barpolar"
           }
          ],
          "carpet": [
           {
            "aaxis": {
             "endlinecolor": "#2a3f5f",
             "gridcolor": "white",
             "linecolor": "white",
             "minorgridcolor": "white",
             "startlinecolor": "#2a3f5f"
            },
            "baxis": {
             "endlinecolor": "#2a3f5f",
             "gridcolor": "white",
             "linecolor": "white",
             "minorgridcolor": "white",
             "startlinecolor": "#2a3f5f"
            },
            "type": "carpet"
           }
          ],
          "choropleth": [
           {
            "colorbar": {
             "outlinewidth": 0,
             "ticks": ""
            },
            "type": "choropleth"
           }
          ],
          "contour": [
           {
            "colorbar": {
             "outlinewidth": 0,
             "ticks": ""
            },
            "colorscale": [
             [
              0,
              "#0d0887"
             ],
             [
              0.1111111111111111,
              "#46039f"
             ],
             [
              0.2222222222222222,
              "#7201a8"
             ],
             [
              0.3333333333333333,
              "#9c179e"
             ],
             [
              0.4444444444444444,
              "#bd3786"
             ],
             [
              0.5555555555555556,
              "#d8576b"
             ],
             [
              0.6666666666666666,
              "#ed7953"
             ],
             [
              0.7777777777777778,
              "#fb9f3a"
             ],
             [
              0.8888888888888888,
              "#fdca26"
             ],
             [
              1,
              "#f0f921"
             ]
            ],
            "type": "contour"
           }
          ],
          "contourcarpet": [
           {
            "colorbar": {
             "outlinewidth": 0,
             "ticks": ""
            },
            "type": "contourcarpet"
           }
          ],
          "heatmap": [
           {
            "colorbar": {
             "outlinewidth": 0,
             "ticks": ""
            },
            "colorscale": [
             [
              0,
              "#0d0887"
             ],
             [
              0.1111111111111111,
              "#46039f"
             ],
             [
              0.2222222222222222,
              "#7201a8"
             ],
             [
              0.3333333333333333,
              "#9c179e"
             ],
             [
              0.4444444444444444,
              "#bd3786"
             ],
             [
              0.5555555555555556,
              "#d8576b"
             ],
             [
              0.6666666666666666,
              "#ed7953"
             ],
             [
              0.7777777777777778,
              "#fb9f3a"
             ],
             [
              0.8888888888888888,
              "#fdca26"
             ],
             [
              1,
              "#f0f921"
             ]
            ],
            "type": "heatmap"
           }
          ],
          "heatmapgl": [
           {
            "colorbar": {
             "outlinewidth": 0,
             "ticks": ""
            },
            "colorscale": [
             [
              0,
              "#0d0887"
             ],
             [
              0.1111111111111111,
              "#46039f"
             ],
             [
              0.2222222222222222,
              "#7201a8"
             ],
             [
              0.3333333333333333,
              "#9c179e"
             ],
             [
              0.4444444444444444,
              "#bd3786"
             ],
             [
              0.5555555555555556,
              "#d8576b"
             ],
             [
              0.6666666666666666,
              "#ed7953"
             ],
             [
              0.7777777777777778,
              "#fb9f3a"
             ],
             [
              0.8888888888888888,
              "#fdca26"
             ],
             [
              1,
              "#f0f921"
             ]
            ],
            "type": "heatmapgl"
           }
          ],
          "histogram": [
           {
            "marker": {
             "pattern": {
              "fillmode": "overlay",
              "size": 10,
              "solidity": 0.2
             }
            },
            "type": "histogram"
           }
          ],
          "histogram2d": [
           {
            "colorbar": {
             "outlinewidth": 0,
             "ticks": ""
            },
            "colorscale": [
             [
              0,
              "#0d0887"
             ],
             [
              0.1111111111111111,
              "#46039f"
             ],
             [
              0.2222222222222222,
              "#7201a8"
             ],
             [
              0.3333333333333333,
              "#9c179e"
             ],
             [
              0.4444444444444444,
              "#bd3786"
             ],
             [
              0.5555555555555556,
              "#d8576b"
             ],
             [
              0.6666666666666666,
              "#ed7953"
             ],
             [
              0.7777777777777778,
              "#fb9f3a"
             ],
             [
              0.8888888888888888,
              "#fdca26"
             ],
             [
              1,
              "#f0f921"
             ]
            ],
            "type": "histogram2d"
           }
          ],
          "histogram2dcontour": [
           {
            "colorbar": {
             "outlinewidth": 0,
             "ticks": ""
            },
            "colorscale": [
             [
              0,
              "#0d0887"
             ],
             [
              0.1111111111111111,
              "#46039f"
             ],
             [
              0.2222222222222222,
              "#7201a8"
             ],
             [
              0.3333333333333333,
              "#9c179e"
             ],
             [
              0.4444444444444444,
              "#bd3786"
             ],
             [
              0.5555555555555556,
              "#d8576b"
             ],
             [
              0.6666666666666666,
              "#ed7953"
             ],
             [
              0.7777777777777778,
              "#fb9f3a"
             ],
             [
              0.8888888888888888,
              "#fdca26"
             ],
             [
              1,
              "#f0f921"
             ]
            ],
            "type": "histogram2dcontour"
           }
          ],
          "mesh3d": [
           {
            "colorbar": {
             "outlinewidth": 0,
             "ticks": ""
            },
            "type": "mesh3d"
           }
          ],
          "parcoords": [
           {
            "line": {
             "colorbar": {
              "outlinewidth": 0,
              "ticks": ""
             }
            },
            "type": "parcoords"
           }
          ],
          "pie": [
           {
            "automargin": true,
            "type": "pie"
           }
          ],
          "scatter": [
           {
            "fillpattern": {
             "fillmode": "overlay",
             "size": 10,
             "solidity": 0.2
            },
            "type": "scatter"
           }
          ],
          "scatter3d": [
           {
            "line": {
             "colorbar": {
              "outlinewidth": 0,
              "ticks": ""
             }
            },
            "marker": {
             "colorbar": {
              "outlinewidth": 0,
              "ticks": ""
             }
            },
            "type": "scatter3d"
           }
          ],
          "scattercarpet": [
           {
            "marker": {
             "colorbar": {
              "outlinewidth": 0,
              "ticks": ""
             }
            },
            "type": "scattercarpet"
           }
          ],
          "scattergeo": [
           {
            "marker": {
             "colorbar": {
              "outlinewidth": 0,
              "ticks": ""
             }
            },
            "type": "scattergeo"
           }
          ],
          "scattergl": [
           {
            "marker": {
             "colorbar": {
              "outlinewidth": 0,
              "ticks": ""
             }
            },
            "type": "scattergl"
           }
          ],
          "scattermapbox": [
           {
            "marker": {
             "colorbar": {
              "outlinewidth": 0,
              "ticks": ""
             }
            },
            "type": "scattermapbox"
           }
          ],
          "scatterpolar": [
           {
            "marker": {
             "colorbar": {
              "outlinewidth": 0,
              "ticks": ""
             }
            },
            "type": "scatterpolar"
           }
          ],
          "scatterpolargl": [
           {
            "marker": {
             "colorbar": {
              "outlinewidth": 0,
              "ticks": ""
             }
            },
            "type": "scatterpolargl"
           }
          ],
          "scatterternary": [
           {
            "marker": {
             "colorbar": {
              "outlinewidth": 0,
              "ticks": ""
             }
            },
            "type": "scatterternary"
           }
          ],
          "surface": [
           {
            "colorbar": {
             "outlinewidth": 0,
             "ticks": ""
            },
            "colorscale": [
             [
              0,
              "#0d0887"
             ],
             [
              0.1111111111111111,
              "#46039f"
             ],
             [
              0.2222222222222222,
              "#7201a8"
             ],
             [
              0.3333333333333333,
              "#9c179e"
             ],
             [
              0.4444444444444444,
              "#bd3786"
             ],
             [
              0.5555555555555556,
              "#d8576b"
             ],
             [
              0.6666666666666666,
              "#ed7953"
             ],
             [
              0.7777777777777778,
              "#fb9f3a"
             ],
             [
              0.8888888888888888,
              "#fdca26"
             ],
             [
              1,
              "#f0f921"
             ]
            ],
            "type": "surface"
           }
          ],
          "table": [
           {
            "cells": {
             "fill": {
              "color": "#EBF0F8"
             },
             "line": {
              "color": "white"
             }
            },
            "header": {
             "fill": {
              "color": "#C8D4E3"
             },
             "line": {
              "color": "white"
             }
            },
            "type": "table"
           }
          ]
         },
         "layout": {
          "annotationdefaults": {
           "arrowcolor": "#2a3f5f",
           "arrowhead": 0,
           "arrowwidth": 1
          },
          "autotypenumbers": "strict",
          "coloraxis": {
           "colorbar": {
            "outlinewidth": 0,
            "ticks": ""
           }
          },
          "colorscale": {
           "diverging": [
            [
             0,
             "#8e0152"
            ],
            [
             0.1,
             "#c51b7d"
            ],
            [
             0.2,
             "#de77ae"
            ],
            [
             0.3,
             "#f1b6da"
            ],
            [
             0.4,
             "#fde0ef"
            ],
            [
             0.5,
             "#f7f7f7"
            ],
            [
             0.6,
             "#e6f5d0"
            ],
            [
             0.7,
             "#b8e186"
            ],
            [
             0.8,
             "#7fbc41"
            ],
            [
             0.9,
             "#4d9221"
            ],
            [
             1,
             "#276419"
            ]
           ],
           "sequential": [
            [
             0,
             "#0d0887"
            ],
            [
             0.1111111111111111,
             "#46039f"
            ],
            [
             0.2222222222222222,
             "#7201a8"
            ],
            [
             0.3333333333333333,
             "#9c179e"
            ],
            [
             0.4444444444444444,
             "#bd3786"
            ],
            [
             0.5555555555555556,
             "#d8576b"
            ],
            [
             0.6666666666666666,
             "#ed7953"
            ],
            [
             0.7777777777777778,
             "#fb9f3a"
            ],
            [
             0.8888888888888888,
             "#fdca26"
            ],
            [
             1,
             "#f0f921"
            ]
           ],
           "sequentialminus": [
            [
             0,
             "#0d0887"
            ],
            [
             0.1111111111111111,
             "#46039f"
            ],
            [
             0.2222222222222222,
             "#7201a8"
            ],
            [
             0.3333333333333333,
             "#9c179e"
            ],
            [
             0.4444444444444444,
             "#bd3786"
            ],
            [
             0.5555555555555556,
             "#d8576b"
            ],
            [
             0.6666666666666666,
             "#ed7953"
            ],
            [
             0.7777777777777778,
             "#fb9f3a"
            ],
            [
             0.8888888888888888,
             "#fdca26"
            ],
            [
             1,
             "#f0f921"
            ]
           ]
          },
          "colorway": [
           "#636efa",
           "#EF553B",
           "#00cc96",
           "#ab63fa",
           "#FFA15A",
           "#19d3f3",
           "#FF6692",
           "#B6E880",
           "#FF97FF",
           "#FECB52"
          ],
          "font": {
           "color": "#2a3f5f"
          },
          "geo": {
           "bgcolor": "white",
           "lakecolor": "white",
           "landcolor": "#E5ECF6",
           "showlakes": true,
           "showland": true,
           "subunitcolor": "white"
          },
          "hoverlabel": {
           "align": "left"
          },
          "hovermode": "closest",
          "mapbox": {
           "style": "light"
          },
          "paper_bgcolor": "white",
          "plot_bgcolor": "#E5ECF6",
          "polar": {
           "angularaxis": {
            "gridcolor": "white",
            "linecolor": "white",
            "ticks": ""
           },
           "bgcolor": "#E5ECF6",
           "radialaxis": {
            "gridcolor": "white",
            "linecolor": "white",
            "ticks": ""
           }
          },
          "scene": {
           "xaxis": {
            "backgroundcolor": "#E5ECF6",
            "gridcolor": "white",
            "gridwidth": 2,
            "linecolor": "white",
            "showbackground": true,
            "ticks": "",
            "zerolinecolor": "white"
           },
           "yaxis": {
            "backgroundcolor": "#E5ECF6",
            "gridcolor": "white",
            "gridwidth": 2,
            "linecolor": "white",
            "showbackground": true,
            "ticks": "",
            "zerolinecolor": "white"
           },
           "zaxis": {
            "backgroundcolor": "#E5ECF6",
            "gridcolor": "white",
            "gridwidth": 2,
            "linecolor": "white",
            "showbackground": true,
            "ticks": "",
            "zerolinecolor": "white"
           }
          },
          "shapedefaults": {
           "line": {
            "color": "#2a3f5f"
           }
          },
          "ternary": {
           "aaxis": {
            "gridcolor": "white",
            "linecolor": "white",
            "ticks": ""
           },
           "baxis": {
            "gridcolor": "white",
            "linecolor": "white",
            "ticks": ""
           },
           "bgcolor": "#E5ECF6",
           "caxis": {
            "gridcolor": "white",
            "linecolor": "white",
            "ticks": ""
           }
          },
          "title": {
           "x": 0.05
          },
          "xaxis": {
           "automargin": true,
           "gridcolor": "white",
           "linecolor": "white",
           "ticks": "",
           "title": {
            "standoff": 15
           },
           "zerolinecolor": "white",
           "zerolinewidth": 2
          },
          "yaxis": {
           "automargin": true,
           "gridcolor": "white",
           "linecolor": "white",
           "ticks": "",
           "title": {
            "standoff": 15
           },
           "zerolinecolor": "white",
           "zerolinewidth": 2
          }
         }
        },
        "title": {
         "text": "Mean Calories Consumed by Participant 39 per Meal Type"
        },
        "xaxis": {
         "anchor": "y",
         "categoryarray": [
          "breakfast",
          "dinner",
          "lunch",
          "snack"
         ],
         "categoryorder": "array",
         "domain": [
          0,
          1
         ],
         "title": {
          "text": "Meal Type"
         }
        },
        "yaxis": {
         "anchor": "x",
         "domain": [
          0,
          1
         ],
         "title": {
          "text": "Mean Calories"
         }
        }
       }
      }
     },
     "metadata": {},
     "output_type": "display_data"
    }
   ],
   "source": [
    "# Compute the mean Calories per Meal Type\n",
    "df_calories_mean = df_macro039_clean.groupby(\"Meal Type\")[\"Calories\"].mean().reset_index()\n",
    "\n",
    "# Create a bar plot of mean Calories per Meal Type\n",
    "fig = px.bar(\n",
    "    df_calories_mean,\n",
    "    x=\"Meal Type\",\n",
    "    y=\"Calories\",\n",
    "    labels={\"Calories\": \"Mean Calories\"},\n",
    "    color=\"Meal Type\",\n",
    "    title=\"Mean Calories Consumed by Participant 39 per Meal Type\"\n",
    ")\n",
    "fig.show()"
   ]
  },
  {
   "cell_type": "code",
   "execution_count": null,
   "metadata": {},
   "outputs": [],
   "source": []
  }
 ],
 "metadata": {
  "kernelspec": {
   "display_name": "dsc80",
   "language": "python",
   "name": "python3"
  },
  "language_info": {
   "codemirror_mode": {
    "name": "ipython",
    "version": 3
   },
   "file_extension": ".py",
   "mimetype": "text/x-python",
   "name": "python",
   "nbconvert_exporter": "python",
   "pygments_lexer": "ipython3",
   "version": "3.12.6"
  }
 },
 "nbformat": 4,
 "nbformat_minor": 2
}
